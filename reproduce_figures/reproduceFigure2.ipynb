{
 "cells": [
  {
   "cell_type": "markdown",
   "id": "1400cac3",
   "metadata": {
    "jp-MarkdownHeadingCollapsed": true,
    "tags": []
   },
   "source": [
    "# Reproduce Figure 2\n",
    "- Py kernel"
   ]
  },
  {
   "cell_type": "code",
   "execution_count": 1,
   "id": "2bd250c7",
   "metadata": {},
   "outputs": [],
   "source": [
    "import pandas as pd\n",
    "import numpy as np\n",
    "from scipy import stats\n",
    "import matplotlib.pyplot as plt\n",
    "import seaborn as sns\n",
    "\n",
    "import sys\n",
    "sys.path.insert(1, '/Users/brinkley97/Documents/development/')\n",
    "import my_created_functions"
   ]
  },
  {
   "cell_type": "markdown",
   "id": "ac1a5924",
   "metadata": {
    "jp-MarkdownHeadingCollapsed": true,
    "tags": []
   },
   "source": [
    "# Load Data"
   ]
  },
  {
   "cell_type": "code",
   "execution_count": 2,
   "id": "f0c45675",
   "metadata": {},
   "outputs": [],
   "source": [
    "path_to_data =  \"lab-kcad/datasets/tiles_dataset/\" \n",
    "work_data = \"figure_2/physical/diurnal_work_lm_6.csv.gz\"\n",
    "off_data = \"figure_2/physical/diurnal_off_lm_6.csv.gz\""
   ]
  },
  {
   "cell_type": "code",
   "execution_count": 3,
   "id": "13f8e558",
   "metadata": {},
   "outputs": [],
   "source": [
    "work_df = my_created_functions.load_gzip_csv_data(path_to_data, work_data)\n",
    "off_df = my_created_functions.load_gzip_csv_data(path_to_data, off_data)"
   ]
  },
  {
   "cell_type": "markdown",
   "id": "f9a30aaf",
   "metadata": {
    "jp-MarkdownHeadingCollapsed": true,
    "tags": []
   },
   "source": [
    "# Modify Pandas DataFrames"
   ]
  },
  {
   "cell_type": "code",
   "execution_count": 4,
   "id": "bda46802",
   "metadata": {},
   "outputs": [],
   "source": [
    "def modify_df(work_df, off_df):\n",
    "    '''Modify work and off terminology (Dataframe column headings and values) to match those in the specific questions\n",
    "    \n",
    "    Arguments:\n",
    "    work_df -- Pandas Dataframe\n",
    "    off_df -- Pandas Dataframe\n",
    "    \n",
    "    Return: \n",
    "    updated work df, updated off df, a combination of both -- Pandas Dataframes in tuple\n",
    "    '''\n",
    "\n",
    "    day_map = {'4th': \"11:00–15:00 h\", '5th': \"15:00–19:00 h\", '6th': \"19:00–23:00 h\", '1st': \"23:00–3:00 h\", '2nd': \"3:00–7:00 h\", '3rd': \"7:00–11:00 h\"}\n",
    "    night_map = {'1st': '23:00–3:00 h', '2nd': '3:00–7:00 h', '3rd': '7:00–11:00 h', '4th': '11:00–15:00 h', '5th': '15:00–19:00 h', '6th': '19:00–23:00 h'}\n",
    "    \n",
    "    work_df_copy = work_df.copy()\n",
    "    work_df_copy = work_df_copy.drop(columns=[\"id\", \"age\",  \"gender\"])\n",
    "    update_work_df = work_df_copy.replace({\"time\": day_map})\n",
    "    \n",
    "    off_df_copy = off_df.copy()\n",
    "    off_df_copy = off_df_copy.drop(columns=[\"id\", \"age\",  \"gender\"])\n",
    "    update_off_df = off_df_copy.replace({\"time\": night_map})\n",
    "\n",
    "    combine_dfs = pd.concat([update_work_df, update_off_df])\n",
    "    combine_dfs = combine_dfs.reset_index(drop=True)\n",
    "    return update_work_df, update_off_df, combine_dfs"
   ]
  },
  {
   "cell_type": "code",
   "execution_count": 5,
   "id": "cbd023ba-44ec-4698-986a-928955406df8",
   "metadata": {},
   "outputs": [],
   "source": [
    "modified_work_df, modified_off_df, combine_dfs = modify_df(work_df, off_df)"
   ]
  },
  {
   "cell_type": "markdown",
   "id": "4b6f1096",
   "metadata": {},
   "source": [
    "# Load Generated Specific Questions"
   ]
  },
  {
   "cell_type": "code",
   "execution_count": 6,
   "id": "8497e886",
   "metadata": {},
   "outputs": [],
   "source": [
    "base = \"/Users/brinkley97/Documents/development/lab-kcad/\"\n",
    "generated_sq_file = \"TGN10Plus/generateSpecificQuestions.ipynb\"\n",
    "figure_2_specific_questions = base + generated_sq_file"
   ]
  },
  {
   "cell_type": "code",
   "execution_count": 7,
   "id": "9872951b",
   "metadata": {},
   "outputs": [],
   "source": [
    "# %load figure_2_specific_questions\n",
    "/Users/brinkley97/Documents/development/lab-kcad/TGN10Plus/generateSpecificQuestions.ipynb"
   ]
  },
  {
   "cell_type": "code",
   "execution_count": 8,
   "id": "e585ab9a",
   "metadata": {},
   "outputs": [],
   "source": [
    "%run \"../generateSpecificQuestions.ipynb\""
   ]
  },
  {
   "cell_type": "code",
   "execution_count": 10,
   "id": "214b8649",
   "metadata": {},
   "outputs": [],
   "source": [
    "# figure_2_sqs"
   ]
  },
  {
   "cell_type": "markdown",
   "id": "53f20c95-2314-4bb4-849a-c6271da4b529",
   "metadata": {},
   "source": [
    "# Run Analysis"
   ]
  },
  {
   "cell_type": "markdown",
   "id": "928c0cf4-557b-4eed-bf2f-baa5319f1263",
   "metadata": {
    "jp-MarkdownHeadingCollapsed": true,
    "tags": []
   },
   "source": [
    "## Create Plots"
   ]
  },
  {
   "cell_type": "code",
   "execution_count": 10,
   "id": "ccc7352c-712b-4457-ae97-85a7e72d0c3c",
   "metadata": {},
   "outputs": [],
   "source": [
    "def create2_plot(night_shift_at_work, day_shift_at_work, night_shift_off_work, day_shift_off_work, ontology_to_find, time):\n",
    "    '''\n",
    "    '''\n",
    "    plt_df = pd.concat([night_shift_at_work, day_shift_at_work, night_shift_off_work, day_shift_off_work])\n",
    "    plt_df = plt_df.reset_index()\n",
    "    # print(plt_df)\n",
    "    data = []\n",
    "    if ontology_to_find == \"rest\":\n",
    "        p = sns.barplot(x=\"work\", y=\"rest\", data=plt_df, hue=\"shift\", palette=\"seismic\")\n",
    "        # print(ontology_to_find)\n",
    "        for value in p.containers:\n",
    "            p.bar_label(value, )\n",
    "            # print(p.bar_label(value, ))\n",
    "        p.set(title=time)\n",
    "        plt.show()\n",
    "        print()\n",
    "        \n",
    "    elif ontology_to_find == \"step_ratio\":\n",
    "        p = sns.barplot(x=\"work\", y=\"step_ratio\", data=plt_df, hue=\"shift\", palette=\"seismic\")\n",
    "        # print(ontology_to_find)\n",
    "        for value in p.containers:\n",
    "            p.bar_label(value, )\n",
    "            # print(p.bar_label(value), )\n",
    "        p.set(title=time)\n",
    "        plt.show()\n",
    "        print()\n",
    "        \n",
    "    \n",
    "    return "
   ]
  },
  {
   "cell_type": "markdown",
   "id": "04759633-d4be-4d3b-9306-2a5a08fb88ce",
   "metadata": {},
   "source": [
    "## Independent TTest - Figure 2"
   ]
  },
  {
   "cell_type": "code",
   "execution_count": 66,
   "id": "ae802c5b-1bec-4e9d-a88d-9c41ccb85e20",
   "metadata": {},
   "outputs": [],
   "source": [
    "def calculate_ttest_ind(f2_specific_question, split_f2_sq_into_words, work_df, off_df, ontology_to_find):\n",
    "    '''Calculate the p-value for... \n",
    "        - hours-work-day-rest\n",
    "        - hours-off-day-rest\n",
    "        \n",
    "        - hours-work-night-rest\n",
    "        - hours-off-night-rest\n",
    "        \n",
    "        - hours-work-day-step_ratio\n",
    "        - hours-off-day-step_ratio\n",
    "        \n",
    "        - hours-work-night-step_ratio\n",
    "        - hours-off-night-step_ratio\n",
    "        \n",
    "    Run \"code/physical/plot_diurnal_data.py\" to check results\n",
    "    \n",
    "    Arguments:\n",
    "    f2_specific_question -- string\n",
    "    split_f2_sq_into_words -- list\n",
    "    work_df -- Pandas Dataframe\n",
    "    off_df -- Pandas Dataframe\n",
    "    ontology_to_find -- string\n",
    "    \n",
    "    Return:\n",
    "    p-values -- Pandas Dataframe\n",
    "    '''\n",
    "    \n",
    "    print(f2_specific_question)\n",
    "    filter_shifts = [\"day\", \"night\"]\n",
    "    filter_times = list(ontology_mappings.values())[5]\n",
    "    \n",
    "    # empty; will fill later\n",
    "    store_p_values_in_df = pd.DataFrame(index=filter_times)\n",
    "    \n",
    "    group_by_time_work_df = work_df.set_index([\"time\"])\n",
    "    group_by_time_off_df = off_df.set_index([\"time\"])\n",
    "   \n",
    "    for time_idx in range(len(split_f2_sq_into_words)):\n",
    "        \n",
    "        time = split_f2_sq_into_words[time_idx]\n",
    "        if time in filter_times:\n",
    "            \n",
    "            '''\n",
    "            Work DF\n",
    "            '''\n",
    "            work_by_time = group_by_time_work_df.loc[time]\n",
    "            # print(\"\\n\", work_by_time, \"---\")\n",
    "            \n",
    "            day_shift_at_work = work_by_time.loc[work_by_time[\"shift\"] == \"day\"]\n",
    "            # print(time, \"\\n\", \"work\", \"day\", day_shift_at_work)\n",
    "                \n",
    "            night_shift_at_work = work_by_time.loc[work_by_time[\"shift\"] == \"night\"]\n",
    "            # print(time, \"\\n\", \"work\", \"night\", night_shift_at_work)\n",
    "                \n",
    "            # meadian_day, mean_day = np.round(np.nanmedian(work_shift_day[ontology_to_find]) * 100, 6), np.round(np.nanmean(work_shift_day[ontology_to_find]) * 100, 6)\n",
    "            # print(\"work\", \"day\", time, meadian_day, mean_day)\n",
    "            \n",
    "            # meadian_night, mean_night = np.round(np.nanmedian(work_shift_day[ontology_to_find]) * 100, 6), np.round(np.nanmean(work_shift_day[ontology_to_find]) * 100, 6)\n",
    "            # print(\"work\", \"night\", time, meadian_day, mean_night)\n",
    "            \n",
    "            stats_value, work_p_value = stats.ttest_ind(np.array(day_shift_at_work[ontology_to_find]), np.array(night_shift_at_work[ontology_to_find]))\n",
    "            # print(\"work\", time, work_p_value)\n",
    "            \n",
    "            if work_p_value < 0.01:\n",
    "                print(\"work\", time, work_p_value, '**')\n",
    "            elif work_p_value < 0.05:\n",
    "                print(\"work\", time, work_p_value, '*')\n",
    "            else:\n",
    "                print(\"work\", time, work_p_value)\n",
    "            \n",
    "            '''\n",
    "            Off DF\n",
    "            '''\n",
    "            off_by_time = group_by_time_off_df.loc[time]\n",
    "            # print(\"\\n\", off_by_time, \"---\")\n",
    "                \n",
    "            day_shift_off_work = off_by_time.loc[off_by_time[\"shift\"] == \"day\"]\n",
    "            # print(time, \"\\n\", \"off\", \"day\", day_shift_off_work)\n",
    "                \n",
    "            night_shift_off_work = off_by_time.loc[off_by_time[\"shift\"] == \"night\"]\n",
    "            # print(time, \"\\n\", \"off\", \"night\", night_shift_off_work)\n",
    "            \n",
    "            stats_value, off_p_value = stats.ttest_ind(np.array(day_shift_off_work[ontology_to_find]), np.array(night_shift_off_work[ontology_to_find]))\n",
    "            \n",
    "            if off_p_value < 0.01:\n",
    "                print(\"off\", time, off_p_value, '**')\n",
    "            elif off_p_value < 0.05:\n",
    "                print(\"off\", time, off_p_value, '*')\n",
    "            else:\n",
    "                print(\"off\", time, off_p_value) \n",
    "               \n",
    "            '''\n",
    "            Create Plot\n",
    "            '''\n",
    "            # create2_plot(night_shift_at_work, day_shift_at_work, night_shift_off_work, day_shift_off_work, ontology_to_find, time)\n",
    "            \n",
    "            # df = create_plot(work_by_time, off_by_time, ontology_to_find)\n",
    "            # print(df)\n",
    "            \n",
    "            store_p_values_in_df.loc[time, \"p-val\"] = work_p_value\n",
    "            store_p_values_in_df.loc[time, \"p-val\"] = off_p_value\n",
    "            print()\n",
    "            \n",
    "    print(\"\\n------------------------------------------\\n\")\n",
    "    \n",
    "    return store_p_values_in_df"
   ]
  },
  {
   "cell_type": "code",
   "execution_count": 67,
   "id": "eb2e1d8b",
   "metadata": {},
   "outputs": [],
   "source": [
    "def figure_two(figure_2_specific_questions, work_df, off_df):\n",
    "    '''Reproduce Table 2\n",
    "    \n",
    "    Arguments:\n",
    "    figure_2_specific_questions -- list\n",
    "    work_df -- Dataframe\n",
    "    off_df -- Dataframe\n",
    "    \n",
    "    Function:\n",
    "    calculate_ttest_ind()\n",
    "    \n",
    "    Return:\n",
    "    nothing; everything is being printed in calculate_ttest_ind()\n",
    "    '''\n",
    "   \n",
    "    filter_physiological = [\"rest\", \"step_ratio\"]\n",
    "    \n",
    "    for figure_2_specific_question_idx in range(len(figure_2_specific_questions)):\n",
    "        f2_specific_question = figure_2_specific_questions[figure_2_specific_question_idx]\n",
    "        split_f2_sq_into_words = f2_specific_question.split(\"*\")\n",
    "        \n",
    "        work_df = work_df.reset_index(drop=True)        \n",
    "        off_df = off_df.reset_index(drop=True)\n",
    "        \n",
    "        for filter_physiological_idx in range(len(filter_physiological)):\n",
    "            \n",
    "            ontology_to_find = filter_physiological[filter_physiological_idx]\n",
    "            \n",
    "            # only get f2's specific questions that include rest and step_ratio (per the original analysis study)\n",
    "            if ontology_to_find in split_f2_sq_into_words:\n",
    "                \n",
    "                work_df[\"type\"] = ontology_to_find\n",
    "                work_df[ontology_to_find] = work_df[ontology_to_find]\n",
    "                modified_work_df = work_df.loc[0:, [\"work\", \"time\", ontology_to_find, \"shift\", \"type\"]]\n",
    "                \n",
    "                off_df[\"type\"] = ontology_to_find\n",
    "                off_df[ontology_to_find] = off_df[ontology_to_find]\n",
    "                modified_off_df = off_df.loc[0:, [\"work\", \"time\", ontology_to_find, \"shift\", \"type\"]]\n",
    "                \n",
    "                p_value = calculate_ttest_ind(f2_specific_question, split_f2_sq_into_words, modified_work_df, modified_off_df, ontology_to_find)\n",
    "                # print(p_val)\n",
    "    return "
   ]
  },
  {
   "cell_type": "code",
   "execution_count": 68,
   "id": "b279525d-f162-4993-bea0-32ae23fcc22b",
   "metadata": {},
   "outputs": [
    {
     "name": "stdout",
     "output_type": "stream",
     "text": [
      "on both *work_1* day and *work_2* day, what is the effect of primarily *day-shift* nurses and primarily *night-shift* nurses on *rest* between the hours of *23:00–3:00 h* ?\n",
      "work 23:00–3:00 h 0.0015494236117052733 **\n",
      "off 23:00–3:00 h 0.8501148450822772\n",
      "\n",
      "\n",
      "------------------------------------------\n",
      "\n",
      "on both *work_1* day and *work_2* day, what is the effect of primarily *day-shift* nurses and primarily *night-shift* nurses on *rest* between the hours of *3:00–7:00 h* ?\n",
      "work 3:00–7:00 h 0.034467656157217745 *\n",
      "off 3:00–7:00 h 0.3176447299854959\n",
      "\n",
      "\n",
      "------------------------------------------\n",
      "\n",
      "on both *work_1* day and *work_2* day, what is the effect of primarily *day-shift* nurses and primarily *night-shift* nurses on *rest* between the hours of *7:00–11:00 h* ?\n",
      "work 7:00–11:00 h 8.619878000514936e-08 **\n",
      "off 7:00–11:00 h 4.227081558573983e-05 **\n",
      "\n",
      "\n",
      "------------------------------------------\n",
      "\n",
      "on both *work_1* day and *work_2* day, what is the effect of primarily *day-shift* nurses and primarily *night-shift* nurses on *rest* between the hours of *11:00–15:00 h* ?\n",
      "work 11:00–15:00 h 3.4607602310832224e-10 **\n",
      "off 11:00–15:00 h 0.0014633834767751209 **\n",
      "\n",
      "\n",
      "------------------------------------------\n",
      "\n",
      "on both *work_1* day and *work_2* day, what is the effect of primarily *day-shift* nurses and primarily *night-shift* nurses on *rest* between the hours of *15:00–19:00 h* ?\n",
      "work 15:00–19:00 h 0.0005307693939729534 **\n",
      "off 15:00–19:00 h 0.006678714852473861 **\n",
      "\n",
      "\n",
      "------------------------------------------\n",
      "\n",
      "on both *work_1* day and *work_2* day, what is the effect of primarily *day-shift* nurses and primarily *night-shift* nurses on *rest* between the hours of *19:00–23:00 h* ?\n",
      "work 19:00–23:00 h 0.8008084258659025\n",
      "off 19:00–23:00 h 0.1464445427328482\n",
      "\n",
      "\n",
      "------------------------------------------\n",
      "\n",
      "on both *work_1* day and *work_2* day, what is the effect of primarily *day-shift* nurses and primarily *night-shift* nurses on *step_ratio* between the hours of *23:00–3:00 h* ?\n",
      "work 23:00–3:00 h 2.1463467833818168e-33 **\n",
      "off 23:00–3:00 h 5.306927114013059e-06 **\n",
      "\n",
      "\n",
      "------------------------------------------\n",
      "\n",
      "on both *work_1* day and *work_2* day, what is the effect of primarily *day-shift* nurses and primarily *night-shift* nurses on *step_ratio* between the hours of *3:00–7:00 h* ?\n",
      "work 3:00–7:00 h 5.311761860749199e-21 **\n",
      "off 3:00–7:00 h 0.14829524221450843\n",
      "\n",
      "\n",
      "------------------------------------------\n",
      "\n",
      "on both *work_1* day and *work_2* day, what is the effect of primarily *day-shift* nurses and primarily *night-shift* nurses on *step_ratio* between the hours of *7:00–11:00 h* ?\n",
      "work 7:00–11:00 h 2.3298803477898946e-22 **\n",
      "off 7:00–11:00 h 2.6927856089169106e-05 **\n",
      "\n",
      "\n",
      "------------------------------------------\n",
      "\n",
      "on both *work_1* day and *work_2* day, what is the effect of primarily *day-shift* nurses and primarily *night-shift* nurses on *step_ratio* between the hours of *11:00–15:00 h* ?\n",
      "work 11:00–15:00 h 1.368386354807489e-32 **\n",
      "off 11:00–15:00 h 0.00028027978678934085 **\n",
      "\n",
      "\n",
      "------------------------------------------\n",
      "\n",
      "on both *work_1* day and *work_2* day, what is the effect of primarily *day-shift* nurses and primarily *night-shift* nurses on *step_ratio* between the hours of *15:00–19:00 h* ?\n",
      "work 15:00–19:00 h 5.417898460906521e-17 **\n",
      "off 15:00–19:00 h 0.01831631534172437 *\n",
      "\n",
      "\n",
      "------------------------------------------\n",
      "\n",
      "on both *work_1* day and *work_2* day, what is the effect of primarily *day-shift* nurses and primarily *night-shift* nurses on *step_ratio* between the hours of *19:00–23:00 h* ?\n",
      "work 19:00–23:00 h 1.8004851251580789e-12 **\n",
      "off 19:00–23:00 h 0.2057184692438495\n",
      "\n",
      "\n",
      "------------------------------------------\n",
      "\n"
     ]
    }
   ],
   "source": [
    "figure_two(figure_2_sqs, modified_work_df, modified_off_df)"
   ]
  },
  {
   "cell_type": "code",
   "execution_count": null,
   "id": "ee7ae7f2-3c4e-4c66-9e57-5d26de3ec1b2",
   "metadata": {},
   "outputs": [],
   "source": []
  }
 ],
 "metadata": {
  "kernelspec": {
   "display_name": "Python 3 (ipykernel)",
   "language": "python",
   "name": "python3"
  },
  "language_info": {
   "codemirror_mode": {
    "name": "ipython",
    "version": 3
   },
   "file_extension": ".py",
   "mimetype": "text/x-python",
   "name": "python",
   "nbconvert_exporter": "python",
   "pygments_lexer": "ipython3",
   "version": "3.9.13"
  }
 },
 "nbformat": 4,
 "nbformat_minor": 5
}
