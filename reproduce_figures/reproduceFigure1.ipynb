{
 "cells": [
  {
   "cell_type": "markdown",
   "id": "8bdecf4a",
   "metadata": {},
   "source": [
    "# Reproduce Figure 1\n",
    "- Py kernel with R script\n",
    "- Verify by looking at [Figure 1 in the Original Analysis paper](https://www.nature.com/articles/s41598-021-87029-w?proof=t%25C2%25A0) and by running `emas.R` [Original version](https://github.com/usc-sail/tiles-day-night/blob/main/code/ground_truth/mgt_lm.R). Be sure to configure your file paths."
   ]
  },
  {
   "cell_type": "code",
   "execution_count": 1,
   "id": "258a1379",
   "metadata": {},
   "outputs": [],
   "source": [
    "import pandas as pd\n",
    "import numpy as np"
   ]
  },
  {
   "cell_type": "markdown",
   "id": "572e2ce5",
   "metadata": {},
   "source": [
    "# Load Data"
   ]
  },
  {
   "cell_type": "code",
   "execution_count": 2,
   "id": "ca556222",
   "metadata": {},
   "outputs": [],
   "source": [
    "base = \"/Users/brinkley97/Documents/development/lab-kcad/\"\n",
    "path_to_file = \"datasets/tiles_dataset/table_1/\"\n",
    "name_of_file = \"mgt_lm.csv.gz\"\n",
    "mgt_lm_file = base + path_to_file + name_of_file"
   ]
  },
  {
   "cell_type": "code",
   "execution_count": 3,
   "id": "a48c9729",
   "metadata": {},
   "outputs": [],
   "source": [
    "def load_data(file):\n",
    "    \n",
    "    original_data = pd.read_csv(file)\n",
    "    copy_of_data = original_data.copy()\n",
    "    \n",
    "    return copy_of_data"
   ]
  },
  {
   "cell_type": "code",
   "execution_count": 4,
   "id": "78027893",
   "metadata": {},
   "outputs": [],
   "source": [
    "mgt_df = load_data(mgt_lm_file)"
   ]
  },
  {
   "cell_type": "markdown",
   "id": "7cc108f5",
   "metadata": {},
   "source": [
    "# Load Generated Specific Questions"
   ]
  },
  {
   "cell_type": "code",
   "execution_count": 5,
   "id": "14ec4966",
   "metadata": {},
   "outputs": [],
   "source": [
    "%run \"../generateSpecificQuestions.ipynb\""
   ]
  },
  {
   "cell_type": "code",
   "execution_count": 6,
   "id": "fbcdeb51",
   "metadata": {},
   "outputs": [
    {
     "data": {
      "text/plain": [
       "['on both *work* day and *off* day, what are differences in primarily *day-shift* nurses and primarily *night-shift* nurses for *EMA Anxiety*?',\n",
       " 'on both *work* day and *off* day, what are differences in primarily *day-shift* nurses and primarily *night-shift* nurses for *EMA Stess*?',\n",
       " 'on both *work* day and *off* day, what are differences in primarily *day-shift* nurses and primarily *night-shift* nurses for *EMA Positive Affect*?',\n",
       " 'on both *work* day and *off* day, what are differences in primarily *day-shift* nurses and primarily *night-shift* nurses for *EMA Negative Affect*?']"
      ]
     },
     "execution_count": 6,
     "metadata": {},
     "output_type": "execute_result"
    }
   ],
   "source": [
    "figure_1_ema_sqs"
   ]
  },
  {
   "cell_type": "code",
   "execution_count": 7,
   "id": "3902c154",
   "metadata": {},
   "outputs": [],
   "source": [
    "ema_values = ontology_mappings[\"ema\"]\n",
    "# ema_values"
   ]
  },
  {
   "cell_type": "markdown",
   "id": "ca93527c",
   "metadata": {},
   "source": [
    "# Integrate R"
   ]
  },
  {
   "cell_type": "code",
   "execution_count": 8,
   "id": "facbbac4",
   "metadata": {},
   "outputs": [],
   "source": [
    "import rpy2.robjects as robjects\n",
    "import rpy2.robjects.packages as rpackages\n",
    "\n",
    "# load and activate() bc if NOT error (Conversion 'py2rpy' not defined for objects of type '<class 'pandas.core.frame.DataFrame'>') will appear\n",
    "from rpy2.robjects import pandas2ri\n",
    "pandas2ri.activate()\n",
    "\n",
    "report = rpackages.importr('report')"
   ]
  },
  {
   "cell_type": "markdown",
   "id": "e591f2ed",
   "metadata": {},
   "source": [
    "# Produce Figure 1"
   ]
  },
  {
   "cell_type": "code",
   "execution_count": 17,
   "id": "5c81dc26",
   "metadata": {},
   "outputs": [],
   "source": [
    "def calculate_ema(ema_df, specific_ema):\n",
    "    '''Integrate py and r to compare differences in reported EMAs (Anxiety, Stress, PA, and NA)\n",
    "    \n",
    "    Arguments:\n",
    "    ema_df -- pd DataFrame (with all ema variables)\n",
    "    specific_ema -- py str (of either Anxiety, Stress, PA, and NA)\n",
    "    \n",
    "    Return:\n",
    "    linear mixed model (lmer) for each ema variable\n",
    "    '''\n",
    "\n",
    "    r_objects = robjects.r\n",
    "    r_objects.source(\"figure1-ema.R\")\n",
    "    if specific_ema == 'EMA Anxiety':\n",
    "        anxiety_df = r_objects.anxiety_model(ema_df)\n",
    "        # print(anxiety_df)\n",
    "        return anxiety_df\n",
    "    elif specific_ema == 'EMA Stess':\n",
    "        stress_df = r_objects.stress_model(ema_df)\n",
    "        # print(stress_df)\n",
    "        return stress_df\n",
    "    elif specific_ema == 'EMA Positive Affect':\n",
    "        pa_df = r_objects.pa_model(ema_df)\n",
    "        # print(pa_df)\n",
    "        return pa_df\n",
    "    elif specific_ema == 'EMA Negative Affect':\n",
    "        na_df = r_objects.na_model(ema_df)\n",
    "        # print(na_df)\n",
    "        return na_df\n",
    "        "
   ]
  },
  {
   "cell_type": "code",
   "execution_count": 18,
   "id": "041fa476",
   "metadata": {},
   "outputs": [],
   "source": [
    "def figure_1(figure_1_specific_questions, sleep_df, ema_values):\n",
    "    '''Reproduce Figure_1\n",
    "    \n",
    "    Arguments:\n",
    "    figure_1_specific_questions -- py list\n",
    "    sleep_df -- pd Dataframe\n",
    "    \n",
    "    Functions:\n",
    "    calculate_anova()\n",
    "    \n",
    "    Return:\n",
    "    nothing; everything is being printed in calculate_anova()\n",
    "    '''\n",
    "    \n",
    "    for figure_1_specific_question_idx in range(len(figure_1_specific_questions)):\n",
    "        figure_1_specific_question = figure_1_specific_questions[figure_1_specific_question_idx]\n",
    "        print(figure_1_specific_question_idx, \"figure_1_specific_question : \", figure_1_specific_question)\n",
    "        \n",
    "        word_in_specific_question = figure_1_specific_question.split(\"*\")\n",
    "        for ema_value in ema_values:\n",
    "            \n",
    "            if ema_value in word_in_specific_question:\n",
    "                print(ema_value, True)\n",
    "                calculate_ema(sleep_df, ema_value)\n",
    "                print()\n",
    "                print(\"============================================================================\")\n",
    "                print()\n",
    "        "
   ]
  },
  {
   "cell_type": "code",
   "execution_count": 19,
   "id": "a5914a6d",
   "metadata": {},
   "outputs": [
    {
     "name": "stdout",
     "output_type": "stream",
     "text": [
      "0 figure_1_specific_question :  on both *work* day and *off* day, what are differences in primarily *day-shift* nurses and primarily *night-shift* nurses for *EMA Anxiety*?\n",
      "EMA Anxiety True\n"
     ]
    },
    {
     "name": "stderr",
     "output_type": "stream",
     "text": [
      "R[write to console]: Note: D.f. calculations have been disabled because the number of observations exceeds 3000.\n",
      "To enable adjustments, add the argument 'pbkrtest.limit = 5947' (or larger)\n",
      "[or, globally, 'set emm_options(pbkrtest.limit = 5947)' or larger];\n",
      "but be warned that this may result in large computation time and memory use.\n",
      "\n",
      "R[write to console]: Note: D.f. calculations have been disabled because the number of observations exceeds 3000.\n",
      "To enable adjustments, add the argument 'lmerTest.limit = 5947' (or larger)\n",
      "[or, globally, 'set emm_options(lmerTest.limit = 5947)' or larger];\n",
      "but be warned that this may result in large computation time and memory use.\n",
      "\n",
      "R[write to console]: NOTE: Results may be misleading due to involvement in interactions\n",
      "\n"
     ]
    },
    {
     "name": "stdout",
     "output_type": "stream",
     "text": [
      "Linear mixed model fit by REML ['lmerMod']\n",
      "Formula: anxiety ~ work + shift + shift:work + (1 | id)\n",
      "   Data: df\n",
      "\n",
      "REML criterion at convergence: 12104.2\n",
      "\n",
      "Scaled residuals: \n",
      "    Min      1Q  Median      3Q     Max \n",
      "-2.8758 -0.5022 -0.1583  0.4115  6.0287 \n",
      "\n",
      "Random effects:\n",
      " Groups   Name        Variance Std.Dev.\n",
      " id       (Intercept) 0.2026   0.4501  \n",
      " Residual             0.4214   0.6492  \n",
      "Number of obs: 5947, groups:  id, 107\n",
      "\n",
      "Fixed effects:\n",
      "                    Estimate Std. Error t value\n",
      "(Intercept)          1.44712    0.05770  25.079\n",
      "workwork             0.13404    0.02190   6.121\n",
      "shiftnight           0.06139    0.09337   0.657\n",
      "workwork:shiftnight  0.04833    0.03632   1.331\n",
      "\n",
      "Correlation of Fixed Effects:\n",
      "            (Intr) wrkwrk shftng\n",
      "workwork    -0.202              \n",
      "shiftnight  -0.618  0.125       \n",
      "wrkwrk:shft  0.122 -0.603 -0.207\n",
      " work emmean     SE  df asymp.LCL asymp.UCL\n",
      " off    1.48 0.0467 Inf      1.39      1.57\n",
      " work   1.64 0.0465 Inf      1.54      1.73\n",
      "\n",
      "Results are averaged over the levels of: shift \n",
      "Degrees-of-freedom method: asymptotic \n",
      "Confidence level used: 0.95 \n",
      "[1] \"-----------------------------------\"\n",
      "[1] \"-----------------------------------\"\n",
      "We fitted a linear mixed model (estimated using REML and nloptwrap optimizer)\n",
      "to predict anxiety with work and shift\n",
      " (formula: anxiety ~ work + shift + shift:work). The model included id\n",
      " as random effect (formula: ~1 | id). The model's total explanatory power is\n",
      "substantial (conditional R2 = 0.33) and the part related to the fixed effects\n",
      "alone (marginal R2) is of 0.01. The model's intercept, corresponding to work =\n",
      "off and shift = day\n",
      ", is at 1.45 (95% CI [1.33, 1.56], t(5941) = 25.08, p < .001). Within this\n",
      "model:\n",
      "\n",
      "  - The effect of work [work] is statistically significant and positive (beta =\n",
      "0.13, 95% CI [0.09, 0.18], t(5941) = 6.12, p < .001; Std. beta = 0.17, 95% CI\n",
      "[0.11, 0.22])\n",
      "  - The effect of shift [night] is statistically non-significant and positive\n",
      "(beta = 0.06, 95% CI [-0.12, 0.24], t(5941) = 0.66, p = 0.511; Std. beta =\n",
      "0.08, 95% CI [-0.15, 0.30])\n",
      "  - The interaction effect of shift [night] on work [work] is statistically\n",
      "non-significant and positive (beta = 0.05, 95% CI [-0.02, 0.12], t(5941) =\n",
      "1.33, p = 0.183; Std. beta = 0.06, 95% CI [-0.03, 0.15])\n",
      "\n",
      "Standardized parameters were obtained by fitting the model on a standardized\n",
      "version of the dataset. 95% Confidence Intervals (CIs) and p-values were\n",
      "computed using a Wald t-distribution approximation.\n",
      "\n",
      "============================================================================\n",
      "\n",
      "1 figure_1_specific_question :  on both *work* day and *off* day, what are differences in primarily *day-shift* nurses and primarily *night-shift* nurses for *EMA Stess*?\n",
      "EMA Stess True\n"
     ]
    },
    {
     "name": "stderr",
     "output_type": "stream",
     "text": [
      "R[write to console]: Note: D.f. calculations have been disabled because the number of observations exceeds 3000.\n",
      "To enable adjustments, add the argument 'pbkrtest.limit = 5947' (or larger)\n",
      "[or, globally, 'set emm_options(pbkrtest.limit = 5947)' or larger];\n",
      "but be warned that this may result in large computation time and memory use.\n",
      "\n",
      "R[write to console]: Note: D.f. calculations have been disabled because the number of observations exceeds 3000.\n",
      "To enable adjustments, add the argument 'lmerTest.limit = 5947' (or larger)\n",
      "[or, globally, 'set emm_options(lmerTest.limit = 5947)' or larger];\n",
      "but be warned that this may result in large computation time and memory use.\n",
      "\n",
      "R[write to console]: NOTE: Results may be misleading due to involvement in interactions\n",
      "\n"
     ]
    },
    {
     "name": "stdout",
     "output_type": "stream",
     "text": [
      "Linear mixed model fit by REML ['lmerMod']\n",
      "Formula: stressd ~ work * shift + (1 | id)\n",
      "   Data: df\n",
      "\n",
      "REML criterion at convergence: 14606.1\n",
      "\n",
      "Scaled residuals: \n",
      "    Min      1Q  Median      3Q     Max \n",
      "-2.9065 -0.6259 -0.1919  0.5852  4.6215 \n",
      "\n",
      "Random effects:\n",
      " Groups   Name        Variance Std.Dev.\n",
      " id       (Intercept) 0.2667   0.5164  \n",
      " Residual             0.6437   0.8023  \n",
      "Number of obs: 5947, groups:  id, 107\n",
      "\n",
      "Fixed effects:\n",
      "                    Estimate Std. Error t value\n",
      "(Intercept)          1.69525    0.06661  25.451\n",
      "workwork             0.33916    0.02705  12.536\n",
      "shiftnight           0.06183    0.10781   0.574\n",
      "workwork:shiftnight -0.02936    0.04488  -0.654\n",
      "\n",
      "Correlation of Fixed Effects:\n",
      "            (Intr) wrkwrk shftng\n",
      "workwork    -0.216              \n",
      "shiftnight  -0.618  0.134       \n",
      "wrkwrk:shft  0.130 -0.603 -0.221\n",
      " work emmean     SE  df asymp.LCL asymp.UCL\n",
      " off    1.73 0.0539 Inf      1.62      1.83\n",
      " work   2.05 0.0536 Inf      1.95      2.16\n",
      "\n",
      "Results are averaged over the levels of: shift \n",
      "Degrees-of-freedom method: asymptotic \n",
      "Confidence level used: 0.95 \n",
      "[1] \"-----------------------------------\"\n",
      "[1] \"-----------------------------------\"\n",
      "We fitted a linear mixed model (estimated using REML and nloptwrap optimizer)\n",
      "to predict stressd with work and shift\n",
      " (formula: stressd ~ work * shift). The model included id\n",
      " as random effect (formula: ~1 | id). The model's total explanatory power is\n",
      "substantial (conditional R2 = 0.31) and the part related to the fixed effects\n",
      "alone (marginal R2) is of 0.03. The model's intercept, corresponding to work =\n",
      "off and shift = day\n",
      ", is at 1.70 (95% CI [1.56, 1.83], t(5941) = 25.45, p < .001). Within this\n",
      "model:\n",
      "\n",
      "  - The effect of work [work] is statistically significant and positive (beta =\n",
      "0.34, 95% CI [0.29, 0.39], t(5941) = 12.54, p < .001; Std. beta = 0.35, 95% CI\n",
      "[0.29, 0.40])\n",
      "  - The effect of shift [night] is statistically non-significant and positive\n",
      "(beta = 0.06, 95% CI [-0.15, 0.27], t(5941) = 0.57, p = 0.566; Std. beta =\n",
      "0.06, 95% CI [-0.15, 0.28])\n",
      "  - The interaction effect of shift [night] on work [work] is statistically\n",
      "non-significant and negative (beta = -0.03, 95% CI [-0.12, 0.06], t(5941) =\n",
      "-0.65, p = 0.513; Std. beta = -0.03, 95% CI [-0.12, 0.06])\n",
      "\n",
      "Standardized parameters were obtained by fitting the model on a standardized\n",
      "version of the dataset. 95% Confidence Intervals (CIs) and p-values were\n",
      "computed using a Wald t-distribution approximation.\n",
      "\n",
      "============================================================================\n",
      "\n",
      "2 figure_1_specific_question :  on both *work* day and *off* day, what are differences in primarily *day-shift* nurses and primarily *night-shift* nurses for *EMA Positive Affect*?\n",
      "EMA Positive Affect True\n"
     ]
    },
    {
     "name": "stderr",
     "output_type": "stream",
     "text": [
      "R[write to console]: Note: D.f. calculations have been disabled because the number of observations exceeds 3000.\n",
      "To enable adjustments, add the argument 'pbkrtest.limit = 5947' (or larger)\n",
      "[or, globally, 'set emm_options(pbkrtest.limit = 5947)' or larger];\n",
      "but be warned that this may result in large computation time and memory use.\n",
      "\n",
      "R[write to console]: Note: D.f. calculations have been disabled because the number of observations exceeds 3000.\n",
      "To enable adjustments, add the argument 'lmerTest.limit = 5947' (or larger)\n",
      "[or, globally, 'set emm_options(lmerTest.limit = 5947)' or larger];\n",
      "but be warned that this may result in large computation time and memory use.\n",
      "\n",
      "R[write to console]: NOTE: Results may be misleading due to involvement in interactions\n",
      "\n"
     ]
    },
    {
     "name": "stdout",
     "output_type": "stream",
     "text": [
      "Linear mixed model fit by REML ['lmerMod']\n",
      "Formula: pand_PosAffect ~ work * shift + (1 | id)\n",
      "   Data: df\n",
      "\n",
      "REML criterion at convergence: 31808\n",
      "\n",
      "Scaled residuals: \n",
      "    Min      1Q  Median      3Q     Max \n",
      "-4.6242 -0.5694 -0.0652  0.5748  3.9047 \n",
      "\n",
      "Random effects:\n",
      " Groups   Name        Variance Std.Dev.\n",
      " id       (Intercept) 18.71    4.326   \n",
      " Residual             11.36    3.371   \n",
      "Number of obs: 5947, groups:  id, 107\n",
      "\n",
      "Fixed effects:\n",
      "                    Estimate Std. Error t value\n",
      "(Intercept)         13.17807    0.53904  24.447\n",
      "workwork             0.24617    0.11381   2.163\n",
      "shiftnight          -0.07439    0.87124  -0.085\n",
      "workwork:shiftnight -0.30020    0.18876  -1.590\n",
      "\n",
      "Correlation of Fixed Effects:\n",
      "            (Intr) wrkwrk shftng\n",
      "workwork    -0.113              \n",
      "shiftnight  -0.619  0.070       \n",
      "wrkwrk:shft  0.068 -0.603 -0.115\n",
      " work emmean    SE  df asymp.LCL asymp.UCL\n",
      " off    13.1 0.436 Inf      12.3      14.0\n",
      " work   13.2 0.435 Inf      12.4      14.1\n",
      "\n",
      "Results are averaged over the levels of: shift \n",
      "Degrees-of-freedom method: asymptotic \n",
      "Confidence level used: 0.95 \n",
      "[1] \"-----------------------------------\"\n",
      "[1] \"-----------------------------------\"\n",
      "We fitted a linear mixed model (estimated using REML and nloptwrap optimizer)\n",
      "to predict pand_PosAffect with work and shift\n",
      " (formula: pand_PosAffect ~ work * shift). The model included id\n",
      " as random effect (formula: ~1 | id). The model's total explanatory power is\n",
      "substantial (conditional R2 = 0.62) and the part related to the fixed effects\n",
      "alone (marginal R2) is of 7.54e-04. The model's intercept, corresponding to\n",
      "work = off and shift = day\n",
      ", is at 13.18 (95% CI [12.12, 14.23], t(5941) = 24.45, p < .001). Within this\n",
      "model:\n",
      "\n",
      "  - The effect of work [work] is statistically significant and positive (beta =\n",
      "0.25, 95% CI [0.02, 0.47], t(5941) = 2.16, p = 0.031; Std. beta = 0.04, 95% CI\n",
      "[4.17e-03, 0.08])\n",
      "  - The effect of shift [night] is statistically non-significant and negative\n",
      "(beta = -0.07, 95% CI [-1.78, 1.63], t(5941) = -0.09, p = 0.932; Std. beta =\n",
      "-0.01, 95% CI [-0.32, 0.30])\n",
      "  - The interaction effect of shift [night] on work [work] is statistically\n",
      "non-significant and negative (beta = -0.30, 95% CI [-0.67, 0.07], t(5941) =\n",
      "-1.59, p = 0.112; Std. beta = -0.05, 95% CI [-0.12, 0.01])\n",
      "\n",
      "Standardized parameters were obtained by fitting the model on a standardized\n",
      "version of the dataset. 95% Confidence Intervals (CIs) and p-values were\n",
      "computed using a Wald t-distribution approximation.\n",
      "\n",
      "============================================================================\n",
      "\n",
      "3 figure_1_specific_question :  on both *work* day and *off* day, what are differences in primarily *day-shift* nurses and primarily *night-shift* nurses for *EMA Negative Affect*?\n",
      "EMA Negative Affect True\n"
     ]
    },
    {
     "name": "stderr",
     "output_type": "stream",
     "text": [
      "R[write to console]: Note: D.f. calculations have been disabled because the number of observations exceeds 3000.\n",
      "To enable adjustments, add the argument 'pbkrtest.limit = 5947' (or larger)\n",
      "[or, globally, 'set emm_options(pbkrtest.limit = 5947)' or larger];\n",
      "but be warned that this may result in large computation time and memory use.\n",
      "\n",
      "R[write to console]: Note: D.f. calculations have been disabled because the number of observations exceeds 3000.\n",
      "To enable adjustments, add the argument 'lmerTest.limit = 5947' (or larger)\n",
      "[or, globally, 'set emm_options(lmerTest.limit = 5947)' or larger];\n",
      "but be warned that this may result in large computation time and memory use.\n",
      "\n",
      "R[write to console]: Error in PostHocTest(aov(pand_NegAffect ~ work * shift, data = df), method = \"lsd\") : \n",
      "  could not find function \"PostHocTest\"\n",
      "\n"
     ]
    },
    {
     "ename": "RRuntimeError",
     "evalue": "Error in PostHocTest(aov(pand_NegAffect ~ work * shift, data = df), method = \"lsd\") : \n  could not find function \"PostHocTest\"\n",
     "output_type": "error",
     "traceback": [
      "\u001b[0;31m---------------------------------------------------------------------------\u001b[0m",
      "\u001b[0;31mRRuntimeError\u001b[0m                             Traceback (most recent call last)",
      "Input \u001b[0;32mIn [19]\u001b[0m, in \u001b[0;36m<cell line: 1>\u001b[0;34m()\u001b[0m\n\u001b[0;32m----> 1\u001b[0m \u001b[43mfigure_1\u001b[49m\u001b[43m(\u001b[49m\u001b[43mfigure_1_ema_sqs\u001b[49m\u001b[43m,\u001b[49m\u001b[43m \u001b[49m\u001b[43mmgt_df\u001b[49m\u001b[43m,\u001b[49m\u001b[43m \u001b[49m\u001b[43mema_values\u001b[49m\u001b[43m)\u001b[49m\n",
      "Input \u001b[0;32mIn [18]\u001b[0m, in \u001b[0;36mfigure_1\u001b[0;34m(figure_1_specific_questions, sleep_df, ema_values)\u001b[0m\n\u001b[1;32m     22\u001b[0m \u001b[38;5;28;01mif\u001b[39;00m ema_value \u001b[38;5;129;01min\u001b[39;00m word_in_specific_question:\n\u001b[1;32m     23\u001b[0m     \u001b[38;5;28mprint\u001b[39m(ema_value, \u001b[38;5;28;01mTrue\u001b[39;00m)\n\u001b[0;32m---> 24\u001b[0m     \u001b[43mcalculate_ema\u001b[49m\u001b[43m(\u001b[49m\u001b[43msleep_df\u001b[49m\u001b[43m,\u001b[49m\u001b[43m \u001b[49m\u001b[43mema_value\u001b[49m\u001b[43m)\u001b[49m\n\u001b[1;32m     25\u001b[0m     \u001b[38;5;28mprint\u001b[39m()\n\u001b[1;32m     26\u001b[0m     \u001b[38;5;28mprint\u001b[39m(\u001b[38;5;124m\"\u001b[39m\u001b[38;5;124m============================================================================\u001b[39m\u001b[38;5;124m\"\u001b[39m)\n",
      "Input \u001b[0;32mIn [17]\u001b[0m, in \u001b[0;36mcalculate_ema\u001b[0;34m(ema_df, specific_ema)\u001b[0m\n\u001b[1;32m     25\u001b[0m     \u001b[38;5;28;01mreturn\u001b[39;00m pa_df\n\u001b[1;32m     26\u001b[0m \u001b[38;5;28;01melif\u001b[39;00m specific_ema \u001b[38;5;241m==\u001b[39m \u001b[38;5;124m'\u001b[39m\u001b[38;5;124mEMA Negative Affect\u001b[39m\u001b[38;5;124m'\u001b[39m:\n\u001b[0;32m---> 27\u001b[0m     na_df \u001b[38;5;241m=\u001b[39m \u001b[43mr_objects\u001b[49m\u001b[38;5;241;43m.\u001b[39;49m\u001b[43mna_model\u001b[49m\u001b[43m(\u001b[49m\u001b[43mema_df\u001b[49m\u001b[43m)\u001b[49m\n\u001b[1;32m     28\u001b[0m     \u001b[38;5;66;03m# print(na_df)\u001b[39;00m\n\u001b[1;32m     29\u001b[0m     \u001b[38;5;28;01mreturn\u001b[39;00m na_df\n",
      "File \u001b[0;32m~/opt/anaconda3/envs/rpy2/lib/python3.9/site-packages/rpy2/robjects/functions.py:203\u001b[0m, in \u001b[0;36mSignatureTranslatedFunction.__call__\u001b[0;34m(self, *args, **kwargs)\u001b[0m\n\u001b[1;32m    201\u001b[0m         v \u001b[38;5;241m=\u001b[39m kwargs\u001b[38;5;241m.\u001b[39mpop(k)\n\u001b[1;32m    202\u001b[0m         kwargs[r_k] \u001b[38;5;241m=\u001b[39m v\n\u001b[0;32m--> 203\u001b[0m \u001b[38;5;28;01mreturn\u001b[39;00m (\u001b[38;5;28;43msuper\u001b[39;49m\u001b[43m(\u001b[49m\u001b[43mSignatureTranslatedFunction\u001b[49m\u001b[43m,\u001b[49m\u001b[43m \u001b[49m\u001b[38;5;28;43mself\u001b[39;49m\u001b[43m)\u001b[49m\n\u001b[1;32m    204\u001b[0m \u001b[43m        \u001b[49m\u001b[38;5;241;43m.\u001b[39;49m\u001b[38;5;21;43m__call__\u001b[39;49m\u001b[43m(\u001b[49m\u001b[38;5;241;43m*\u001b[39;49m\u001b[43margs\u001b[49m\u001b[43m,\u001b[49m\u001b[43m \u001b[49m\u001b[38;5;241;43m*\u001b[39;49m\u001b[38;5;241;43m*\u001b[39;49m\u001b[43mkwargs\u001b[49m\u001b[43m)\u001b[49m)\n",
      "File \u001b[0;32m~/opt/anaconda3/envs/rpy2/lib/python3.9/site-packages/rpy2/robjects/functions.py:126\u001b[0m, in \u001b[0;36mFunction.__call__\u001b[0;34m(self, *args, **kwargs)\u001b[0m\n\u001b[1;32m    124\u001b[0m     \u001b[38;5;28;01melse\u001b[39;00m:\n\u001b[1;32m    125\u001b[0m         new_kwargs[k] \u001b[38;5;241m=\u001b[39m cv\u001b[38;5;241m.\u001b[39mpy2rpy(v)\n\u001b[0;32m--> 126\u001b[0m res \u001b[38;5;241m=\u001b[39m \u001b[38;5;28;43msuper\u001b[39;49m\u001b[43m(\u001b[49m\u001b[43mFunction\u001b[49m\u001b[43m,\u001b[49m\u001b[43m \u001b[49m\u001b[38;5;28;43mself\u001b[39;49m\u001b[43m)\u001b[49m\u001b[38;5;241;43m.\u001b[39;49m\u001b[38;5;21;43m__call__\u001b[39;49m\u001b[43m(\u001b[49m\u001b[38;5;241;43m*\u001b[39;49m\u001b[43mnew_args\u001b[49m\u001b[43m,\u001b[49m\u001b[43m \u001b[49m\u001b[38;5;241;43m*\u001b[39;49m\u001b[38;5;241;43m*\u001b[39;49m\u001b[43mnew_kwargs\u001b[49m\u001b[43m)\u001b[49m\n\u001b[1;32m    127\u001b[0m res \u001b[38;5;241m=\u001b[39m cv\u001b[38;5;241m.\u001b[39mrpy2py(res)\n\u001b[1;32m    128\u001b[0m \u001b[38;5;28;01mreturn\u001b[39;00m res\n",
      "File \u001b[0;32m~/opt/anaconda3/envs/rpy2/lib/python3.9/site-packages/rpy2/rinterface_lib/conversion.py:45\u001b[0m, in \u001b[0;36m_cdata_res_to_rinterface.<locals>._\u001b[0;34m(*args, **kwargs)\u001b[0m\n\u001b[1;32m     44\u001b[0m \u001b[38;5;28;01mdef\u001b[39;00m \u001b[38;5;21m_\u001b[39m(\u001b[38;5;241m*\u001b[39margs, \u001b[38;5;241m*\u001b[39m\u001b[38;5;241m*\u001b[39mkwargs):\n\u001b[0;32m---> 45\u001b[0m     cdata \u001b[38;5;241m=\u001b[39m \u001b[43mfunction\u001b[49m\u001b[43m(\u001b[49m\u001b[38;5;241;43m*\u001b[39;49m\u001b[43margs\u001b[49m\u001b[43m,\u001b[49m\u001b[43m \u001b[49m\u001b[38;5;241;43m*\u001b[39;49m\u001b[38;5;241;43m*\u001b[39;49m\u001b[43mkwargs\u001b[49m\u001b[43m)\u001b[49m\n\u001b[1;32m     46\u001b[0m     \u001b[38;5;66;03m# TODO: test cdata is of the expected CType\u001b[39;00m\n\u001b[1;32m     47\u001b[0m     \u001b[38;5;28;01mreturn\u001b[39;00m _cdata_to_rinterface(cdata)\n",
      "File \u001b[0;32m~/opt/anaconda3/envs/rpy2/lib/python3.9/site-packages/rpy2/rinterface.py:815\u001b[0m, in \u001b[0;36mSexpClosure.__call__\u001b[0;34m(self, *args, **kwargs)\u001b[0m\n\u001b[1;32m    808\u001b[0m     res \u001b[38;5;241m=\u001b[39m rmemory\u001b[38;5;241m.\u001b[39mprotect(\n\u001b[1;32m    809\u001b[0m         openrlib\u001b[38;5;241m.\u001b[39mrlib\u001b[38;5;241m.\u001b[39mR_tryEval(\n\u001b[1;32m    810\u001b[0m             call_r,\n\u001b[1;32m    811\u001b[0m             call_context\u001b[38;5;241m.\u001b[39m__sexp__\u001b[38;5;241m.\u001b[39m_cdata,\n\u001b[1;32m    812\u001b[0m             error_occured)\n\u001b[1;32m    813\u001b[0m     )\n\u001b[1;32m    814\u001b[0m     \u001b[38;5;28;01mif\u001b[39;00m error_occured[\u001b[38;5;241m0\u001b[39m]:\n\u001b[0;32m--> 815\u001b[0m         \u001b[38;5;28;01mraise\u001b[39;00m embedded\u001b[38;5;241m.\u001b[39mRRuntimeError(_rinterface\u001b[38;5;241m.\u001b[39m_geterrmessage())\n\u001b[1;32m    816\u001b[0m \u001b[38;5;28;01mreturn\u001b[39;00m res\n",
      "\u001b[0;31mRRuntimeError\u001b[0m: Error in PostHocTest(aov(pand_NegAffect ~ work * shift, data = df), method = \"lsd\") : \n  could not find function \"PostHocTest\"\n"
     ]
    }
   ],
   "source": [
    "figure_1(figure_1_ema_sqs, mgt_df, ema_values)"
   ]
  },
  {
   "cell_type": "code",
   "execution_count": null,
   "id": "b4080f90",
   "metadata": {},
   "outputs": [],
   "source": []
  },
  {
   "cell_type": "code",
   "execution_count": null,
   "id": "59e3a74d",
   "metadata": {},
   "outputs": [],
   "source": []
  }
 ],
 "metadata": {
  "kernelspec": {
   "display_name": "Python 3 (ipykernel)",
   "language": "python",
   "name": "python3"
  },
  "language_info": {
   "codemirror_mode": {
    "name": "ipython",
    "version": 3
   },
   "file_extension": ".py",
   "mimetype": "text/x-python",
   "name": "python",
   "nbconvert_exporter": "python",
   "pygments_lexer": "ipython3",
   "version": "3.9.13"
  }
 },
 "nbformat": 4,
 "nbformat_minor": 5
}
