{
 "cells": [
  {
   "cell_type": "markdown",
   "id": "2f24bdac-d4a2-49c6-9995-98d877fd5599",
   "metadata": {
    "tags": []
   },
   "source": [
    "# Reproduce Figure 3\n",
    "- Py kernel"
   ]
  },
  {
   "cell_type": "code",
   "execution_count": 2,
   "id": "615b365b-2a09-49d9-95ae-e261af141bd4",
   "metadata": {},
   "outputs": [],
   "source": [
    "import pandas as pd\n",
    "import numpy as np"
   ]
  },
  {
   "cell_type": "markdown",
   "id": "fbe60743-9862-4b38-8346-8f790069413b",
   "metadata": {},
   "source": [
    "# Load Data"
   ]
  },
  {
   "cell_type": "code",
   "execution_count": 3,
   "id": "d400608b-05f0-425e-8113-eaa45b24a002",
   "metadata": {},
   "outputs": [],
   "source": [
    "path_to_data = \"/Users/brinkley97/Documents/development/lab-kcad/datasets/tiles_dataset/figure_3/sleep/sleep.csv.gz\"\n",
    "sleep_stats_df = pd.read_csv(path_to_data)\n",
    "# sleep_stats_df.keys()"
   ]
  },
  {
   "cell_type": "markdown",
   "id": "8e10c47d-3494-41d1-b70b-f59cd0dc812c",
   "metadata": {},
   "source": [
    "# Modify Dataframes"
   ]
  },
  {
   "cell_type": "code",
   "execution_count": 4,
   "id": "ecfd1e8e-5678-4858-b20a-47dc889c58d6",
   "metadata": {},
   "outputs": [],
   "source": [
    "def modify_df(sleep_stats_df):\n",
    "    '''Modify Dataframe columns and split into\n",
    "        day-work\n",
    "        day-off\n",
    "        night-work\n",
    "        night-off\n",
    "    \n",
    "    Arguments:\n",
    "    sleep_stats_df -- Dataframe\n",
    "\n",
    "    Return: \n",
    "    sleep_dfs -- list of day-work, day-off, night-work, night-off\n",
    "    \n",
    "    '''\n",
    "    sleep_dfs = []\n",
    "    \n",
    "    day_sleep_df = sleep_stats_df.loc[sleep_stats_df['shift'] == 'day']\n",
    "    day_sleep_df = day_sleep_df.rename(columns={\"shift\": \"day-shift\"})\n",
    "    # day_sleep_off_df = day_sleep_df.rename(columns={\"work\": \"off\"})\n",
    "    day_sleep_work_df = day_sleep_df.loc[day_sleep_df['work'] == 'workday']\n",
    "    day_sleep_off_df = day_sleep_df.loc[day_sleep_df['work'] == 'offday']\n",
    "    \n",
    "    \n",
    "    night_sleep_df = sleep_stats_df.loc[sleep_stats_df['shift'] == 'night']\n",
    "    night_sleep_df = night_sleep_df.rename(columns={\"shift\": \"night-shift\"})\n",
    "    # night_sleep_off_df = night_sleep_df.rename(columns={\"work\": \"off\"})\n",
    "    night_sleep_work_df = night_sleep_df.loc[night_sleep_df['work'] == 'workday']\n",
    "    night_sleep_off_df = night_sleep_df.loc[night_sleep_df['work'] == 'offday']\n",
    "    \n",
    "    print(day_sleep_work_df.keys(), \"\\n\")\n",
    "    print(day_sleep_off_df.keys(), \"\\n\")\n",
    "    print(night_sleep_work_df.keys(), \"\\n\")\n",
    "    print(night_sleep_off_df.keys(), \"\\n\")\n",
    "    print()\n",
    "    \n",
    "    return day_sleep_work_df, day_sleep_off_df, night_sleep_work_df, night_sleep_off_df"
   ]
  },
  {
   "cell_type": "code",
   "execution_count": 5,
   "id": "fbc13f0e-d630-4899-9c01-3dc321e653ee",
   "metadata": {},
   "outputs": [
    {
     "name": "stdout",
     "output_type": "stream",
     "text": [
      "Index(['Unnamed: 0', 'duration', 'efficiency', 'minutesAsleep', 'mid',\n",
      "       'mid_std', 'duration_diff', 'day-shift', 'lang', 'work', 'start', 'end',\n",
      "       'id', 'age', 'gender', 'stai', 'pan_PosAffect', 'pan_NegAffect', 'swls',\n",
      "       'psqi', 'rand_GeneralHealth', 'rand_EnergyFatigue', 'total_seconds',\n",
      "       'mean_seconds', 'frequency'],\n",
      "      dtype='object') \n",
      "\n",
      "Index(['Unnamed: 0', 'duration', 'efficiency', 'minutesAsleep', 'mid',\n",
      "       'mid_std', 'duration_diff', 'day-shift', 'lang', 'work', 'start', 'end',\n",
      "       'id', 'age', 'gender', 'stai', 'pan_PosAffect', 'pan_NegAffect', 'swls',\n",
      "       'psqi', 'rand_GeneralHealth', 'rand_EnergyFatigue', 'total_seconds',\n",
      "       'mean_seconds', 'frequency'],\n",
      "      dtype='object') \n",
      "\n",
      "Index(['Unnamed: 0', 'duration', 'efficiency', 'minutesAsleep', 'mid',\n",
      "       'mid_std', 'duration_diff', 'night-shift', 'lang', 'work', 'start',\n",
      "       'end', 'id', 'age', 'gender', 'stai', 'pan_PosAffect', 'pan_NegAffect',\n",
      "       'swls', 'psqi', 'rand_GeneralHealth', 'rand_EnergyFatigue',\n",
      "       'total_seconds', 'mean_seconds', 'frequency'],\n",
      "      dtype='object') \n",
      "\n",
      "Index(['Unnamed: 0', 'duration', 'efficiency', 'minutesAsleep', 'mid',\n",
      "       'mid_std', 'duration_diff', 'night-shift', 'lang', 'work', 'start',\n",
      "       'end', 'id', 'age', 'gender', 'stai', 'pan_PosAffect', 'pan_NegAffect',\n",
      "       'swls', 'psqi', 'rand_GeneralHealth', 'rand_EnergyFatigue',\n",
      "       'total_seconds', 'mean_seconds', 'frequency'],\n",
      "      dtype='object') \n",
      "\n",
      "\n"
     ]
    }
   ],
   "source": [
    "day_sleep_work_df, day_sleep_off_df, night_sleep_work_df, night_sleep_off_df = modify_df(sleep_stats_df)"
   ]
  },
  {
   "cell_type": "markdown",
   "id": "69a82d0c-1c8d-4815-ab1d-6e85172ee00c",
   "metadata": {},
   "source": [
    "# Load Generated Specific Questions"
   ]
  },
  {
   "cell_type": "code",
   "execution_count": 6,
   "id": "ffef41b8-d93c-449f-b576-9acf5a126353",
   "metadata": {},
   "outputs": [],
   "source": [
    "base = \"/Users/brinkley97/Documents/development/lab-kcad/\"\n",
    "path_to_questions = \"tiles-day-night/my_code\"\n",
    "name_of_questions = \"generateSpecificQuestions.ipynb\"\n",
    "questions = base + path_to_questions + name_of_questions"
   ]
  },
  {
   "cell_type": "code",
   "execution_count": 7,
   "id": "6272d2ea-1c1e-4f6d-842c-3843f990e177",
   "metadata": {},
   "outputs": [],
   "source": [
    "# %load questions\n",
    "/Users/brinkley97/Documents/development/lab-kcad/tiles-day-night/my_codegenerateSpecificQuestions.ipynb"
   ]
  },
  {
   "cell_type": "code",
   "execution_count": 8,
   "id": "83a4968d-f3b4-40fa-98b9-c7aea83e6f7b",
   "metadata": {},
   "outputs": [],
   "source": [
    "%run \"generateSpecificQuestions.ipynb\""
   ]
  },
  {
   "cell_type": "code",
   "execution_count": 9,
   "id": "03dfa057-c860-475c-b9fa-67a24fd03831",
   "metadata": {},
   "outputs": [
    {
     "data": {
      "text/plain": [
       "['what are differences between sleep *start* and sleep *end* on *work* days for primarily *day-shift* nurses ?',\n",
       " 'what are differences between sleep *start* and sleep *end* on *off* days for primarily *day-shift* nurses ?',\n",
       " 'what are differences between sleep *start* and sleep *end* on *work* days for primarily *night-shift* nurses ?',\n",
       " 'what are differences between sleep *start* and sleep *end* on *off* days for primarily *night-shift* nurses ?']"
      ]
     },
     "execution_count": 9,
     "metadata": {},
     "output_type": "execute_result"
    }
   ],
   "source": [
    "figure_3_specific_questions = fig_3\n",
    "figure_3_specific_questions"
   ]
  },
  {
   "cell_type": "code",
   "execution_count": 10,
   "id": "bd140b53-eb14-4689-95b2-af8fd0950854",
   "metadata": {},
   "outputs": [],
   "source": [
    "# key_words_in_study"
   ]
  },
  {
   "cell_type": "code",
   "execution_count": 11,
   "id": "5ef786e9-1ef2-4c89-a166-60a0bf25b793",
   "metadata": {},
   "outputs": [],
   "source": [
    "def matching_vars(key_words_in_study, specific_question):\n",
    "    '''Find the matching variables that are in both the specific question and the key words used in the study\n",
    "    Arguments:\n",
    "    key_words_in_study -- py dict\n",
    "    specific_question -- py string\n",
    "    \n",
    "    Return:\n",
    "    key_words_in_specific_questions -- list of matching words\n",
    "    '''\n",
    "    # print(type(key_words_in_study), key_words_in_study)\n",
    "    # print(type(specific_question), specific_question)\n",
    "    \n",
    "    key_words = list(key_words_in_study.values())\n",
    "    # print(key_words)\n",
    "    \n",
    "    specific_question_by_words = specific_question.split(\"*\")\n",
    "    key_words_in_specific_questions = []\n",
    "    \n",
    "    \n",
    "    for key_words_idx in range(len(key_words)):\n",
    "        key_word = key_words[key_words_idx]\n",
    "        \n",
    "        if key_word in specific_question_by_words:\n",
    "            \n",
    "            # print(key_word, True)\n",
    "            key_words_in_specific_questions.append(key_word)\n",
    "            \n",
    "        else:\n",
    "            continue       \n",
    "    return key_words_in_specific_questions"
   ]
  },
  {
   "cell_type": "code",
   "execution_count": 12,
   "id": "362e3f3f-84c9-423d-b340-1796ec9b83b2",
   "metadata": {},
   "outputs": [],
   "source": [
    "def f3(specific_sleep_df, f3_key_vars):\n",
    "    '''Calculate the average, minimum, and maximum sleep and wake hours\n",
    "    \n",
    "    Arguments:\n",
    "    specific_sleep_df -- pd DataFrame\n",
    "    '''\n",
    "    output = []\n",
    "    sleep_array = []\n",
    "    for specific_awake_hour in np.array(specific_sleep_df['start']):\n",
    "        # print(specific_awake_hour)\n",
    "        if specific_awake_hour >= 12:\n",
    "            # print(\"specific_awake_hour >= 12 : \", specific_awake_hour)\n",
    "            sleep_array.append(specific_awake_hour - 24)\n",
    "            # print(\"specific_awake_hour - 24 : \", specific_awake_hour - 24)\n",
    "        else:\n",
    "            # print(\"DATA\", specific_awake_hour)\n",
    "            sleep_array.append(specific_awake_hour)\n",
    "            \n",
    "    mean_sleep_time = np.round(np.nanmean(specific_sleep_df['start']), 2)\n",
    "    min_sleep_time = np.round(np.nanmin(specific_sleep_df['start']), 2)\n",
    "    max_sleep_time = np.round(np.nanmax(specific_sleep_df['start']), 2)\n",
    "    \n",
    "    sleep_time = mean_sleep_time, min_sleep_time, max_sleep_time\n",
    "    # print(\"The average sleep time for\", f3_key_vars[0], \"nurses\", \"while at\", f3_key_vars[1], \"is \", mean_sleep_time)\n",
    "    # print(\"The earliest sleep time for\", f3_key_vars[0], \"nurses\", \"while at\", f3_key_vars[1], \"is \", min_sleep_time)\n",
    "    # print(\"The latest sleep time for\", f3_key_vars[0], \"nurses\", \"while at\", f3_key_vars[1], \"is \", max_sleep_time)\n",
    "    \n",
    "    # print(\"sleep_time\", sleep_time)\n",
    "    output.append(sleep_time)\n",
    "    \n",
    "    mean_wake_time = np.round(np.nanmean(sleep_array), 2)\n",
    "    min_wake_time = np.round(np.nanmin(sleep_array) + 24, 2)\n",
    "    max_wake_time = np.round(np.nanmax(sleep_array), 2)\n",
    "    wake_time = mean_wake_time, min_wake_time, max_wake_time\n",
    "    # print(\"wake_time : \", wake_time)\n",
    "    output.append(wake_time)\n",
    "    \n",
    "    return output"
   ]
  },
  {
   "cell_type": "code",
   "execution_count": 13,
   "id": "7bbcaad1-84fc-45b6-b93c-304631a6d0f1",
   "metadata": {},
   "outputs": [],
   "source": [
    "def figure_3(generated_specific_questions, day_sleep_work_df, day_sleep_off_df, night_sleep_work_df, night_sleep_off_df, key_words_in_study):\n",
    "    '''Reproduce Figure 3\n",
    "    \n",
    "    Arguments:\n",
    "    generated_specific_questions -- py list\n",
    "    sleep_day_df -- pd Dataframe\n",
    "    sleep_night_df -- pd Dataframe\n",
    "    \n",
    "    Functions:\n",
    "    matching_vars\n",
    "    f3\n",
    "    '''\n",
    "    \n",
    "    for generated_specific_question_idx in range(len(generated_specific_questions)):\n",
    "        specific_question = generated_specific_questions[generated_specific_question_idx]\n",
    "        print(generated_specific_question_idx, \"specific_question : \", specific_question)\n",
    "            \n",
    "        f3_key_vars = matching_vars(key_words_in_study, specific_question)\n",
    "        print(\"matching vars: \", f3_key_vars)\n",
    "        \n",
    "        if \"day-shift\" in f3_key_vars: \n",
    "            if \"work\" in f3_key_vars:\n",
    "                day_shift_at_work = f3(day_sleep_work_df, f3_key_vars)\n",
    "                print(day_shift_at_work)\n",
    "            else:\n",
    "                day_shift_off_work = f3(day_sleep_off_df, f3_key_vars)\n",
    "                print(day_shift_off_work)\n",
    "        elif \"night-shift\" in f3_key_vars:\n",
    "            if \"work\" in f3_key_vars:\n",
    "                night_shift_at_work = f3(night_sleep_work_df, f3_key_vars)\n",
    "                print(night_shift_at_work)\n",
    "            else: \n",
    "                night_shift_off_work = f3(night_sleep_off_df, f3_key_vars)\n",
    "                print(night_shift_off_work)\n",
    "        \n",
    "    return"
   ]
  },
  {
   "cell_type": "code",
   "execution_count": 14,
   "id": "2cfe5fa3-315f-4844-a2bb-52f7fac247e2",
   "metadata": {},
   "outputs": [
    {
     "name": "stdout",
     "output_type": "stream",
     "text": [
      "0 specific_question :  what are differences between sleep *start* and sleep *end* on *work* days for primarily *day-shift* nurses ?\n",
      "matching vars:  ['day-shift', 'work', 'start', 'end']\n",
      "[(20.45, 0.07, 23.95), (-1.02, 21.53, 1.43)]\n",
      "1 specific_question :  what are differences between sleep *start* and sleep *end* on *off* days for primarily *day-shift* nurses ?\n",
      "matching vars:  ['day-shift', 'off', 'start', 'end']\n",
      "[(18.42, 0.05, 23.99), (-0.69, 21.57, 1.83)]\n",
      "2 specific_question :  what are differences between sleep *start* and sleep *end* on *work* days for primarily *night-shift* nurses ?\n",
      "matching vars:  ['night-shift', 'work', 'start', 'end']\n",
      "[(9.88, 8.62, 11.83), (9.88, 32.62, 11.83)]\n",
      "3 specific_question :  what are differences between sleep *start* and sleep *end* on *off* days for primarily *night-shift* nurses ?\n",
      "matching vars:  ['night-shift', 'off', 'start', 'end']\n",
      "[(7.54, 0.07, 23.9), (1.54, 21.58, 11.43)]\n"
     ]
    }
   ],
   "source": [
    "figure_3(figure_3_specific_questions, day_sleep_work_df, day_sleep_off_df, night_sleep_work_df, night_sleep_off_df, key_words_in_study)"
   ]
  },
  {
   "cell_type": "code",
   "execution_count": null,
   "id": "4a91b84a-032c-4af8-8449-1a655baf3863",
   "metadata": {},
   "outputs": [],
   "source": []
  },
  {
   "cell_type": "code",
   "execution_count": null,
   "id": "e35d8449-b747-42a8-9eee-cffc780fc532",
   "metadata": {},
   "outputs": [],
   "source": []
  }
 ],
 "metadata": {
  "kernelspec": {
   "display_name": "Python 3 (ipykernel)",
   "language": "python",
   "name": "python3"
  },
  "language_info": {
   "codemirror_mode": {
    "name": "ipython",
    "version": 3
   },
   "file_extension": ".py",
   "mimetype": "text/x-python",
   "name": "python",
   "nbconvert_exporter": "python",
   "pygments_lexer": "ipython3",
   "version": "3.9.13"
  }
 },
 "nbformat": 4,
 "nbformat_minor": 5
}
