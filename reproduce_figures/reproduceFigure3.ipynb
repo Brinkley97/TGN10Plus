{
 "cells": [
  {
   "cell_type": "markdown",
   "id": "2f24bdac-d4a2-49c6-9995-98d877fd5599",
   "metadata": {
    "tags": []
   },
   "source": [
    "# Reproduce Figure 3\n",
    "- Py kernel\n",
    "- Verify by looking at [Figure 3 in the Original Analysis paper](https://www.nature.com/articles/s41598-021-87029-w?proof=t%25C2%25A0) and by running `python3 plot_sleep_data.py` [TGN10+ version](https://github.com/Brinkley97/TGN10/blob/main/code/sleep/plot_sleep_data.py) or [Original version](https://github.com/usc-sail/tiles-day-night/blob/main/code/sleep/plot_sleep_data.py)"
   ]
  },
  {
   "cell_type": "code",
   "execution_count": 1,
   "id": "615b365b-2a09-49d9-95ae-e261af141bd4",
   "metadata": {},
   "outputs": [],
   "source": [
    "import pandas as pd\n",
    "import numpy as np"
   ]
  },
  {
   "cell_type": "markdown",
   "id": "fbe60743-9862-4b38-8346-8f790069413b",
   "metadata": {},
   "source": [
    "# Load Data"
   ]
  },
  {
   "cell_type": "code",
   "execution_count": 2,
   "id": "d400608b-05f0-425e-8113-eaa45b24a002",
   "metadata": {},
   "outputs": [],
   "source": [
    "path_to_data = \"/Users/brinkley97/Documents/development/lab-kcad/datasets/tiles_dataset/figure_3/sleep/sleep.csv.gz\"\n",
    "sleep_stats_df = pd.read_csv(path_to_data)\n",
    "# sleep_stats_df.keys()"
   ]
  },
  {
   "cell_type": "markdown",
   "id": "8e10c47d-3494-41d1-b70b-f59cd0dc812c",
   "metadata": {
    "jp-MarkdownHeadingCollapsed": true,
    "tags": []
   },
   "source": [
    "# Modify Pandas DataFrames"
   ]
  },
  {
   "cell_type": "code",
   "execution_count": 3,
   "id": "ecfd1e8e-5678-4858-b20a-47dc889c58d6",
   "metadata": {},
   "outputs": [],
   "source": [
    "def modify_df(sleep_stats_df):\n",
    "    '''Modify DataFrame columns by splitting into\n",
    "        day-work\n",
    "        day-off\n",
    "        night-work\n",
    "        night-off\n",
    "    \n",
    "    Arguments:\n",
    "    sleep_stats_df -- Pandas DataFrame\n",
    "\n",
    "    Return: \n",
    "    sleep_dfs -- list of day-work, day-off, night-work, night-off\n",
    "    \n",
    "    '''\n",
    "    sleep_dfs = []\n",
    "    \n",
    "    day_sleep_df = sleep_stats_df.loc[sleep_stats_df['shift'] == 'day']\n",
    "    day_sleep_df = day_sleep_df.rename(columns={\"shift\": \"day-shift\"})\n",
    "    \n",
    "    day_sleep_work_df = day_sleep_df.loc[day_sleep_df['work'] == 'workday']\n",
    "    day_sleep_off_df = day_sleep_df.loc[day_sleep_df['work'] == 'offday']\n",
    "    \n",
    "    # print(day_sleep_work_df.keys(), \"\\n\")\n",
    "    # print(day_sleep_off_df.keys(), \"\\n\")\n",
    "    \n",
    "    night_sleep_df = sleep_stats_df.loc[sleep_stats_df['shift'] == 'night']\n",
    "    night_sleep_df = night_sleep_df.rename(columns={\"shift\": \"night-shift\"})\n",
    "    \n",
    "    night_sleep_work_df = night_sleep_df.loc[night_sleep_df['work'] == 'workday']\n",
    "    night_sleep_off_df = night_sleep_df.loc[night_sleep_df['work'] == 'offday']\n",
    "    \n",
    "    # print(night_sleep_work_df.keys(), \"\\n\")\n",
    "    # print(night_sleep_off_df.keys(), \"\\n\")\n",
    "    \n",
    "    # print()\n",
    "    \n",
    "    return day_sleep_work_df, day_sleep_off_df, night_sleep_work_df, night_sleep_off_df"
   ]
  },
  {
   "cell_type": "code",
   "execution_count": 4,
   "id": "fbc13f0e-d630-4899-9c01-3dc321e653ee",
   "metadata": {},
   "outputs": [],
   "source": [
    "day_sleep_work_df, day_sleep_off_df, night_sleep_work_df, night_sleep_off_df = modify_df(sleep_stats_df)\n",
    "# day_sleep_work_df"
   ]
  },
  {
   "cell_type": "markdown",
   "id": "69a82d0c-1c8d-4815-ab1d-6e85172ee00c",
   "metadata": {
    "tags": []
   },
   "source": [
    "# Load Generated Specific Questions"
   ]
  },
  {
   "cell_type": "code",
   "execution_count": 5,
   "id": "ffef41b8-d93c-449f-b576-9acf5a126353",
   "metadata": {},
   "outputs": [],
   "source": [
    "base = \"/Users/brinkley97/Documents/development/lab-kcad/\"\n",
    "generated_sq_file = \"TGN10Plus/generateSpecificQuestions.ipynb\"\n",
    "figure_3_specific_questions_path = base + generated_sq_file"
   ]
  },
  {
   "cell_type": "code",
   "execution_count": 6,
   "id": "6272d2ea-1c1e-4f6d-842c-3843f990e177",
   "metadata": {},
   "outputs": [],
   "source": [
    "# %load figure_3_specific_questions_path\n",
    "/Users/brinkley97/Documents/development/lab-kcad/TGN10Plus/generateSpecificQuestions.ipynb"
   ]
  },
  {
   "cell_type": "code",
   "execution_count": 7,
   "id": "83a4968d-f3b4-40fa-98b9-c7aea83e6f7b",
   "metadata": {},
   "outputs": [],
   "source": [
    "%run \"../generateSpecificQuestions.ipynb\""
   ]
  },
  {
   "cell_type": "code",
   "execution_count": 8,
   "id": "03dfa057-c860-475c-b9fa-67a24fd03831",
   "metadata": {},
   "outputs": [],
   "source": [
    "# figure_3_sqs, ontology_mappings"
   ]
  },
  {
   "cell_type": "markdown",
   "id": "b31d9703-6263-4da1-9781-e459a074262b",
   "metadata": {
    "tags": []
   },
   "source": [
    "# Run Analysis"
   ]
  },
  {
   "cell_type": "markdown",
   "id": "a145fb79-6f22-4638-ad14-f46af93f7f7e",
   "metadata": {},
   "source": [
    "## Median Sleep"
   ]
  },
  {
   "cell_type": "code",
   "execution_count": 9,
   "id": "362e3f3f-84c9-423d-b340-1796ec9b83b2",
   "metadata": {},
   "outputs": [],
   "source": [
    "def calculate_median_sleep(specific_sleep_df, specific_f3_ontology_values):\n",
    "    '''Calculate the average, minimum, and maximum sleep and wake hours\n",
    "    \n",
    "    Arguments:\n",
    "    specific_sleep_df -- pd DataFrame\n",
    "    \n",
    "    Return:\n",
    "    median sleep -- 2D py list\n",
    "    '''\n",
    "    \n",
    "    median_sleep = []\n",
    "    store_sleep_values = []\n",
    "    for specific_awake_hour in np.array(specific_sleep_df['start']):\n",
    "        # print(specific_awake_hour)\n",
    "        if specific_awake_hour >= 12:\n",
    "            # print(\"specific_awake_hour >= 12 : \", specific_awake_hour)\n",
    "            store_sleep_values.append(specific_awake_hour - 24)\n",
    "            # print(\"specific_awake_hour - 24 : \", specific_awake_hour - 24)\n",
    "        else:\n",
    "            # print(\"DATA\", specific_awake_hour)\n",
    "            store_sleep_values.append(specific_awake_hour)\n",
    "            \n",
    "    mean_sleep_time = np.round(np.nanmean(specific_sleep_df['start']), 2)\n",
    "    min_sleep_time = np.round(np.nanmin(specific_sleep_df['start']), 2)\n",
    "    max_sleep_time = np.round(np.nanmax(specific_sleep_df['start']), 2)\n",
    "    \n",
    "    sleep_time = mean_sleep_time, min_sleep_time, max_sleep_time\n",
    "    median_sleep.append(sleep_time)\n",
    "    \n",
    "    mean_wake_time = np.round(np.nanmean(store_sleep_values), 2)\n",
    "    min_wake_time = np.round(np.nanmin(store_sleep_values) + 24, 2)\n",
    "    max_wake_time = np.round(np.nanmax(store_sleep_values), 2)\n",
    "    \n",
    "    wake_time = mean_wake_time, min_wake_time, max_wake_time\n",
    "    median_sleep.append(wake_time)\n",
    "    \n",
    "    return median_sleep"
   ]
  },
  {
   "cell_type": "code",
   "execution_count": 10,
   "id": "5ef786e9-1ef2-4c89-a166-60a0bf25b793",
   "metadata": {},
   "outputs": [],
   "source": [
    "def match_ontologies_with_sq_words(ontology_mappings, f3_specific_question):\n",
    "    '''Find onotology mappings within figure 3's specific questions\n",
    "    \n",
    "    Arguments:\n",
    "    ontology_mappings -- py dict\n",
    "    f3_specific_question -- py string\n",
    "    \n",
    "    Return:\n",
    "    ontology mappings that are in the specific questions -- list\n",
    "    '''\n",
    "\n",
    "    ontology_mappings_values = list(ontology_mappings.values())\n",
    "    # print(ontology_mappings_values)\n",
    "    \n",
    "    specific_question_by_words = f3_specific_question.split(\"*\")\n",
    "    om_in_specific_questions = []\n",
    "    \n",
    "    \n",
    "    for ontology_mappings_values_idx in range(len(ontology_mappings_values)):\n",
    "        matching_ontology = ontology_mappings_values[ontology_mappings_values_idx]\n",
    "        \n",
    "        if matching_ontology in specific_question_by_words:\n",
    "            \n",
    "            # print(key_word, True)\n",
    "            om_in_specific_questions.append(matching_ontology)\n",
    "            \n",
    "        else:\n",
    "            continue       \n",
    "    return om_in_specific_questions"
   ]
  },
  {
   "cell_type": "code",
   "execution_count": 11,
   "id": "7bbcaad1-84fc-45b6-b93c-304631a6d0f1",
   "metadata": {},
   "outputs": [],
   "source": [
    "def figure_three(figure_3_specific_questions, day_sleep_work_df, day_sleep_off_df, night_sleep_work_df, night_sleep_off_df):\n",
    "    '''Reproduce Figure 3\n",
    "    \n",
    "    Arguments:\n",
    "    figure_3_specific_questions -- py list\n",
    "    day_sleep_work_df -- pd Dataframe\n",
    "    day_sleep_off_df -- pd Dataframe\n",
    "    night_sleep_work_df -- pd Dataframe\n",
    "    night_sleep_off_df -- pd Dataframe\n",
    "    \n",
    "    Functions:\n",
    "    match_ontologies_with_sq_words()\n",
    "    calculate_median_sleep\n",
    "    '''\n",
    "    \n",
    "    for figure_3_specific_question_idx in range(len(figure_3_specific_questions)):\n",
    "        f3_specific_question = figure_3_specific_questions[figure_3_specific_question_idx]\n",
    "        print(figure_3_specific_question_idx, \"f3_specific_question : \", f3_specific_question)\n",
    "            \n",
    "        specific_f3_ontology_values = match_ontologies_with_sq_words(ontology_mappings, f3_specific_question)\n",
    "        print(\"matching vars: \", specific_f3_ontology_values)\n",
    "        \n",
    "        if \"day-shift\" in specific_f3_ontology_values: \n",
    "            if \"work\" in specific_f3_ontology_values:\n",
    "                day_shift_at_work = calculate_median_sleep(day_sleep_work_df, specific_f3_ontology_values)\n",
    "                print(day_shift_at_work)\n",
    "            else:\n",
    "                day_shift_off_work = calculate_median_sleep(day_sleep_off_df, specific_f3_ontology_values)\n",
    "                print(day_shift_off_work)\n",
    "                \n",
    "        elif \"night-shift\" in specific_f3_ontology_values:\n",
    "            if \"work\" in specific_f3_ontology_values:\n",
    "                night_shift_at_work = calculate_median_sleep(night_sleep_work_df, specific_f3_ontology_values)\n",
    "                print(night_shift_at_work)\n",
    "            else: \n",
    "                night_shift_off_work = calculate_median_sleep(night_sleep_off_df, specific_f3_ontology_values)\n",
    "                print(night_shift_off_work)"
   ]
  },
  {
   "cell_type": "code",
   "execution_count": 12,
   "id": "2cfe5fa3-315f-4844-a2bb-52f7fac247e2",
   "metadata": {},
   "outputs": [
    {
     "name": "stdout",
     "output_type": "stream",
     "text": [
      "0 f3_specific_question :  what are differences between sleep *start* and sleep *end* on *work* days for primarily *day-shift* nurses ?\n",
      "matching vars:  ['day-shift', 'work', 'start', 'end']\n",
      "[(20.45, 0.07, 23.95), (-1.02, 21.53, 1.43)]\n",
      "1 f3_specific_question :  what are differences between sleep *start* and sleep *end* on *off* days for primarily *day-shift* nurses ?\n",
      "matching vars:  ['day-shift', 'off', 'start', 'end']\n",
      "[(18.42, 0.05, 23.99), (-0.69, 21.57, 1.83)]\n",
      "2 f3_specific_question :  what are differences between sleep *start* and sleep *end* on *work* days for primarily *night-shift* nurses ?\n",
      "matching vars:  ['night-shift', 'work', 'start', 'end']\n",
      "[(9.88, 8.62, 11.83), (9.88, 32.62, 11.83)]\n",
      "3 f3_specific_question :  what are differences between sleep *start* and sleep *end* on *off* days for primarily *night-shift* nurses ?\n",
      "matching vars:  ['night-shift', 'off', 'start', 'end']\n",
      "[(7.54, 0.07, 23.9), (1.54, 21.58, 11.43)]\n"
     ]
    }
   ],
   "source": [
    "figure_three(figure_3_sqs, day_sleep_work_df, day_sleep_off_df, night_sleep_work_df, night_sleep_off_df)"
   ]
  },
  {
   "cell_type": "code",
   "execution_count": null,
   "id": "4a91b84a-032c-4af8-8449-1a655baf3863",
   "metadata": {},
   "outputs": [],
   "source": []
  },
  {
   "cell_type": "code",
   "execution_count": null,
   "id": "e35d8449-b747-42a8-9eee-cffc780fc532",
   "metadata": {},
   "outputs": [],
   "source": []
  }
 ],
 "metadata": {
  "kernelspec": {
   "display_name": "Python 3 (ipykernel)",
   "language": "python",
   "name": "python3"
  },
  "language_info": {
   "codemirror_mode": {
    "name": "ipython",
    "version": 3
   },
   "file_extension": ".py",
   "mimetype": "text/x-python",
   "name": "python",
   "nbconvert_exporter": "python",
   "pygments_lexer": "ipython3",
   "version": "3.9.13"
  }
 },
 "nbformat": 4,
 "nbformat_minor": 5
}
