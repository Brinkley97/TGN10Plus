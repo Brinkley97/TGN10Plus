{
 "cells": [
  {
   "cell_type": "markdown",
   "id": "0534a018-1e2e-44aa-9308-edc1bc5f3e9b",
   "metadata": {},
   "source": [
    "# Reproduce Table 1\n",
    "- Py kernel"
   ]
  },
  {
   "cell_type": "code",
   "execution_count": 1,
   "id": "209633f6-cf46-4ff1-b232-a9300d03b201",
   "metadata": {},
   "outputs": [
    {
     "name": "stderr",
     "output_type": "stream",
     "text": [
      "/Users/brinkley97/opt/anaconda3/envs/new_tiles_day_night/lib/python3.9/site-packages/outdated/utils.py:14: OutdatedPackageWarning: The package outdated is out of date. Your version is 0.2.1, the latest is 0.2.2.\n",
      "Set the environment variable OUTDATED_IGNORE=1 to disable these warnings.\n",
      "  return warn(\n",
      "/Users/brinkley97/opt/anaconda3/envs/new_tiles_day_night/lib/python3.9/site-packages/outdated/utils.py:14: OutdatedPackageWarning: The package pingouin is out of date. Your version is 0.5.2, the latest is 0.5.3.\n",
      "Set the environment variable OUTDATED_IGNORE=1 to disable these warnings.\n",
      "  return warn(\n"
     ]
    }
   ],
   "source": [
    "import pandas as pd\n",
    "import numpy as np\n",
    "import pingouin as pg\n",
    "\n",
    "from scipy import stats"
   ]
  },
  {
   "cell_type": "markdown",
   "id": "d86415e4-bc0e-4751-902a-a8b814a68223",
   "metadata": {
    "tags": []
   },
   "source": [
    "# Load Data"
   ]
  },
  {
   "cell_type": "code",
   "execution_count": 2,
   "id": "b96d077c-be16-4579-897e-6b7bb5c05577",
   "metadata": {},
   "outputs": [],
   "source": [
    "base = \"/Users/brinkley97/Documents/development/lab-kcad/\"\n",
    "path_to_file = \"datasets/tiles_dataset/table_1/\"\n",
    "name_of_file = \"nurse_data.csv\"\n",
    "file = base + path_to_file + name_of_file"
   ]
  },
  {
   "cell_type": "code",
   "execution_count": 3,
   "id": "c16f8ddb-d0fc-414b-974e-b88927ad3ba9",
   "metadata": {},
   "outputs": [],
   "source": [
    "def load_data(file):\n",
    "    \n",
    "    original_data = pd.read_csv(file)\n",
    "    copy_of_data = original_data.copy()\n",
    "    \n",
    "    return copy_of_data"
   ]
  },
  {
   "cell_type": "code",
   "execution_count": 4,
   "id": "67927cbc-f200-4572-830d-18eeb131a6f5",
   "metadata": {},
   "outputs": [],
   "source": [
    "nurse_df = load_data(file)\n",
    "# nurse_df"
   ]
  },
  {
   "cell_type": "code",
   "execution_count": 5,
   "id": "96212dca-4ab7-45b6-989b-23875ea0b29c",
   "metadata": {},
   "outputs": [],
   "source": [
    "day_shift = nurse_df['Shift'] == 'Day shift'\n",
    "day_df = nurse_df.loc[day_shift]\n",
    "# day_df.head(5)"
   ]
  },
  {
   "cell_type": "code",
   "execution_count": 6,
   "id": "7bc715f0-fb16-4332-a51e-e182c3db2f1d",
   "metadata": {},
   "outputs": [],
   "source": [
    "night_shift = nurse_df['Shift'] == 'Night shift'\n",
    "night_df = nurse_df.loc[night_shift]\n",
    "# night_df.head(5)"
   ]
  },
  {
   "cell_type": "markdown",
   "id": "03aeb539-e1c1-40c9-92a4-aecafedc8211",
   "metadata": {},
   "source": [
    "# Load Generated Specific Questions"
   ]
  },
  {
   "cell_type": "code",
   "execution_count": 7,
   "id": "63e09953-d0a8-46fc-b23c-15a62b3d7c61",
   "metadata": {},
   "outputs": [],
   "source": [
    "generated_sq_file = \"TGN10Plus/generateSpecificQuestions.ipynb\"\n",
    "table_1_specific_questions = base + generated_sq_file\n",
    "# table_1_specific_questions"
   ]
  },
  {
   "cell_type": "code",
   "execution_count": 8,
   "id": "16707ce3-82e4-4178-96fb-e91cde655e31",
   "metadata": {},
   "outputs": [],
   "source": [
    "# %load table_1_specific_questions\n",
    "/Users/brinkley97/Documents/development/lab-kcad/TGN10Plus/generateSpecificQuestions.ipynb"
   ]
  },
  {
   "cell_type": "code",
   "execution_count": 9,
   "id": "b527ea36-ab4a-4781-99c0-61d5a46a0895",
   "metadata": {},
   "outputs": [],
   "source": [
    "%run \"../generateSpecificQuestions.ipynb\""
   ]
  },
  {
   "cell_type": "code",
   "execution_count": 10,
   "id": "75f650e1-f7c7-48cb-ae9c-8138a6bf95d4",
   "metadata": {},
   "outputs": [
    {
     "data": {
      "text/plain": [
       "['what are differences in primarily *day-shift* nurses and primarily *night-shift* nurses for *Gender* ?',\n",
       " 'what are differences in primarily *day-shift* nurses and primarily *night-shift* nurses for *Age* ?',\n",
       " 'what are differences in primarily *day-shift* nurses and primarily *night-shift* nurses for *Educ* ?',\n",
       " 'what are differences in primarily *day-shift* nurses and primarily *night-shift* nurses for *native_lang* ?',\n",
       " 'what are differences in primarily *day-shift* nurses and primarily *night-shift* nurses for *Female* ?',\n",
       " 'what are differences in primarily *day-shift* nurses and primarily *night-shift* nurses for *Male* ?',\n",
       " 'what are differences in primarily *day-shift* nurses and primarily *night-shift* nurses for *< 40 Years* ?',\n",
       " 'what are differences in primarily *day-shift* nurses and primarily *night-shift* nurses for *>= 40 Years* ?',\n",
       " 'what are differences in primarily *day-shift* nurses and primarily *night-shift* nurses for *Some college or College* ?',\n",
       " 'what are differences in primarily *day-shift* nurses and primarily *night-shift* nurses for *Graduate* ?',\n",
       " 'what are differences in primarily *day-shift* nurses and primarily *night-shift* nurses for *English* ?',\n",
       " 'what are differences in primarily *day-shift* nurses and primarily *night-shift* nurses for *non-english* ?']"
      ]
     },
     "execution_count": 10,
     "metadata": {},
     "output_type": "execute_result"
    }
   ],
   "source": [
    "table_1_demographic_sqs"
   ]
  },
  {
   "cell_type": "markdown",
   "id": "39fa3840-9d14-4514-a880-b042d279f75a",
   "metadata": {},
   "source": [
    "# Run analysis"
   ]
  },
  {
   "cell_type": "markdown",
   "id": "ef63f1cf-29ea-4859-bc67-40c80fef04d0",
   "metadata": {},
   "source": [
    "## Fisher Odds Test - Table 1"
   ]
  },
  {
   "cell_type": "code",
   "execution_count": 11,
   "id": "e804fdbd-bf5a-4ad7-9b87-eb7adac5c7e5",
   "metadata": {},
   "outputs": [],
   "source": [
    "def fisher_odds_p_value(day_shift_df, night_shift_df, specific_demographic_ontology_key, demo_group_1, demo_group_2):\n",
    "    '''Calculate the fisher oddsration and p-values using stats.fisher_exact function\n",
    "    \n",
    "    Arguments:\n",
    "    day_shift_df -- Pandas DataFrame\n",
    "    night_shift_df -- Pandas DataFrame\n",
    "    demo -- str which is used as a column in the two Pandas DataFrames \n",
    "    demo_group_1 -- str which is used as a column in the two Pandas DataFrames \n",
    "    demo_group_2 -- str which is used as a column in the two Pandas DataFrames \n",
    "    \n",
    "    Return: \n",
    "    oddsratio and pvalue\n",
    "    '''\n",
    "    \n",
    "    tabel_df = pd.DataFrame(index=['day', 'night'], columns=[demo_group_1, demo_group_2])\n",
    "    tabel_df.loc['day', demo_group_1] = len(day_shift_df.loc[day_shift_df[specific_demographic_ontology_key] == demo_group_1])\n",
    "    tabel_df.loc['day', demo_group_2] = len(day_shift_df.loc[day_shift_df[specific_demographic_ontology_key] == demo_group_2])\n",
    "    tabel_df.loc['night', demo_group_1] = len(night_shift_df.loc[night_shift_df[specific_demographic_ontology_key] == demo_group_1])\n",
    "    tabel_df.loc['night', demo_group_2] = len(night_shift_df.loc[night_shift_df[specific_demographic_ontology_key] == demo_group_2])\n",
    "    oddsratio, pvalue = stats.fisher_exact(np.array(tabel_df))\n",
    "    \n",
    "    return 'oddsratio : %.3f, pvalue: %.3f \\n' % (oddsratio, pvalue)"
   ]
  },
  {
   "cell_type": "code",
   "execution_count": 12,
   "id": "539a7362-826d-4a91-a7bf-90dd34753b86",
   "metadata": {},
   "outputs": [],
   "source": [
    "def table_one_demo_ontologies(demo_specific_questions):\n",
    "    store_p_values = []\n",
    "\n",
    "    for demo_specific_question in demo_specific_questions:\n",
    "        \n",
    "        demographic_ontology_keys = list(ontology_mappings[\"demographic\"])\n",
    "        demographic_ontology_values = list(ontology_mappings.values())[2]\n",
    "        \n",
    "        for specific_demographic_ontology_key in demographic_ontology_keys:\n",
    "            \n",
    "            if specific_demographic_ontology_key in demo_specific_question.split(\"*\"):\n",
    "                demo_group_1 = demographic_ontology_values[specific_demographic_ontology_key][0]\n",
    "                demo_group_2 = demographic_ontology_values[specific_demographic_ontology_key][1]\n",
    "               \n",
    "                p_value = fisher_odds_p_value(day_df, night_df, specific_demographic_ontology_key=specific_demographic_ontology_key, demo_group_1=demo_group_1, demo_group_2=demo_group_2)\n",
    "                store_p_values.append(specific_demographic_ontology_key)\n",
    "                store_p_values.append(p_value)\n",
    "                \n",
    "            else:\n",
    "                continue\n",
    " \n",
    "    return store_p_values"
   ]
  },
  {
   "cell_type": "code",
   "execution_count": 13,
   "id": "f6f755a7-60c6-40ae-8f7b-be1288713b56",
   "metadata": {},
   "outputs": [
    {
     "data": {
      "text/plain": [
       "['Gender',\n",
       " 'oddsratio : 1.188, pvalue: 0.829 \\n',\n",
       " 'Age',\n",
       " 'oddsratio : 0.517, pvalue: 0.160 \\n',\n",
       " 'Educ',\n",
       " 'oddsratio : 1.967, pvalue: 0.215 \\n',\n",
       " 'native_lang',\n",
       " 'oddsratio : nan, pvalue: 1.000 \\n']"
      ]
     },
     "execution_count": 13,
     "metadata": {},
     "output_type": "execute_result"
    }
   ],
   "source": [
    "table_one_demo_ontologies(table_1_demographic_sqs)"
   ]
  },
  {
   "cell_type": "code",
   "execution_count": null,
   "id": "b4fe9387-50c2-4b22-9fd6-6dde6e1a8f30",
   "metadata": {},
   "outputs": [],
   "source": [
    "behav_specific_questions = list(t_test_questions.values())[1]\n",
    "behav_specific_questions"
   ]
  },
  {
   "cell_type": "code",
   "execution_count": null,
   "id": "8928953f-b371-4a57-8957-805535ff8412",
   "metadata": {},
   "outputs": [],
   "source": [
    "def ttest_p_value(all_df, first_df, second_df, behav, print_col, end=False, stat='num'):\n",
    "    \n",
    "    p_values = []\n",
    "    result = pg.ttest(np.array(first_df[behav].dropna()), np.array(second_df[behav].dropna()))\n",
    "    p_values.append(behav)\n",
    "    \n",
    "    p = result['p-val'].values[0]\n",
    "    p_values.append(p)\n",
    "    \n",
    "    return p_values"
   ]
  },
  {
   "cell_type": "code",
   "execution_count": null,
   "id": "6126e2b8-76d1-4175-afcd-bba7696a9e04",
   "metadata": {},
   "outputs": [],
   "source": [
    "def table_one_behav(behav_specific_questions):\n",
    "    p_values = []\n",
    "    behav_values = list(key_words_in_study.values())[3]\n",
    "    # print(\"behav_values : \", behav_values)\n",
    "    \n",
    "    behavs = list(key_words_in_study[\"behavioral\"])\n",
    "    # print(behavs)\n",
    "    \n",
    "    for behav_specific_question in behav_specific_questions:\n",
    "        # print(\"\\n\", behav_specific_question)\n",
    "        \n",
    "        for behav in behavs:\n",
    "            # print(\"\\nbehav : \", behav)\n",
    "            \n",
    "            if behav in behav_specific_question.split(\"*\"):\n",
    "                p_value = ttest_p_value(nurse_df, day_df, night_df, behav, behav, end=False, stat='num')\n",
    "                # print(p_value)\n",
    "                p_values.append(p_value)\n",
    "                behavs.remove(behav)\n",
    "                # print(\"\\n\", behavs)\n",
    "                \n",
    "    return p_values"
   ]
  },
  {
   "cell_type": "code",
   "execution_count": null,
   "id": "ec526df9-0e77-4094-a896-5e6610936901",
   "metadata": {},
   "outputs": [],
   "source": [
    "table_one_behav(behav_specific_questions)"
   ]
  },
  {
   "cell_type": "code",
   "execution_count": null,
   "id": "e93c42fb-d1e6-47da-a9a9-7d4c124d53d3",
   "metadata": {},
   "outputs": [],
   "source": []
  },
  {
   "cell_type": "code",
   "execution_count": null,
   "id": "87029acd-e920-4822-9468-5cef1bfb6b03",
   "metadata": {},
   "outputs": [],
   "source": []
  },
  {
   "cell_type": "code",
   "execution_count": null,
   "id": "b458d7e2-cb4b-45aa-b8c4-48e83eec9df2",
   "metadata": {},
   "outputs": [],
   "source": []
  }
 ],
 "metadata": {
  "kernelspec": {
   "display_name": "Python 3 (ipykernel)",
   "language": "python",
   "name": "python3"
  },
  "language_info": {
   "codemirror_mode": {
    "name": "ipython",
    "version": 3
   },
   "file_extension": ".py",
   "mimetype": "text/x-python",
   "name": "python",
   "nbconvert_exporter": "python",
   "pygments_lexer": "ipython3",
   "version": "3.9.13"
  }
 },
 "nbformat": 4,
 "nbformat_minor": 5
}
