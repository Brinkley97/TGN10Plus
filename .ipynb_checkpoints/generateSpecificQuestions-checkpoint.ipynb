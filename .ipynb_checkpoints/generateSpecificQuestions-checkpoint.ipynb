{
 "cells": [
  {
   "cell_type": "markdown",
   "id": "33ca2fd8-5773-4c98-a8cd-fce924fdba17",
   "metadata": {
    "tags": []
   },
   "source": [
    "# Question Templates (QT)"
   ]
  },
  {
   "cell_type": "code",
   "execution_count": 1,
   "id": "1c6f67fc-02fd-498f-8c3e-99dd26216569",
   "metadata": {},
   "outputs": [],
   "source": [
    "table_1_question_templates = {\n",
    "                    'what are differences in primarily *group_1* nurses and primarily *group_2* nurses for *demographic* ?': [],\n",
    "                    'what are differences in primarily *group_1* nurses and primarily *group_2* nurses for *behavioral* ?': [],\n",
    "}\n",
    "\n",
    "figure_2_question_templates = {\n",
    "    'on both *work_1* day and *work_2* day, what is the effect of primarily *group_1* nurses and primarily *group_2* nurses on *physiological* between the hours of *time_within_a_day* ?': [],\n",
    "}\n",
    "\n",
    "figure_3_questions_templates = {\n",
    "    'what are differences between sleep *physiological_sleep_1* and sleep *physiological_sleep_2* on *work_1* days for primarily *group_1* nurses ?': [],\n",
    "    'what are differences between sleep *physiological_sleep_1* and sleep *physiological_sleep_2* on *work_2* days for primarily *group_1* nurses ?': [],\n",
    "    'what are differences between sleep *physiological_sleep_1* and sleep *physiological_sleep_2* on *work_1* days for primarily *group_2* nurses ?': [],\n",
    "    'what are differences between sleep *physiological_sleep_1* and sleep *physiological_sleep_2* on *work_2* days for primarily *group_2* nurses ?': [],\n",
    "}"
   ]
  },
  {
   "cell_type": "code",
   "execution_count": 2,
   "id": "a884bb19-2c86-4925-9c5c-f7173a4bd748",
   "metadata": {},
   "outputs": [],
   "source": [
    "all_question_templates = []\n",
    "all_question_templates.append(table_1_question_templates)\n",
    "all_question_templates.append(figure_2_question_templates)\n",
    "all_question_templates.append(figure_3_question_templates)"
   ]
  },
  {
   "cell_type": "code",
   "execution_count": 3,
   "id": "5bb095fb-ed88-4680-a7aa-c407ac23c5e2",
   "metadata": {},
   "outputs": [],
   "source": [
    "def convert_question_templates(all_question_templates):\n",
    "    '''Convert question templates to their own individual lists\n",
    "    \n",
    "    Arguments:\n",
    "    all_question_templates -- list\n",
    "    \n",
    "    Return:\n",
    "    2D list with each index being a single question\n",
    "    '''\n",
    "    # print(all_question_templates)\n",
    "    specific_questions = []\n",
    "    \n",
    "    for idx_all_qts in range(len(all_question_templates)):\n",
    "        \n",
    "        # Convert from dict --> list\n",
    "        question_templates = list(all_question_templates[idx_all_qts].keys())\n",
    "        # print(type(question_templates), question_templates)\n",
    "\n",
    "        \n",
    "\n",
    "        # Get specific question template\n",
    "        for question_template in range(len(question_templates)):\n",
    "            \n",
    "            specific_question_templates = []\n",
    "\n",
    "            template_of_question = question_templates[question_template]\n",
    "            # print(question_template, type(template_of_question), template_of_question)\n",
    "            \n",
    "            specific_question_templates.append(template_of_question)\n",
    "            # print(type(specific_question_templates), specific_question_templates)\n",
    "            # print(type(specific_questions), specific_questions)\n",
    "            \n",
    "            specific_questions.append(specific_question_templates)\n",
    "            # print(type(specific_questions), specific_questions)\n",
    "            \n",
    "    return specific_questions"
   ]
  },
  {
   "cell_type": "code",
   "execution_count": 4,
   "id": "d5d1e4e2-b16b-490e-8442-884017d55dec",
   "metadata": {},
   "outputs": [
    {
     "data": {
      "text/plain": [
       "[['what are differences in primarily *group_1* nurses and primarily *group_2* nurses for *demographic* ?'],\n",
       " ['what are differences in primarily *group_1* nurses and primarily *group_2* nurses for *behavioral* ?'],\n",
       " ['on both *work_1* day and *work_2* day, what is the effect of primarily *group_1* nurses and primarily *group_2* nurses on *physiological* between the hours of *time_within_a_day* ?']]"
      ]
     },
     "execution_count": 4,
     "metadata": {},
     "output_type": "execute_result"
    }
   ],
   "source": [
    "converted_question_templates = convert_question_templates(all_question_templates)\n",
    "converted_question_templates"
   ]
  },
  {
   "cell_type": "markdown",
   "id": "8cd6645e-1cf8-4d2e-8929-b87b71e13889",
   "metadata": {
    "tags": []
   },
   "source": [
    "# Relevant Ontology Terms for the Mappings\n",
    "- om refers to ontology_mappings in some variable below"
   ]
  },
  {
   "cell_type": "code",
   "execution_count": 5,
   "id": "a485465f-a4d6-42ac-97d1-b7e2ac07135b",
   "metadata": {},
   "outputs": [],
   "source": [
    "ontology_mappings = {\n",
    "                       \n",
    "    'group_1': 'day-shift',\n",
    "    'group_2': 'night-shift',\n",
    "    'work_1': 'work',\n",
    "    'work_2': 'off',\n",
    "    'demographic':  {\n",
    "        'Gender': ['Female', 'Male'],\n",
    "        'Age': ['< 40 Years', '>= 40 Years'],\n",
    "        'Educ': ['Some college or College', 'Graduate'],\n",
    "        'native_lang': ['English', 'non-english'],\n",
    "    },\n",
    "    'behavioral': ['stai', 'pan_PosAffect', 'pan_NegAffect', 'swls', 'bfi_Neuroticism', 'bfi_Conscientiousness', \n",
    "                   'bfi_Extraversion', 'bfi_Agreeableness', 'bfi_Openness', 'psqi'\n",
    "                  ],\n",
    "    'physiological_sleep_1': 'start',\n",
    "    'physiological_sleep_2': 'end',\n",
    "    'physiological': ['rest', 'step_ratio', 'run_ratio', 'vigorous_min', 'duration', 'efficiency', 'mid'],\n",
    "    'time_within_a_day': ['23:00–3:00 h', '3:00–7:00 h', '7:00–11:00 h', '11:00–15:00 h', '15:00–19:00 h', '19:00–23:00 h'],\n",
    "                        \n",
    "}"
   ]
  },
  {
   "cell_type": "code",
   "execution_count": 6,
   "id": "38b3b2ed-14e5-4d5a-8e39-d4603c4168e6",
   "metadata": {},
   "outputs": [],
   "source": [
    "def reformat_ontology_mappings(ontology_mappings):\n",
    "    '''Convert the values of that specific key in key words in study\n",
    "    \n",
    "    Arguments:\n",
    "    ontology_mappings (om) -- dict\n",
    "        keys -- str\n",
    "        values -- \n",
    "            str : group_1, group_2 (remain the same)\n",
    "            dict : gender, age, highest degree, native language (convert to list)\n",
    "            list : behavioral, physiological (remain the same)\n",
    "    \n",
    "    Return:\n",
    "    updated_ontology_mappings -- dict\n",
    "    '''\n",
    "    update_demographic_ontology = []\n",
    "    updated_ontology_mappings = ontology_mappings.copy()\n",
    "    \n",
    "    ontology_mapping_values = list(updated_ontology_mappings.values()) \n",
    "    # print(ontology_mapping_values)\n",
    "    \n",
    "    demographic_keys = list(ontology_mapping_values[2].keys())\n",
    "    # print(demographic_keys)\n",
    "    update_demographic_ontology.append(demographic_keys)\n",
    "    # print(update_demographic_ontology)\n",
    "    # print()\n",
    "    \n",
    "    demographic_values = list(ontology_mapping_values[2].values())\n",
    "    # print(demographic_values)\n",
    "    demographic_values = sum(demographic_values, [])\n",
    "    # print(demographic_values)\n",
    "    update_demographic_ontology.append(demographic_values)\n",
    "    # print(update_demographic_ontology)\n",
    "\n",
    "    updated_ontology_mappings[\"demographic\"] = sum(update_demographic_ontology, [])\n",
    "        \n",
    "    return updated_ontology_mappings"
   ]
  },
  {
   "cell_type": "code",
   "execution_count": 7,
   "id": "56dfd53a-333d-436a-b090-7e8acdbc4cfc",
   "metadata": {},
   "outputs": [],
   "source": [
    "updated_ontology_mappings = reformat_ontology_mappings(ontology_mappings)\n",
    "# updated_ontology_mappings"
   ]
  },
  {
   "cell_type": "markdown",
   "id": "b1f97d94-5a96-462b-bede-ce111edd6344",
   "metadata": {
    "jp-MarkdownHeadingCollapsed": true,
    "tags": []
   },
   "source": [
    "# Generate Specific Question (SQ)"
   ]
  },
  {
   "cell_type": "code",
   "execution_count": 8,
   "id": "4e844440-e977-46e6-a4ca-986aca84defa",
   "metadata": {},
   "outputs": [],
   "source": [
    "def decompose_specific_question(question, updated_key_words_in_study):\n",
    "    '''Simultaneously replace specific words. Function is called within generate_specific_questions\n",
    "    \n",
    "    Arguments:\n",
    "    question -- string\n",
    "    updated_key_words_in_study -- dict\n",
    "    \n",
    "    Return:\n",
    "    questions -- list\n",
    "    '''\n",
    "    \n",
    "    questions = []\n",
    "    specific_questions = []\n",
    "    \n",
    "    # print(\"\\n\", question)\n",
    "    words = question.split(\"*\")\n",
    "    # print(words)\n",
    "    \n",
    "    # values_for_key = list(updated_key_words_in_study.values())\n",
    "    # print(values_for_key)\n",
    "    \n",
    "    for key, values in updated_key_words_in_study.items():\n",
    "        # print(\"Key :: Value\", key, \"::\", values)\n",
    "        if key in words:\n",
    "            # print(\"Key :: Value\", key, \"::\", values)\n",
    "            # updated_key_words_in_study[key] \n",
    "            # print(True)\n",
    "           \n",
    "            for value in values :\n",
    "               \n",
    "                replace = question.replace(key, value)\n",
    "                # print(\"\\n>>\", replace)\n",
    "                key = value\n",
    "                # print(\"key: \", key)\n",
    "                question = replace\n",
    "                questions.append(question)\n",
    "    # specific_questions.append(questions)\n",
    "    # print(\"\\n------------------\")\n",
    "    return questions"
   ]
  },
  {
   "cell_type": "code",
   "execution_count": 9,
   "id": "1d04edc9-77f3-4098-b7df-dafdaf1ee200",
   "metadata": {},
   "outputs": [],
   "source": [
    "def generate_specific_questions(updated_ontology_mappings, converted_question_templates):\n",
    "    '''For each question template, map ontologies to create and generate specific questions\n",
    "    \n",
    "    Arguments:\n",
    "    updated_ontology_mappings -- dict\n",
    "    converted_question_templates -- list\n",
    "    \n",
    "    Functions:\n",
    "    decompose_specific_question -- string --> list\n",
    "    '''\n",
    "    \n",
    "    updated_ontology_mappings_keys = list(updated_ontology_mappings.keys())\n",
    "    updated_ontology_mappings_values = list(updated_ontology_mappings.values())\n",
    "    \n",
    "    # print(type(updated_ontology_mappings), updated_ontology_mappings, \"\\n\\n\",\n",
    "    #       type(updated_ontology_mappings_keys), updated_ontology_mappings_keys, \"\\n\\n\",\n",
    "    #       type(updated_ontology_mappings_values), updated_ontology_mappings_values, \"\\n\\n\",\n",
    "    #       type(converted_question_templates), converted_question_templates)\n",
    "\n",
    "    specific_questions = []\n",
    "    \n",
    "    # Get specific question template\n",
    "    for converted_question_template_idx in range(len(converted_question_templates)):\n",
    "        perm = []\n",
    "        \n",
    "        # print(\"-------NEW QUESTION TEMPLATE------------\")\n",
    "        # print(converted_question_template_idx, converted_question_templates[converted_question_template_idx])\n",
    "                \n",
    "        specific_question_template = ''.join(converted_question_templates[converted_question_template_idx])\n",
    "        # print(\"...\", type(specific_question_template), specific_question_template)   \n",
    "        \n",
    "       \n",
    "        # Replace matching variables \n",
    "        k = []\n",
    "        for idx_of_ontology_mappings_key, ontology_mappings_key in enumerate(updated_ontology_mappings_keys): \n",
    "            # print(\"key words in study : \", updated_ontology_mappings_keys)\n",
    "            # print((idx_of_ontology_mappings_key, ontology_mappings_key))            \n",
    "            k.append(ontology_mappings_key)\n",
    "            \n",
    "            start_idx_of_ontology_mappings_key = specific_question_template.find(ontology_mappings_key)\n",
    "            # print(start_idx_of_ontology_mappings_key)\n",
    "            \n",
    "            \n",
    "            if start_idx_of_ontology_mappings_key != -1:\n",
    "                specific_question_templates = []\n",
    "                # key_word_is_in_sqt = True\n",
    "                # print((idx_of_ontology_mappings_key, ontology_mappings_key))\n",
    "                # print(key_word_is_in_sqt)\n",
    "                ontology_mappings_values = updated_ontology_mappings[ontology_mappings_key]\n",
    "                # print((idx_of_ontology_mappings_key, ontology_mappings_key), \"::\", ontology_mappings_values, \"is of type\", type(ontology_mappings_values), \"\\n\")\n",
    "                ontology_mappings_values_a_list = isinstance(updated_ontology_mappings[ontology_mappings_key], list)\n",
    "                \n",
    "                # print(\"...\", type(specific_question_template), specific_question_template)\n",
    "                if ontology_mappings_values_a_list == True:\n",
    "                    \n",
    "                    # When a key's value is a list\n",
    "                    \n",
    "                    for specific_ontology_mappings_value in ontology_mappings_values:\n",
    "                        # print(\"\\n\", specific_ontology_mappings_value, ontology_mappings_values)\n",
    "                        \n",
    "                        replace_om_key_with_value = specific_question_template.replace(ontology_mappings_key, specific_ontology_mappings_value)\n",
    "                        # print(\"\\n>>\", replace_om_key_with_value)\n",
    "                        ontology_mappings_key = specific_ontology_mappings_value\n",
    "                        # print(\"ontology_mappings_key: \", ontology_mappings_key)\n",
    "                        specific_question_template = replace_om_key_with_value\n",
    "                        # if specific_ontology_mappings_value in specific_question_template: \n",
    "                        # print(\"\\nspecific_question_template : \", specific_question_templatey)\n",
    "                        # print(\">>> \", ontology_mappings_key, ontology_mappings_values)\n",
    "                        # print(\"\\n****updated_ontology_mappings_keys\", updated_ontology_mappings_keys[-1])\n",
    "                        # print(\"************specific_question_template : \", specific_ontology_mappings_value, specific_question_template, \"\\n\")\n",
    "                        if updated_ontology_mappings_keys[-1] not in specific_question_template:\n",
    "                            specific_question_templates.append(specific_question_template)\n",
    "                            # print(\"@@@@\", specific_question_templates, \"\\n\")\n",
    "                            \n",
    "                            \n",
    "                        else:\n",
    "                            # print(True)\n",
    "                            # don't duplicate last variable in list;\n",
    "                            if ontology_mappings_values[-1] in specific_question_template.split(\"*\"): \n",
    "                                pass\n",
    "                            else:\n",
    "                                permutate_single_question = decompose_specific_question(specific_question_template, updated_ontology_mappings)\n",
    "                                # print(\"permutate_single_question : \", permutate_single_question)\n",
    "                                perm.append(permutate_single_question)\n",
    "\n",
    "                                    \n",
    "                # When a key's value is NOT a list\n",
    "                else:\n",
    "                    replace_om_key_with_value = specific_question_template.replace(ontology_mappings_key, ontology_mappings_values)\n",
    "                    # print(\"\\n>>\", replace_om_key_with_value)\n",
    "                    specific_question_template = replace_om_key_with_value\n",
    "                    specific_question_templates.append(specific_question_template)\n",
    "                    # print(\"specific_question_templates : \", specific_question_templates)\n",
    "                \n",
    "            else:\n",
    "                # key_word_is_in_sqt = False\n",
    "                # print(key_word_is_in_sqt)\n",
    "                continue\n",
    "        \n",
    "        specific_questions.append(specific_question_templates)\n",
    "        \n",
    "        # don't append perm list if empty \n",
    "        if len(perm) != 0:\n",
    "            # print(perm)\n",
    "            perm = sum(perm, [])\n",
    "            specific_questions[-1].extend(perm)\n",
    "\n",
    "    return specific_questions"
   ]
  },
  {
   "cell_type": "code",
   "execution_count": 10,
   "id": "9e1ff1ef-451f-4ebf-9381-0f1e128582d0",
   "metadata": {},
   "outputs": [
    {
     "data": {
      "text/plain": [
       "[['what are differences in primarily *day-shift* nurses and primarily *night-shift* nurses for *Gender* ?',\n",
       "  'what are differences in primarily *day-shift* nurses and primarily *night-shift* nurses for *Age* ?',\n",
       "  'what are differences in primarily *day-shift* nurses and primarily *night-shift* nurses for *Educ* ?',\n",
       "  'what are differences in primarily *day-shift* nurses and primarily *night-shift* nurses for *native_lang* ?',\n",
       "  'what are differences in primarily *day-shift* nurses and primarily *night-shift* nurses for *Female* ?',\n",
       "  'what are differences in primarily *day-shift* nurses and primarily *night-shift* nurses for *Male* ?',\n",
       "  'what are differences in primarily *day-shift* nurses and primarily *night-shift* nurses for *< 40 Years* ?',\n",
       "  'what are differences in primarily *day-shift* nurses and primarily *night-shift* nurses for *>= 40 Years* ?',\n",
       "  'what are differences in primarily *day-shift* nurses and primarily *night-shift* nurses for *Some college or College* ?',\n",
       "  'what are differences in primarily *day-shift* nurses and primarily *night-shift* nurses for *Graduate* ?',\n",
       "  'what are differences in primarily *day-shift* nurses and primarily *night-shift* nurses for *English* ?',\n",
       "  'what are differences in primarily *day-shift* nurses and primarily *night-shift* nurses for *non-english* ?'],\n",
       " ['what are differences in primarily *day-shift* nurses and primarily *night-shift* nurses for *stai* ?',\n",
       "  'what are differences in primarily *day-shift* nurses and primarily *night-shift* nurses for *pan_PosAffect* ?',\n",
       "  'what are differences in primarily *day-shift* nurses and primarily *night-shift* nurses for *pan_NegAffect* ?',\n",
       "  'what are differences in primarily *day-shift* nurses and primarily *night-shift* nurses for *swls* ?',\n",
       "  'what are differences in primarily *day-shift* nurses and primarily *night-shift* nurses for *bfi_Neuroticism* ?',\n",
       "  'what are differences in primarily *day-shift* nurses and primarily *night-shift* nurses for *bfi_Conscientiousness* ?',\n",
       "  'what are differences in primarily *day-shift* nurses and primarily *night-shift* nurses for *bfi_Extraversion* ?',\n",
       "  'what are differences in primarily *day-shift* nurses and primarily *night-shift* nurses for *bfi_Agreeableness* ?',\n",
       "  'what are differences in primarily *day-shift* nurses and primarily *night-shift* nurses for *bfi_Openness* ?',\n",
       "  'what are differences in primarily *day-shift* nurses and primarily *night-shift* nurses for *psqi* ?'],\n",
       " ['on both *work_1* day and *work_2* day, what is the effect of primarily *day-shift* nurses and primarily *night-shift* nurses on *mid* between the hours of *23:00–3:00 h* ?',\n",
       "  'on both *work_1* day and *work_2* day, what is the effect of primarily *day-shift* nurses and primarily *night-shift* nurses on *mid* between the hours of *3:00–7:00 h* ?',\n",
       "  'on both *work_1* day and *work_2* day, what is the effect of primarily *day-shift* nurses and primarily *night-shift* nurses on *mid* between the hours of *7:00–11:00 h* ?',\n",
       "  'on both *work_1* day and *work_2* day, what is the effect of primarily *day-shift* nurses and primarily *night-shift* nurses on *mid* between the hours of *11:00–15:00 h* ?',\n",
       "  'on both *work_1* day and *work_2* day, what is the effect of primarily *day-shift* nurses and primarily *night-shift* nurses on *mid* between the hours of *15:00–19:00 h* ?',\n",
       "  'on both *work_1* day and *work_2* day, what is the effect of primarily *day-shift* nurses and primarily *night-shift* nurses on *mid* between the hours of *19:00–23:00 h* ?',\n",
       "  'on both *work_1* day and *work_2* day, what is the effect of primarily *day-shift* nurses and primarily *night-shift* nurses on *rest* between the hours of *23:00–3:00 h* ?',\n",
       "  'on both *work_1* day and *work_2* day, what is the effect of primarily *day-shift* nurses and primarily *night-shift* nurses on *rest* between the hours of *3:00–7:00 h* ?',\n",
       "  'on both *work_1* day and *work_2* day, what is the effect of primarily *day-shift* nurses and primarily *night-shift* nurses on *rest* between the hours of *7:00–11:00 h* ?',\n",
       "  'on both *work_1* day and *work_2* day, what is the effect of primarily *day-shift* nurses and primarily *night-shift* nurses on *rest* between the hours of *11:00–15:00 h* ?',\n",
       "  'on both *work_1* day and *work_2* day, what is the effect of primarily *day-shift* nurses and primarily *night-shift* nurses on *rest* between the hours of *15:00–19:00 h* ?',\n",
       "  'on both *work_1* day and *work_2* day, what is the effect of primarily *day-shift* nurses and primarily *night-shift* nurses on *rest* between the hours of *19:00–23:00 h* ?',\n",
       "  'on both *work_1* day and *work_2* day, what is the effect of primarily *day-shift* nurses and primarily *night-shift* nurses on *step_ratio* between the hours of *23:00–3:00 h* ?',\n",
       "  'on both *work_1* day and *work_2* day, what is the effect of primarily *day-shift* nurses and primarily *night-shift* nurses on *step_ratio* between the hours of *3:00–7:00 h* ?',\n",
       "  'on both *work_1* day and *work_2* day, what is the effect of primarily *day-shift* nurses and primarily *night-shift* nurses on *step_ratio* between the hours of *7:00–11:00 h* ?',\n",
       "  'on both *work_1* day and *work_2* day, what is the effect of primarily *day-shift* nurses and primarily *night-shift* nurses on *step_ratio* between the hours of *11:00–15:00 h* ?',\n",
       "  'on both *work_1* day and *work_2* day, what is the effect of primarily *day-shift* nurses and primarily *night-shift* nurses on *step_ratio* between the hours of *15:00–19:00 h* ?',\n",
       "  'on both *work_1* day and *work_2* day, what is the effect of primarily *day-shift* nurses and primarily *night-shift* nurses on *step_ratio* between the hours of *19:00–23:00 h* ?',\n",
       "  'on both *work_1* day and *work_2* day, what is the effect of primarily *day-shift* nurses and primarily *night-shift* nurses on *run_ratio* between the hours of *23:00–3:00 h* ?',\n",
       "  'on both *work_1* day and *work_2* day, what is the effect of primarily *day-shift* nurses and primarily *night-shift* nurses on *run_ratio* between the hours of *3:00–7:00 h* ?',\n",
       "  'on both *work_1* day and *work_2* day, what is the effect of primarily *day-shift* nurses and primarily *night-shift* nurses on *run_ratio* between the hours of *7:00–11:00 h* ?',\n",
       "  'on both *work_1* day and *work_2* day, what is the effect of primarily *day-shift* nurses and primarily *night-shift* nurses on *run_ratio* between the hours of *11:00–15:00 h* ?',\n",
       "  'on both *work_1* day and *work_2* day, what is the effect of primarily *day-shift* nurses and primarily *night-shift* nurses on *run_ratio* between the hours of *15:00–19:00 h* ?',\n",
       "  'on both *work_1* day and *work_2* day, what is the effect of primarily *day-shift* nurses and primarily *night-shift* nurses on *run_ratio* between the hours of *19:00–23:00 h* ?',\n",
       "  'on both *work_1* day and *work_2* day, what is the effect of primarily *day-shift* nurses and primarily *night-shift* nurses on *vigorous_min* between the hours of *23:00–3:00 h* ?',\n",
       "  'on both *work_1* day and *work_2* day, what is the effect of primarily *day-shift* nurses and primarily *night-shift* nurses on *vigorous_min* between the hours of *3:00–7:00 h* ?',\n",
       "  'on both *work_1* day and *work_2* day, what is the effect of primarily *day-shift* nurses and primarily *night-shift* nurses on *vigorous_min* between the hours of *7:00–11:00 h* ?',\n",
       "  'on both *work_1* day and *work_2* day, what is the effect of primarily *day-shift* nurses and primarily *night-shift* nurses on *vigorous_min* between the hours of *11:00–15:00 h* ?',\n",
       "  'on both *work_1* day and *work_2* day, what is the effect of primarily *day-shift* nurses and primarily *night-shift* nurses on *vigorous_min* between the hours of *15:00–19:00 h* ?',\n",
       "  'on both *work_1* day and *work_2* day, what is the effect of primarily *day-shift* nurses and primarily *night-shift* nurses on *vigorous_min* between the hours of *19:00–23:00 h* ?',\n",
       "  'on both *work_1* day and *work_2* day, what is the effect of primarily *day-shift* nurses and primarily *night-shift* nurses on *duration* between the hours of *23:00–3:00 h* ?',\n",
       "  'on both *work_1* day and *work_2* day, what is the effect of primarily *day-shift* nurses and primarily *night-shift* nurses on *duration* between the hours of *3:00–7:00 h* ?',\n",
       "  'on both *work_1* day and *work_2* day, what is the effect of primarily *day-shift* nurses and primarily *night-shift* nurses on *duration* between the hours of *7:00–11:00 h* ?',\n",
       "  'on both *work_1* day and *work_2* day, what is the effect of primarily *day-shift* nurses and primarily *night-shift* nurses on *duration* between the hours of *11:00–15:00 h* ?',\n",
       "  'on both *work_1* day and *work_2* day, what is the effect of primarily *day-shift* nurses and primarily *night-shift* nurses on *duration* between the hours of *15:00–19:00 h* ?',\n",
       "  'on both *work_1* day and *work_2* day, what is the effect of primarily *day-shift* nurses and primarily *night-shift* nurses on *duration* between the hours of *19:00–23:00 h* ?',\n",
       "  'on both *work_1* day and *work_2* day, what is the effect of primarily *day-shift* nurses and primarily *night-shift* nurses on *efficiency* between the hours of *23:00–3:00 h* ?',\n",
       "  'on both *work_1* day and *work_2* day, what is the effect of primarily *day-shift* nurses and primarily *night-shift* nurses on *efficiency* between the hours of *3:00–7:00 h* ?',\n",
       "  'on both *work_1* day and *work_2* day, what is the effect of primarily *day-shift* nurses and primarily *night-shift* nurses on *efficiency* between the hours of *7:00–11:00 h* ?',\n",
       "  'on both *work_1* day and *work_2* day, what is the effect of primarily *day-shift* nurses and primarily *night-shift* nurses on *efficiency* between the hours of *11:00–15:00 h* ?',\n",
       "  'on both *work_1* day and *work_2* day, what is the effect of primarily *day-shift* nurses and primarily *night-shift* nurses on *efficiency* between the hours of *15:00–19:00 h* ?',\n",
       "  'on both *work_1* day and *work_2* day, what is the effect of primarily *day-shift* nurses and primarily *night-shift* nurses on *efficiency* between the hours of *19:00–23:00 h* ?']]"
      ]
     },
     "execution_count": 10,
     "metadata": {},
     "output_type": "execute_result"
    }
   ],
   "source": [
    "generated_specific_questions = generate_specific_questions(updated_ontology_mappings, converted_question_templates)\n",
    "generated_specific_questions"
   ]
  },
  {
   "cell_type": "markdown",
   "id": "fc6dad40-1fbf-4437-92a1-591850b0b793",
   "metadata": {
    "tags": []
   },
   "source": [
    "# Map QTs with corresponding SQs"
   ]
  },
  {
   "cell_type": "code",
   "execution_count": 11,
   "id": "3ecda57c-d3a1-4c99-a3e0-918d2d89456f",
   "metadata": {},
   "outputs": [],
   "source": [
    "def map_qt_with_sq(all_question_templates, generated_specific_questions):\n",
    "    '''Take the original question template dictionaries with QTs as keys and add SQs as values, respectively\n",
    "    \n",
    "    Arguments:\n",
    "    all_question_templates -- list\n",
    "    generated_specific_questions -- 2D list\n",
    "    \n",
    "    Return:\n",
    "    \n",
    "    '''\n",
    "    \n",
    "    idx = 0\n",
    "    for idx_of_question_template in range(len(all_question_templates)):\n",
    "        question_templates = list(all_question_templates[idx_of_question_template].keys())\n",
    "        # print(\"question_templates :\", question_templates)\n",
    "        \n",
    "        for specific_question_template in question_templates:\n",
    "            # print(generated_specific_questions[idx])\n",
    "            # print(\"question_templates :\", question_templates, \"\\n\")\n",
    "            \n",
    "            update_qts_with_sq = all_question_templates[idx_of_question_template]\n",
    "            # print(\"\\nupdate_qts_with_sq :\", update_qts_with_sq, \"\\n\")\n",
    "            \n",
    "            update_qts_with_sq[specific_question_template] = generated_specific_questions[idx]\n",
    "            # print(\"****\", update_qts_with_sq[specific_question_template])\n",
    "            idx = idx + 1 \n",
    "       \n",
    "    \n",
    "    # return update_qts_with_sq[specific_question_template]\n",
    "    # why is this returning as such?\n",
    "    # should I NOT return anything instead?\n",
    "    return update_qts_with_sq"
   ]
  },
  {
   "cell_type": "code",
   "execution_count": 12,
   "id": "65695e11-d95c-4158-b8d8-1d10db08cb21",
   "metadata": {},
   "outputs": [
    {
     "data": {
      "text/plain": [
       "{'on both *work_1* day and *work_2* day, what is the effect of primarily *group_1* nurses and primarily *group_2* nurses on *physiological* between the hours of *time_within_a_day* ?': ['on both *work_1* day and *work_2* day, what is the effect of primarily *day-shift* nurses and primarily *night-shift* nurses on *mid* between the hours of *23:00–3:00 h* ?',\n",
       "  'on both *work_1* day and *work_2* day, what is the effect of primarily *day-shift* nurses and primarily *night-shift* nurses on *mid* between the hours of *3:00–7:00 h* ?',\n",
       "  'on both *work_1* day and *work_2* day, what is the effect of primarily *day-shift* nurses and primarily *night-shift* nurses on *mid* between the hours of *7:00–11:00 h* ?',\n",
       "  'on both *work_1* day and *work_2* day, what is the effect of primarily *day-shift* nurses and primarily *night-shift* nurses on *mid* between the hours of *11:00–15:00 h* ?',\n",
       "  'on both *work_1* day and *work_2* day, what is the effect of primarily *day-shift* nurses and primarily *night-shift* nurses on *mid* between the hours of *15:00–19:00 h* ?',\n",
       "  'on both *work_1* day and *work_2* day, what is the effect of primarily *day-shift* nurses and primarily *night-shift* nurses on *mid* between the hours of *19:00–23:00 h* ?',\n",
       "  'on both *work_1* day and *work_2* day, what is the effect of primarily *day-shift* nurses and primarily *night-shift* nurses on *rest* between the hours of *23:00–3:00 h* ?',\n",
       "  'on both *work_1* day and *work_2* day, what is the effect of primarily *day-shift* nurses and primarily *night-shift* nurses on *rest* between the hours of *3:00–7:00 h* ?',\n",
       "  'on both *work_1* day and *work_2* day, what is the effect of primarily *day-shift* nurses and primarily *night-shift* nurses on *rest* between the hours of *7:00–11:00 h* ?',\n",
       "  'on both *work_1* day and *work_2* day, what is the effect of primarily *day-shift* nurses and primarily *night-shift* nurses on *rest* between the hours of *11:00–15:00 h* ?',\n",
       "  'on both *work_1* day and *work_2* day, what is the effect of primarily *day-shift* nurses and primarily *night-shift* nurses on *rest* between the hours of *15:00–19:00 h* ?',\n",
       "  'on both *work_1* day and *work_2* day, what is the effect of primarily *day-shift* nurses and primarily *night-shift* nurses on *rest* between the hours of *19:00–23:00 h* ?',\n",
       "  'on both *work_1* day and *work_2* day, what is the effect of primarily *day-shift* nurses and primarily *night-shift* nurses on *step_ratio* between the hours of *23:00–3:00 h* ?',\n",
       "  'on both *work_1* day and *work_2* day, what is the effect of primarily *day-shift* nurses and primarily *night-shift* nurses on *step_ratio* between the hours of *3:00–7:00 h* ?',\n",
       "  'on both *work_1* day and *work_2* day, what is the effect of primarily *day-shift* nurses and primarily *night-shift* nurses on *step_ratio* between the hours of *7:00–11:00 h* ?',\n",
       "  'on both *work_1* day and *work_2* day, what is the effect of primarily *day-shift* nurses and primarily *night-shift* nurses on *step_ratio* between the hours of *11:00–15:00 h* ?',\n",
       "  'on both *work_1* day and *work_2* day, what is the effect of primarily *day-shift* nurses and primarily *night-shift* nurses on *step_ratio* between the hours of *15:00–19:00 h* ?',\n",
       "  'on both *work_1* day and *work_2* day, what is the effect of primarily *day-shift* nurses and primarily *night-shift* nurses on *step_ratio* between the hours of *19:00–23:00 h* ?',\n",
       "  'on both *work_1* day and *work_2* day, what is the effect of primarily *day-shift* nurses and primarily *night-shift* nurses on *run_ratio* between the hours of *23:00–3:00 h* ?',\n",
       "  'on both *work_1* day and *work_2* day, what is the effect of primarily *day-shift* nurses and primarily *night-shift* nurses on *run_ratio* between the hours of *3:00–7:00 h* ?',\n",
       "  'on both *work_1* day and *work_2* day, what is the effect of primarily *day-shift* nurses and primarily *night-shift* nurses on *run_ratio* between the hours of *7:00–11:00 h* ?',\n",
       "  'on both *work_1* day and *work_2* day, what is the effect of primarily *day-shift* nurses and primarily *night-shift* nurses on *run_ratio* between the hours of *11:00–15:00 h* ?',\n",
       "  'on both *work_1* day and *work_2* day, what is the effect of primarily *day-shift* nurses and primarily *night-shift* nurses on *run_ratio* between the hours of *15:00–19:00 h* ?',\n",
       "  'on both *work_1* day and *work_2* day, what is the effect of primarily *day-shift* nurses and primarily *night-shift* nurses on *run_ratio* between the hours of *19:00–23:00 h* ?',\n",
       "  'on both *work_1* day and *work_2* day, what is the effect of primarily *day-shift* nurses and primarily *night-shift* nurses on *vigorous_min* between the hours of *23:00–3:00 h* ?',\n",
       "  'on both *work_1* day and *work_2* day, what is the effect of primarily *day-shift* nurses and primarily *night-shift* nurses on *vigorous_min* between the hours of *3:00–7:00 h* ?',\n",
       "  'on both *work_1* day and *work_2* day, what is the effect of primarily *day-shift* nurses and primarily *night-shift* nurses on *vigorous_min* between the hours of *7:00–11:00 h* ?',\n",
       "  'on both *work_1* day and *work_2* day, what is the effect of primarily *day-shift* nurses and primarily *night-shift* nurses on *vigorous_min* between the hours of *11:00–15:00 h* ?',\n",
       "  'on both *work_1* day and *work_2* day, what is the effect of primarily *day-shift* nurses and primarily *night-shift* nurses on *vigorous_min* between the hours of *15:00–19:00 h* ?',\n",
       "  'on both *work_1* day and *work_2* day, what is the effect of primarily *day-shift* nurses and primarily *night-shift* nurses on *vigorous_min* between the hours of *19:00–23:00 h* ?',\n",
       "  'on both *work_1* day and *work_2* day, what is the effect of primarily *day-shift* nurses and primarily *night-shift* nurses on *duration* between the hours of *23:00–3:00 h* ?',\n",
       "  'on both *work_1* day and *work_2* day, what is the effect of primarily *day-shift* nurses and primarily *night-shift* nurses on *duration* between the hours of *3:00–7:00 h* ?',\n",
       "  'on both *work_1* day and *work_2* day, what is the effect of primarily *day-shift* nurses and primarily *night-shift* nurses on *duration* between the hours of *7:00–11:00 h* ?',\n",
       "  'on both *work_1* day and *work_2* day, what is the effect of primarily *day-shift* nurses and primarily *night-shift* nurses on *duration* between the hours of *11:00–15:00 h* ?',\n",
       "  'on both *work_1* day and *work_2* day, what is the effect of primarily *day-shift* nurses and primarily *night-shift* nurses on *duration* between the hours of *15:00–19:00 h* ?',\n",
       "  'on both *work_1* day and *work_2* day, what is the effect of primarily *day-shift* nurses and primarily *night-shift* nurses on *duration* between the hours of *19:00–23:00 h* ?',\n",
       "  'on both *work_1* day and *work_2* day, what is the effect of primarily *day-shift* nurses and primarily *night-shift* nurses on *efficiency* between the hours of *23:00–3:00 h* ?',\n",
       "  'on both *work_1* day and *work_2* day, what is the effect of primarily *day-shift* nurses and primarily *night-shift* nurses on *efficiency* between the hours of *3:00–7:00 h* ?',\n",
       "  'on both *work_1* day and *work_2* day, what is the effect of primarily *day-shift* nurses and primarily *night-shift* nurses on *efficiency* between the hours of *7:00–11:00 h* ?',\n",
       "  'on both *work_1* day and *work_2* day, what is the effect of primarily *day-shift* nurses and primarily *night-shift* nurses on *efficiency* between the hours of *11:00–15:00 h* ?',\n",
       "  'on both *work_1* day and *work_2* day, what is the effect of primarily *day-shift* nurses and primarily *night-shift* nurses on *efficiency* between the hours of *15:00–19:00 h* ?',\n",
       "  'on both *work_1* day and *work_2* day, what is the effect of primarily *day-shift* nurses and primarily *night-shift* nurses on *efficiency* between the hours of *19:00–23:00 h* ?']}"
      ]
     },
     "execution_count": 12,
     "metadata": {},
     "output_type": "execute_result"
    }
   ],
   "source": [
    "map_qt_with_sq(all_question_templates, generated_specific_questions)"
   ]
  },
  {
   "cell_type": "markdown",
   "id": "be4b5faf-1079-4a6c-999d-ccb2d905cf3e",
   "metadata": {
    "tags": []
   },
   "source": [
    "# Show updated QTs with SQs"
   ]
  },
  {
   "cell_type": "code",
   "execution_count": 13,
   "id": "33edb995-cb12-485d-888a-50d5dd2b5d72",
   "metadata": {},
   "outputs": [
    {
     "data": {
      "text/plain": [
       "['what are differences in primarily *day-shift* nurses and primarily *night-shift* nurses for *Gender* ?',\n",
       " 'what are differences in primarily *day-shift* nurses and primarily *night-shift* nurses for *Age* ?',\n",
       " 'what are differences in primarily *day-shift* nurses and primarily *night-shift* nurses for *Educ* ?',\n",
       " 'what are differences in primarily *day-shift* nurses and primarily *night-shift* nurses for *native_lang* ?',\n",
       " 'what are differences in primarily *day-shift* nurses and primarily *night-shift* nurses for *Female* ?',\n",
       " 'what are differences in primarily *day-shift* nurses and primarily *night-shift* nurses for *Male* ?',\n",
       " 'what are differences in primarily *day-shift* nurses and primarily *night-shift* nurses for *< 40 Years* ?',\n",
       " 'what are differences in primarily *day-shift* nurses and primarily *night-shift* nurses for *>= 40 Years* ?',\n",
       " 'what are differences in primarily *day-shift* nurses and primarily *night-shift* nurses for *Some college or College* ?',\n",
       " 'what are differences in primarily *day-shift* nurses and primarily *night-shift* nurses for *Graduate* ?',\n",
       " 'what are differences in primarily *day-shift* nurses and primarily *night-shift* nurses for *English* ?',\n",
       " 'what are differences in primarily *day-shift* nurses and primarily *night-shift* nurses for *non-english* ?']"
      ]
     },
     "execution_count": 13,
     "metadata": {},
     "output_type": "execute_result"
    }
   ],
   "source": [
    "table_1_demographic_sqs = list(table_1_question_templates.values())[0]\n",
    "# table_1_demographic_sqs"
   ]
  },
  {
   "cell_type": "code",
   "execution_count": 14,
   "id": "f8a1ea4f-2f1b-4b50-aaa1-0e95334e1a43",
   "metadata": {},
   "outputs": [
    {
     "data": {
      "text/plain": [
       "['what are differences in primarily *day-shift* nurses and primarily *night-shift* nurses for *stai* ?',\n",
       " 'what are differences in primarily *day-shift* nurses and primarily *night-shift* nurses for *pan_PosAffect* ?',\n",
       " 'what are differences in primarily *day-shift* nurses and primarily *night-shift* nurses for *pan_NegAffect* ?',\n",
       " 'what are differences in primarily *day-shift* nurses and primarily *night-shift* nurses for *swls* ?',\n",
       " 'what are differences in primarily *day-shift* nurses and primarily *night-shift* nurses for *bfi_Neuroticism* ?',\n",
       " 'what are differences in primarily *day-shift* nurses and primarily *night-shift* nurses for *bfi_Conscientiousness* ?',\n",
       " 'what are differences in primarily *day-shift* nurses and primarily *night-shift* nurses for *bfi_Extraversion* ?',\n",
       " 'what are differences in primarily *day-shift* nurses and primarily *night-shift* nurses for *bfi_Agreeableness* ?',\n",
       " 'what are differences in primarily *day-shift* nurses and primarily *night-shift* nurses for *bfi_Openness* ?',\n",
       " 'what are differences in primarily *day-shift* nurses and primarily *night-shift* nurses for *psqi* ?']"
      ]
     },
     "execution_count": 14,
     "metadata": {},
     "output_type": "execute_result"
    }
   ],
   "source": [
    "table_1_behavioral_sqs = list(table_1_question_templates.values())[1]\n",
    "# table_1_behavioral_sqs"
   ]
  },
  {
   "cell_type": "code",
   "execution_count": 20,
   "id": "63a0ad5d-0fe9-427b-be34-761611b566a6",
   "metadata": {},
   "outputs": [
    {
     "data": {
      "text/plain": [
       "['on both *work_1* day and *work_2* day, what is the effect of primarily *day-shift* nurses and primarily *night-shift* nurses on *mid* between the hours of *23:00–3:00 h* ?',\n",
       " 'on both *work_1* day and *work_2* day, what is the effect of primarily *day-shift* nurses and primarily *night-shift* nurses on *mid* between the hours of *3:00–7:00 h* ?',\n",
       " 'on both *work_1* day and *work_2* day, what is the effect of primarily *day-shift* nurses and primarily *night-shift* nurses on *mid* between the hours of *7:00–11:00 h* ?',\n",
       " 'on both *work_1* day and *work_2* day, what is the effect of primarily *day-shift* nurses and primarily *night-shift* nurses on *mid* between the hours of *11:00–15:00 h* ?',\n",
       " 'on both *work_1* day and *work_2* day, what is the effect of primarily *day-shift* nurses and primarily *night-shift* nurses on *mid* between the hours of *15:00–19:00 h* ?',\n",
       " 'on both *work_1* day and *work_2* day, what is the effect of primarily *day-shift* nurses and primarily *night-shift* nurses on *mid* between the hours of *19:00–23:00 h* ?',\n",
       " 'on both *work_1* day and *work_2* day, what is the effect of primarily *day-shift* nurses and primarily *night-shift* nurses on *rest* between the hours of *23:00–3:00 h* ?',\n",
       " 'on both *work_1* day and *work_2* day, what is the effect of primarily *day-shift* nurses and primarily *night-shift* nurses on *rest* between the hours of *3:00–7:00 h* ?',\n",
       " 'on both *work_1* day and *work_2* day, what is the effect of primarily *day-shift* nurses and primarily *night-shift* nurses on *rest* between the hours of *7:00–11:00 h* ?',\n",
       " 'on both *work_1* day and *work_2* day, what is the effect of primarily *day-shift* nurses and primarily *night-shift* nurses on *rest* between the hours of *11:00–15:00 h* ?',\n",
       " 'on both *work_1* day and *work_2* day, what is the effect of primarily *day-shift* nurses and primarily *night-shift* nurses on *rest* between the hours of *15:00–19:00 h* ?',\n",
       " 'on both *work_1* day and *work_2* day, what is the effect of primarily *day-shift* nurses and primarily *night-shift* nurses on *rest* between the hours of *19:00–23:00 h* ?',\n",
       " 'on both *work_1* day and *work_2* day, what is the effect of primarily *day-shift* nurses and primarily *night-shift* nurses on *step_ratio* between the hours of *23:00–3:00 h* ?',\n",
       " 'on both *work_1* day and *work_2* day, what is the effect of primarily *day-shift* nurses and primarily *night-shift* nurses on *step_ratio* between the hours of *3:00–7:00 h* ?',\n",
       " 'on both *work_1* day and *work_2* day, what is the effect of primarily *day-shift* nurses and primarily *night-shift* nurses on *step_ratio* between the hours of *7:00–11:00 h* ?',\n",
       " 'on both *work_1* day and *work_2* day, what is the effect of primarily *day-shift* nurses and primarily *night-shift* nurses on *step_ratio* between the hours of *11:00–15:00 h* ?',\n",
       " 'on both *work_1* day and *work_2* day, what is the effect of primarily *day-shift* nurses and primarily *night-shift* nurses on *step_ratio* between the hours of *15:00–19:00 h* ?',\n",
       " 'on both *work_1* day and *work_2* day, what is the effect of primarily *day-shift* nurses and primarily *night-shift* nurses on *step_ratio* between the hours of *19:00–23:00 h* ?',\n",
       " 'on both *work_1* day and *work_2* day, what is the effect of primarily *day-shift* nurses and primarily *night-shift* nurses on *run_ratio* between the hours of *23:00–3:00 h* ?',\n",
       " 'on both *work_1* day and *work_2* day, what is the effect of primarily *day-shift* nurses and primarily *night-shift* nurses on *run_ratio* between the hours of *3:00–7:00 h* ?',\n",
       " 'on both *work_1* day and *work_2* day, what is the effect of primarily *day-shift* nurses and primarily *night-shift* nurses on *run_ratio* between the hours of *7:00–11:00 h* ?',\n",
       " 'on both *work_1* day and *work_2* day, what is the effect of primarily *day-shift* nurses and primarily *night-shift* nurses on *run_ratio* between the hours of *11:00–15:00 h* ?',\n",
       " 'on both *work_1* day and *work_2* day, what is the effect of primarily *day-shift* nurses and primarily *night-shift* nurses on *run_ratio* between the hours of *15:00–19:00 h* ?',\n",
       " 'on both *work_1* day and *work_2* day, what is the effect of primarily *day-shift* nurses and primarily *night-shift* nurses on *run_ratio* between the hours of *19:00–23:00 h* ?',\n",
       " 'on both *work_1* day and *work_2* day, what is the effect of primarily *day-shift* nurses and primarily *night-shift* nurses on *vigorous_min* between the hours of *23:00–3:00 h* ?',\n",
       " 'on both *work_1* day and *work_2* day, what is the effect of primarily *day-shift* nurses and primarily *night-shift* nurses on *vigorous_min* between the hours of *3:00–7:00 h* ?',\n",
       " 'on both *work_1* day and *work_2* day, what is the effect of primarily *day-shift* nurses and primarily *night-shift* nurses on *vigorous_min* between the hours of *7:00–11:00 h* ?',\n",
       " 'on both *work_1* day and *work_2* day, what is the effect of primarily *day-shift* nurses and primarily *night-shift* nurses on *vigorous_min* between the hours of *11:00–15:00 h* ?',\n",
       " 'on both *work_1* day and *work_2* day, what is the effect of primarily *day-shift* nurses and primarily *night-shift* nurses on *vigorous_min* between the hours of *15:00–19:00 h* ?',\n",
       " 'on both *work_1* day and *work_2* day, what is the effect of primarily *day-shift* nurses and primarily *night-shift* nurses on *vigorous_min* between the hours of *19:00–23:00 h* ?',\n",
       " 'on both *work_1* day and *work_2* day, what is the effect of primarily *day-shift* nurses and primarily *night-shift* nurses on *duration* between the hours of *23:00–3:00 h* ?',\n",
       " 'on both *work_1* day and *work_2* day, what is the effect of primarily *day-shift* nurses and primarily *night-shift* nurses on *duration* between the hours of *3:00–7:00 h* ?',\n",
       " 'on both *work_1* day and *work_2* day, what is the effect of primarily *day-shift* nurses and primarily *night-shift* nurses on *duration* between the hours of *7:00–11:00 h* ?',\n",
       " 'on both *work_1* day and *work_2* day, what is the effect of primarily *day-shift* nurses and primarily *night-shift* nurses on *duration* between the hours of *11:00–15:00 h* ?',\n",
       " 'on both *work_1* day and *work_2* day, what is the effect of primarily *day-shift* nurses and primarily *night-shift* nurses on *duration* between the hours of *15:00–19:00 h* ?',\n",
       " 'on both *work_1* day and *work_2* day, what is the effect of primarily *day-shift* nurses and primarily *night-shift* nurses on *duration* between the hours of *19:00–23:00 h* ?',\n",
       " 'on both *work_1* day and *work_2* day, what is the effect of primarily *day-shift* nurses and primarily *night-shift* nurses on *efficiency* between the hours of *23:00–3:00 h* ?',\n",
       " 'on both *work_1* day and *work_2* day, what is the effect of primarily *day-shift* nurses and primarily *night-shift* nurses on *efficiency* between the hours of *3:00–7:00 h* ?',\n",
       " 'on both *work_1* day and *work_2* day, what is the effect of primarily *day-shift* nurses and primarily *night-shift* nurses on *efficiency* between the hours of *7:00–11:00 h* ?',\n",
       " 'on both *work_1* day and *work_2* day, what is the effect of primarily *day-shift* nurses and primarily *night-shift* nurses on *efficiency* between the hours of *11:00–15:00 h* ?',\n",
       " 'on both *work_1* day and *work_2* day, what is the effect of primarily *day-shift* nurses and primarily *night-shift* nurses on *efficiency* between the hours of *15:00–19:00 h* ?',\n",
       " 'on both *work_1* day and *work_2* day, what is the effect of primarily *day-shift* nurses and primarily *night-shift* nurses on *efficiency* between the hours of *19:00–23:00 h* ?']"
      ]
     },
     "execution_count": 20,
     "metadata": {},
     "output_type": "execute_result"
    }
   ],
   "source": [
    "# figure_2_sqs = list(figure_2_question_templates.values())\n",
    "# figure_2_sqs\n",
    "figure_2_sqs = list(figure_2_question_templates.values())\n",
    "figure_2_sqs = sum(figure_2_sqs, [])\n",
    "# figure_2_sqs"
   ]
  },
  {
   "cell_type": "code",
   "execution_count": null,
   "id": "7fb98755-1bf0-4bbe-b727-3fe147438251",
   "metadata": {},
   "outputs": [],
   "source": [
    "figure_3_sqs = list(figure_3_question_templates.values())\n",
    "figure_3_sqs = sum(figure_3_sqs, [])\n",
    "figure_3_sqs"
   ]
  }
 ],
 "metadata": {
  "kernelspec": {
   "display_name": "Python 3 (ipykernel)",
   "language": "python",
   "name": "python3"
  },
  "language_info": {
   "codemirror_mode": {
    "name": "ipython",
    "version": 3
   },
   "file_extension": ".py",
   "mimetype": "text/x-python",
   "name": "python",
   "nbconvert_exporter": "python",
   "pygments_lexer": "ipython3",
   "version": "3.9.13"
  }
 },
 "nbformat": 4,
 "nbformat_minor": 5
}
