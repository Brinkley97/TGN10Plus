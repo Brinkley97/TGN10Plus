{
 "cells": [
  {
   "cell_type": "markdown",
   "id": "33ca2fd8-5773-4c98-a8cd-fce924fdba17",
   "metadata": {},
   "source": [
    "# Question Templates"
   ]
  },
  {
   "cell_type": "code",
   "execution_count": 66,
   "id": "1c6f67fc-02fd-498f-8c3e-99dd26216569",
   "metadata": {},
   "outputs": [],
   "source": [
    "table_1_question_templates = {\n",
    "                    'what are differences in primarily *group_1* nurses and primarily *group_2* nurses for *demographic* ?': [],\n",
    "                    'what are differences in primarily *group_1* nurses and primarily *group_2* nurses for *behavioral* ?': [],\n",
    "}"
   ]
  },
  {
   "cell_type": "code",
   "execution_count": 67,
   "id": "a884bb19-2c86-4925-9c5c-f7173a4bd748",
   "metadata": {},
   "outputs": [],
   "source": [
    "all_question_templates = []\n",
    "all_question_templates.append(table_1_question_templates)"
   ]
  },
  {
   "cell_type": "markdown",
   "id": "8cd6645e-1cf8-4d2e-8929-b87b71e13889",
   "metadata": {},
   "source": [
    "# Relevant Ontology Terms for the Mappings"
   ]
  },
  {
   "cell_type": "code",
   "execution_count": 68,
   "id": "a485465f-a4d6-42ac-97d1-b7e2ac07135b",
   "metadata": {},
   "outputs": [],
   "source": [
    "ontology_mappings = {\n",
    "                       \n",
    "    'group_1': 'day-shift',\n",
    "    'group_2': 'night-shift',\n",
    "    'demographic':  {\n",
    "        'Gender': ['Female', 'Male'],\n",
    "        'Age': ['< 40 Years', '>= 40 Years'],\n",
    "        'Educ': ['Some college or College', 'Graduate'],\n",
    "        'native_lang': ['English', 'non-english'],\n",
    "    },\n",
    "    'behavioral': ['stai', 'pan_PosAffect', 'pan_NegAffect', 'swls', 'bfi_Neuroticism', 'bfi_Conscientiousness', \n",
    "                   'bfi_Extraversion', 'bfi_Agreeableness', 'bfi_Openness', 'psqi'\n",
    "                  ],\n",
    "}"
   ]
  },
  {
   "cell_type": "code",
   "execution_count": 69,
   "id": "38b3b2ed-14e5-4d5a-8e39-d4603c4168e6",
   "metadata": {},
   "outputs": [],
   "source": [
    "def reformat_ontology_mappings(ontology_mappings):\n",
    "    '''Convert the values of that specific key in key words in study\n",
    "    \n",
    "    ontology_mappings -- dict\n",
    "        keys -- str\n",
    "        values -- \n",
    "            str : group_1, group_2 (remain the same)\n",
    "            dict : gender, age, highest degree, native language (convert to list)\n",
    "            list : behavioral, physiological (remain the same)\n",
    "    \n",
    "    '''\n",
    "    update_demographic_ontology = []\n",
    "    updated_ontology_mappings = ontology_mappings.copy()\n",
    "    \n",
    "    ontology_mapping_values = list(updated_ontology_mappings.values()) \n",
    "    # print(ontology_mapping_values)\n",
    "    \n",
    "    demographic_keys = list(ontology_mapping_values[2].keys())\n",
    "    # print(demographic_keys)\n",
    "    update_demographic_ontology.append(demographic_keys)\n",
    "    # print(update_demographic_ontology)\n",
    "    # print()\n",
    "    \n",
    "    demographic_values = list(ontology_mapping_values[2].values())\n",
    "    # print(demographic_values)\n",
    "    demographic_values = sum(demographic_values, [])\n",
    "    # print(demographic_values)\n",
    "    update_demographic_ontology.append(demographic_values)\n",
    "    # print(update_demographic_ontology)\n",
    "\n",
    "    updated_ontology_mappings[\"demographic\"] = sum(update_demographic_ontology, [])\n",
    "        \n",
    "    return updated_ontology_mappings"
   ]
  },
  {
   "cell_type": "code",
   "execution_count": 70,
   "id": "56dfd53a-333d-436a-b090-7e8acdbc4cfc",
   "metadata": {},
   "outputs": [],
   "source": [
    "updated_ontology_mappings = reformat_ontology_mappings(ontology_mappings)\n",
    "# updated_ontology_mappings"
   ]
  },
  {
   "cell_type": "code",
   "execution_count": 116,
   "id": "5bb095fb-ed88-4680-a7aa-c407ac23c5e2",
   "metadata": {},
   "outputs": [],
   "source": [
    "def convert_question_templates(all_question_templates):\n",
    "    '''Convert question templates to their own individual lists\n",
    "    \n",
    "    Arguments:\n",
    "    all_question_templates -- list\n",
    "    \n",
    "    Return:\n",
    "    2D list with each index being a single question\n",
    "    '''\n",
    "    # print(all_question_templates)\n",
    "    specific_questions = []\n",
    "    \n",
    "    for idx_all_qts in range(len(all_question_templates)):\n",
    "        \n",
    "        # Convert from dict --> list\n",
    "        question_templates = list(all_question_templates[idx_all_qts].keys())\n",
    "        # print(type(question_templates), question_templates)\n",
    "\n",
    "        \n",
    "\n",
    "        # Get specific question template\n",
    "        for question_template in range(len(question_templates)):\n",
    "            \n",
    "            specific_question_templates = []\n",
    "\n",
    "            template_of_question = question_templates[question_template]\n",
    "            # print(question_template, type(template_of_question), template_of_question)\n",
    "            \n",
    "            specific_question_templates.append(template_of_question)\n",
    "            # print(type(specific_question_templates), specific_question_templates)\n",
    "            # print(type(specific_questions), specific_questions)\n",
    "            \n",
    "            specific_questions.append(specific_question_templates)\n",
    "            # print(type(specific_questions), specific_questions)\n",
    "            \n",
    "    return specific_questions"
   ]
  },
  {
   "cell_type": "code",
   "execution_count": 117,
   "id": "d5d1e4e2-b16b-490e-8442-884017d55dec",
   "metadata": {},
   "outputs": [
    {
     "data": {
      "text/plain": [
       "[['what are differences in primarily *group_1* nurses and primarily *group_2* nurses for *demographic* ?'],\n",
       " ['what are differences in primarily *group_1* nurses and primarily *group_2* nurses for *behavioral* ?']]"
      ]
     },
     "execution_count": 117,
     "metadata": {},
     "output_type": "execute_result"
    }
   ],
   "source": [
    "converted_question_templates = convert_question_templates(all_question_templates)\n",
    "converted_question_templates"
   ]
  },
  {
   "cell_type": "code",
   "execution_count": null,
   "id": "d3c773a4-744c-4b69-a49f-09c01d21a227",
   "metadata": {},
   "outputs": [],
   "source": [
    "# converted_question_templates = sum(converted_question_templates, [])"
   ]
  },
  {
   "cell_type": "code",
   "execution_count": null,
   "id": "4ace2cad-3f08-43db-b834-0eb65a36b38c",
   "metadata": {},
   "outputs": [],
   "source": [
    "# converted_question_templates"
   ]
  },
  {
   "cell_type": "code",
   "execution_count": null,
   "id": "e485d879-47bd-4df0-8136-06bd8e3c226c",
   "metadata": {},
   "outputs": [],
   "source": [
    "# converted_question_templates[0]"
   ]
  },
  {
   "cell_type": "code",
   "execution_count": 24,
   "id": "91380a24-ddcd-47e0-8187-0100307f39df",
   "metadata": {},
   "outputs": [],
   "source": [
    "def decompose_specific_question(question, updated_key_words_in_study):\n",
    "    '''Simultaneously replace specific words. Function is called within generate_specific_questions\n",
    "    \n",
    "    Arguments:\n",
    "    question -- string\n",
    "    updated_key_words_in_study -- dict\n",
    "    \n",
    "    Return:\n",
    "    questions -- list\n",
    "    '''\n",
    "    \n",
    "    questions = []\n",
    "    specific_questions = []\n",
    "    \n",
    "    # print(\"\\n\", question)\n",
    "    words = question.split(\"*\")\n",
    "    # print(words)\n",
    "    \n",
    "    # values_for_key = list(updated_key_words_in_study.values())\n",
    "    # print(values_for_key)\n",
    "    \n",
    "    for key, values in updated_key_words_in_study.items():\n",
    "        # print(\"Key :: Value\", key, \"::\", values)\n",
    "        if key in words:\n",
    "            # print(\"Key :: Value\", key, \"::\", values)\n",
    "            # updated_key_words_in_study[key] \n",
    "            # print(True)\n",
    "           \n",
    "            for value in values :\n",
    "               \n",
    "                replace = question.replace(key, value)\n",
    "                # print(\"\\n>>\", replace)\n",
    "                key = value\n",
    "                # print(\"key: \", key)\n",
    "                question = replace\n",
    "                questions.append(question)\n",
    "    # specific_questions.append(questions)\n",
    "    # print(\"\\n------------------\")\n",
    "    return questions"
   ]
  },
  {
   "cell_type": "code",
   "execution_count": 25,
   "id": "1d04edc9-77f3-4098-b7df-dafdaf1ee200",
   "metadata": {},
   "outputs": [],
   "source": [
    "def generate_specific_questions(updated_key_words_in_study):\n",
    "    '''Cycle through each question template and return the specific questions\n",
    "    \n",
    "    Arguments:\n",
    "    updated_key_words_in_study -- dict\n",
    "    \n",
    "    Functions:\n",
    "    convert_question_templates -- dict --> list\n",
    "    decompose_specific_question -- string --> list\n",
    "    '''\n",
    "    \n",
    "    updated_key_words_in_study_keys = list(updated_key_words_in_study.keys())\n",
    "    updated_key_words_in_study_values = list(updated_key_words_in_study.values())\n",
    "    question_templates = convert_question_templates(all_questions)\n",
    "    # print(question_templates)\n",
    "    # print(type(updated_key_words_in_study), updated_key_words_in_study, \"\\n\\n\",\n",
    "    #       type(updated_key_words_in_study_keys), updated_key_words_in_study_keys, \"\\n\\n\",\n",
    "    #       type(updated_key_words_in_study_values), updated_key_words_in_study_values, \"\\n\\n\",\n",
    "    #       type(converted_question_templates), converted_question_templates)\n",
    "\n",
    "    specific_questions = []\n",
    "    clean_list = []\n",
    "    \n",
    "    # Get specific question template\n",
    "    for question_template in range(len(question_templates)):\n",
    "        perm = []\n",
    "        # print(\"-------NEW QUESTION TEMPLATE------------\")\n",
    "        # print(question_template, question_templates[question_template])\n",
    "                \n",
    "        specific_question_template = ''.join(question_templates[question_template])\n",
    "        # print(\"...\", type(specific_question_template), specific_question_template)   \n",
    "        \n",
    "        # print(\"updated_key_words_in_study_keys : \", updated_key_words_in_study_keys)\n",
    "        # Replace matching variables \n",
    "        \n",
    "        k = []\n",
    "        for index_of_key, key in enumerate(updated_key_words_in_study_keys): \n",
    "            # print(\"key words in study : \", updated_key_words_in_study_keys)\n",
    "            # print((index_of_key, key))\n",
    "            k.append(key)\n",
    "            # print(k)\n",
    "            \n",
    "            \n",
    "            matching_study_variables_start_index = specific_question_template.find(key)\n",
    "            # print(matching_study_variables_start_index)\n",
    "            \n",
    "            \n",
    "            if matching_study_variables_start_index != -1:\n",
    "                specific_question_templates = []\n",
    "                key_word_is_in_sqt = True\n",
    "                # print((index_of_key, key))\n",
    "                # print(key_word_is_in_sqt)\n",
    "                value_in_key = updated_key_words_in_study[key]\n",
    "                # print(\"\\n\",(index_of_key, key), \"is of type\", type(value_in_key))\n",
    "                key_words_values_is_type_list = isinstance(updated_key_words_in_study[key], list)\n",
    "                \n",
    "                \n",
    "                \n",
    "                # print(\"...\", type(specific_question_template), specific_question_template)\n",
    "                if key_words_values_is_type_list == True:\n",
    "                    # if len(k) > 1:\n",
    "                    # print(\"\\n2nd to last key word: *\", k[-2], \"* with key *\", key, \"* \\n\", key_words_values_is_type_list == True)\n",
    "                    \n",
    "                        # print(\"\\n\", k, len(k) - 1)\n",
    "                        # if (index_of_key == len(k) - 1):\n",
    "                            # print(False)\n",
    "                    \n",
    "                    for value in value_in_key:\n",
    "\n",
    "                        # value = \n",
    "                        # print(\"\\n\", value, value_in_key)\n",
    "                        \n",
    "                        replace = specific_question_template.replace(key, value)\n",
    "                        # print(\"\\n>>\", replace)\n",
    "                        key = value\n",
    "                        # print(\"key: \", key)\n",
    "                        specific_question_template = replace\n",
    "                        # if value in specific_question_template: \n",
    "                        # print(\"\\nspecific_question_template : \", specific_question_templatey)\n",
    "                        # print(\">>> \", key, value_in_key)\n",
    "                        # print(\"\\n****updated_key_words_in_study_keys\", updated_key_words_in_study_keys[-1])\n",
    "                        # print(\"************specific_question_template : \", value, specific_question_template, \"\\n\")\n",
    "                        if updated_key_words_in_study_keys[-1] not in specific_question_template:\n",
    "                            specific_question_templates.append(specific_question_template)\n",
    "                            # print(specific_question_templates, \"\\n\")\n",
    "                            \n",
    "                            \n",
    "                        else:\n",
    "                            # print(True)\n",
    "                            # don't duplicate last variable in list\n",
    "                            if value_in_key[-1] in specific_question_template.split(\"*\"): \n",
    "                                pass\n",
    "                            else:\n",
    "                                permutate_single_question = decompose_specific_question(specific_question_template, updated_key_words_in_study)\n",
    "                                # print(\"permutate_single_question : \", permutate_single_question)\n",
    "                                perm.append(permutate_single_question)\n",
    "\n",
    "                                    \n",
    "                else:\n",
    "                    replace = specific_question_template.replace(key, value_in_key)\n",
    "                    # print(\"\\n>>\", replace)\n",
    "                    # key = value\n",
    "                    # print(\"key: \", key)\n",
    "                    specific_question_template = replace\n",
    "                    specific_question_templates.append(specific_question_template)\n",
    "                    \n",
    "                    # print(\"specific_question_templates : \", specific_question_templates)\n",
    "                \n",
    "            else:\n",
    "                # key_word_is_in_sqt = False\n",
    "                # print(key_word_is_in_sqt)\n",
    "                continue\n",
    "        \n",
    "        # print(\"\\n\")\n",
    "        \n",
    "        specific_questions.append(specific_question_templates)\n",
    "        # don't append perm list if empty \n",
    "        if len(perm) != 0:\n",
    "            # print(perm)\n",
    "            perm = sum(perm, [])\n",
    "            specific_questions[-1].extend(perm)\n",
    "\n",
    "    return specific_questions"
   ]
  },
  {
   "cell_type": "code",
   "execution_count": 26,
   "id": "9e1ff1ef-451f-4ebf-9381-0f1e128582d0",
   "metadata": {},
   "outputs": [
    {
     "data": {
      "text/plain": [
       "[['what are differences in primarily *day-shift* nurses and primarily *night-shift* nurses for *Gender* ?',\n",
       "  'what are differences in primarily *day-shift* nurses and primarily *night-shift* nurses for *Age* ?',\n",
       "  'what are differences in primarily *day-shift* nurses and primarily *night-shift* nurses for *Educ* ?',\n",
       "  'what are differences in primarily *day-shift* nurses and primarily *night-shift* nurses for *native_lang* ?',\n",
       "  'what are differences in primarily *day-shift* nurses and primarily *night-shift* nurses for *Female* ?',\n",
       "  'what are differences in primarily *day-shift* nurses and primarily *night-shift* nurses for *Male* ?',\n",
       "  'what are differences in primarily *day-shift* nurses and primarily *night-shift* nurses for *< 40 Years* ?',\n",
       "  'what are differences in primarily *day-shift* nurses and primarily *night-shift* nurses for *>= 40 Years* ?',\n",
       "  'what are differences in primarily *day-shift* nurses and primarily *night-shift* nurses for *Some college or College* ?',\n",
       "  'what are differences in primarily *day-shift* nurses and primarily *night-shift* nurses for *Graduate* ?',\n",
       "  'what are differences in primarily *day-shift* nurses and primarily *night-shift* nurses for *English* ?',\n",
       "  'what are differences in primarily *day-shift* nurses and primarily *night-shift* nurses for *non-english* ?'],\n",
       " ['what are differences in primarily *day-shift* nurses and primarily *night-shift* nurses for *stai* ?',\n",
       "  'what are differences in primarily *day-shift* nurses and primarily *night-shift* nurses for *pan_PosAffect* ?',\n",
       "  'what are differences in primarily *day-shift* nurses and primarily *night-shift* nurses for *pan_NegAffect* ?',\n",
       "  'what are differences in primarily *day-shift* nurses and primarily *night-shift* nurses for *swls* ?',\n",
       "  'what are differences in primarily *day-shift* nurses and primarily *night-shift* nurses for *bfi_Neuroticism* ?',\n",
       "  'what are differences in primarily *day-shift* nurses and primarily *night-shift* nurses for *bfi_Conscientiousness* ?',\n",
       "  'what are differences in primarily *day-shift* nurses and primarily *night-shift* nurses for *bfi_Extraversion* ?',\n",
       "  'what are differences in primarily *day-shift* nurses and primarily *night-shift* nurses for *bfi_Agreeableness* ?',\n",
       "  'what are differences in primarily *day-shift* nurses and primarily *night-shift* nurses for *bfi_Openness* ?',\n",
       "  'what are differences in primarily *day-shift* nurses and primarily *night-shift* nurses for *psqi* ?']]"
      ]
     },
     "execution_count": 26,
     "metadata": {},
     "output_type": "execute_result"
    }
   ],
   "source": [
    "generated_specific_questions = generate_specific_questions(updated_key_words_in_study)\n",
    "generated_specific_questions"
   ]
  },
  {
   "cell_type": "markdown",
   "id": "fc6dad40-1fbf-4437-92a1-591850b0b793",
   "metadata": {},
   "source": [
    "# Update original dictionary with specific questions"
   ]
  },
  {
   "cell_type": "code",
   "execution_count": 27,
   "id": "3ecda57c-d3a1-4c99-a3e0-918d2d89456f",
   "metadata": {},
   "outputs": [],
   "source": [
    "def update_questions(all_questions, generated_specific_questions):\n",
    "    '''\n",
    "    Arguments:\n",
    "    all_questions -- list\n",
    "    generated_specific_questions -- 2D list\n",
    "    \n",
    "    Return:\n",
    "    \n",
    "    '''\n",
    "    # print(type(all_questions), all_questions)\n",
    "    # print(type(generated_specific_questions), len(generated_specific_questions))\n",
    "    \n",
    "    idx = 0\n",
    "    for specific in range(len(all_questions)):\n",
    "        #  # Convert from dict --> list\n",
    "        question_by_type = all_questions[specific]\n",
    "        # print(\"\\nquestion_by_type :\", question_by_type)\n",
    "        specific_questions = list(all_questions[specific].keys())\n",
    "        \n",
    "        for specific_question in specific_questions:\n",
    "            # print(generated_specific_questions[idx])\n",
    "            question_by_type[specific_question] = generated_specific_questions[idx]\n",
    "            # print(\"****\", question_by_type[specific_question])\n",
    "            idx = idx + 1 \n",
    "       \n",
    "    \n",
    "    # return question_by_type[specific_question]\n",
    "    # why is this returning as such?\n",
    "    # should I NOT return anything instead?\n",
    "    return question_by_type"
   ]
  },
  {
   "cell_type": "code",
   "execution_count": 28,
   "id": "65695e11-d95c-4158-b8d8-1d10db08cb21",
   "metadata": {},
   "outputs": [
    {
     "data": {
      "text/plain": [
       "{'what are differences in primarily *group_1* nurses and primarily *group_2* nurses for *demographic* ?': ['what are differences in primarily *day-shift* nurses and primarily *night-shift* nurses for *Gender* ?',\n",
       "  'what are differences in primarily *day-shift* nurses and primarily *night-shift* nurses for *Age* ?',\n",
       "  'what are differences in primarily *day-shift* nurses and primarily *night-shift* nurses for *Educ* ?',\n",
       "  'what are differences in primarily *day-shift* nurses and primarily *night-shift* nurses for *native_lang* ?',\n",
       "  'what are differences in primarily *day-shift* nurses and primarily *night-shift* nurses for *Female* ?',\n",
       "  'what are differences in primarily *day-shift* nurses and primarily *night-shift* nurses for *Male* ?',\n",
       "  'what are differences in primarily *day-shift* nurses and primarily *night-shift* nurses for *< 40 Years* ?',\n",
       "  'what are differences in primarily *day-shift* nurses and primarily *night-shift* nurses for *>= 40 Years* ?',\n",
       "  'what are differences in primarily *day-shift* nurses and primarily *night-shift* nurses for *Some college or College* ?',\n",
       "  'what are differences in primarily *day-shift* nurses and primarily *night-shift* nurses for *Graduate* ?',\n",
       "  'what are differences in primarily *day-shift* nurses and primarily *night-shift* nurses for *English* ?',\n",
       "  'what are differences in primarily *day-shift* nurses and primarily *night-shift* nurses for *non-english* ?'],\n",
       " 'what are differences in primarily *group_1* nurses and primarily *group_2* nurses for *behavioral* ?': ['what are differences in primarily *day-shift* nurses and primarily *night-shift* nurses for *stai* ?',\n",
       "  'what are differences in primarily *day-shift* nurses and primarily *night-shift* nurses for *pan_PosAffect* ?',\n",
       "  'what are differences in primarily *day-shift* nurses and primarily *night-shift* nurses for *pan_NegAffect* ?',\n",
       "  'what are differences in primarily *day-shift* nurses and primarily *night-shift* nurses for *swls* ?',\n",
       "  'what are differences in primarily *day-shift* nurses and primarily *night-shift* nurses for *bfi_Neuroticism* ?',\n",
       "  'what are differences in primarily *day-shift* nurses and primarily *night-shift* nurses for *bfi_Conscientiousness* ?',\n",
       "  'what are differences in primarily *day-shift* nurses and primarily *night-shift* nurses for *bfi_Extraversion* ?',\n",
       "  'what are differences in primarily *day-shift* nurses and primarily *night-shift* nurses for *bfi_Agreeableness* ?',\n",
       "  'what are differences in primarily *day-shift* nurses and primarily *night-shift* nurses for *bfi_Openness* ?',\n",
       "  'what are differences in primarily *day-shift* nurses and primarily *night-shift* nurses for *psqi* ?']}"
      ]
     },
     "execution_count": 28,
     "metadata": {},
     "output_type": "execute_result"
    }
   ],
   "source": [
    "update_questions(all_questions, generated_specific_questions)"
   ]
  },
  {
   "cell_type": "code",
   "execution_count": 31,
   "id": "33edb995-cb12-485d-888a-50d5dd2b5d72",
   "metadata": {},
   "outputs": [
    {
     "data": {
      "text/plain": [
       "['what are differences in primarily *day-shift* nurses and primarily *night-shift* nurses for *stai* ?',\n",
       " 'what are differences in primarily *day-shift* nurses and primarily *night-shift* nurses for *pan_PosAffect* ?',\n",
       " 'what are differences in primarily *day-shift* nurses and primarily *night-shift* nurses for *pan_NegAffect* ?',\n",
       " 'what are differences in primarily *day-shift* nurses and primarily *night-shift* nurses for *swls* ?',\n",
       " 'what are differences in primarily *day-shift* nurses and primarily *night-shift* nurses for *bfi_Neuroticism* ?',\n",
       " 'what are differences in primarily *day-shift* nurses and primarily *night-shift* nurses for *bfi_Conscientiousness* ?',\n",
       " 'what are differences in primarily *day-shift* nurses and primarily *night-shift* nurses for *bfi_Extraversion* ?',\n",
       " 'what are differences in primarily *day-shift* nurses and primarily *night-shift* nurses for *bfi_Agreeableness* ?',\n",
       " 'what are differences in primarily *day-shift* nurses and primarily *night-shift* nurses for *bfi_Openness* ?',\n",
       " 'what are differences in primarily *day-shift* nurses and primarily *night-shift* nurses for *psqi* ?']"
      ]
     },
     "execution_count": 31,
     "metadata": {},
     "output_type": "execute_result"
    }
   ],
   "source": [
    "list(table_1_question_templates.values())[0]"
   ]
  },
  {
   "cell_type": "code",
   "execution_count": null,
   "id": "f8a1ea4f-2f1b-4b50-aaa1-0e95334e1a43",
   "metadata": {},
   "outputs": [],
   "source": []
  }
 ],
 "metadata": {
  "kernelspec": {
   "display_name": "Python 3 (ipykernel)",
   "language": "python",
   "name": "python3"
  },
  "language_info": {
   "codemirror_mode": {
    "name": "ipython",
    "version": 3
   },
   "file_extension": ".py",
   "mimetype": "text/x-python",
   "name": "python",
   "nbconvert_exporter": "python",
   "pygments_lexer": "ipython3",
   "version": "3.9.13"
  }
 },
 "nbformat": 4,
 "nbformat_minor": 5
}
