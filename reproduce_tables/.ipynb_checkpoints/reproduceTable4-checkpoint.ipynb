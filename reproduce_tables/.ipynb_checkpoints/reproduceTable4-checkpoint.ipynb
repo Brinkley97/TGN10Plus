{
 "cells": [
  {
   "cell_type": "markdown",
   "id": "2afbed59",
   "metadata": {},
   "source": [
    "# Reproduce Table 4\n",
    "- Py kernel with R script\n",
    "- Verify by looking at [Table 4 in the Original Analysis paper](https://www.nature.com/articles/s41598-021-87029-w?proof=t%25C2%25A0) and by running `sleep.R` [Original version](https://github.com/usc-sail/tiles-day-night/blob/main/code/sleep/table4-sleep.R). Be sure to configure your file paths."
   ]
  },
  {
   "cell_type": "code",
   "execution_count": 1,
   "id": "002bb878",
   "metadata": {},
   "outputs": [],
   "source": [
    "import pandas as pd\n",
    "import numpy as np\n",
    "\n",
    "import sys\n",
    "sys.path.insert(1, '/Users/brinkley97/Documents/development/')\n",
    "import my_created_functions"
   ]
  },
  {
   "cell_type": "markdown",
   "id": "18a1844c",
   "metadata": {},
   "source": [
    "# Load Data"
   ]
  },
  {
   "cell_type": "code",
   "execution_count": 2,
   "id": "5269cf9d",
   "metadata": {},
   "outputs": [],
   "source": [
    "path_to_file = \"lab-kcad/datasets/tiles_dataset/table_4/sleep/\"\n",
    "name_of_file = \"sleep.csv.gz\""
   ]
  },
  {
   "cell_type": "code",
   "execution_count": 3,
   "id": "08d5e1ba",
   "metadata": {},
   "outputs": [],
   "source": [
    "sleep_df = my_created_functions.load_gzip_csv_data(path_to_file, name_of_file)\n",
    "# sleep_df"
   ]
  },
  {
   "cell_type": "markdown",
   "id": "747f357a",
   "metadata": {},
   "source": [
    "# Load Generated Specific Questions"
   ]
  },
  {
   "cell_type": "code",
   "execution_count": 4,
   "id": "4480e54f",
   "metadata": {},
   "outputs": [],
   "source": [
    "base = \"/Users/brinkley97/Documents/development/lab-kcad/\"\n",
    "generated_sq_file = \"TGN10Plus/generateSpecificQuestions.ipynb\"\n",
    "table_4_specific_questions_path = base + generated_sq_file\n",
    "# table_4_specific_questions_path"
   ]
  },
  {
   "cell_type": "code",
   "execution_count": 5,
   "id": "d6992ef2",
   "metadata": {},
   "outputs": [],
   "source": [
    "%run \"../generateSpecificQuestions.ipynb\""
   ]
  },
  {
   "cell_type": "code",
   "execution_count": 6,
   "id": "091fbc21",
   "metadata": {},
   "outputs": [
    {
     "data": {
      "text/plain": [
       "['what are differences between *work* days and *off* days for primarily *day-shift* nurses and primarily *night-shift* nurses with covariate *age*, *gender* on sleep *duration* ?',\n",
       " 'what are differences between *work* days and *off* days for primarily *day-shift* nurses and primarily *night-shift* nurses with covariate *age*, *gender* on sleep *efficiency* ?',\n",
       " 'what are differences between *work* days and *off* days for primarily *day-shift* nurses and primarily *night-shift* nurses with covariate *age*, *gender* on sleep *mid* ?']"
      ]
     },
     "execution_count": 6,
     "metadata": {},
     "output_type": "execute_result"
    }
   ],
   "source": [
    "table_4_sqs"
   ]
  },
  {
   "cell_type": "code",
   "execution_count": 7,
   "id": "e3da798f",
   "metadata": {},
   "outputs": [],
   "source": [
    "physiological_sleep_values = ontology_mappings[\"physiological_sleep\"]\n",
    "# physiological_sleep_values"
   ]
  },
  {
   "cell_type": "markdown",
   "id": "694f6e70",
   "metadata": {},
   "source": [
    "# Integrate R"
   ]
  },
  {
   "cell_type": "code",
   "execution_count": 8,
   "id": "1c27928d",
   "metadata": {},
   "outputs": [],
   "source": [
    "import rpy2.robjects as robjects\n",
    "import rpy2.robjects.packages as rpackages\n",
    "\n",
    "# load and activate() bc if NOT error (Conversion 'py2rpy' not defined for objects of type '<class 'pandas.core.frame.DataFrame'>') will appear\n",
    "from rpy2.robjects import pandas2ri\n",
    "pandas2ri.activate()\n",
    "\n",
    "report = rpackages.importr('report')"
   ]
  },
  {
   "cell_type": "markdown",
   "id": "f5802438",
   "metadata": {},
   "source": [
    "# Produce Table 4"
   ]
  },
  {
   "cell_type": "code",
   "execution_count": 9,
   "id": "bf38f2f5",
   "metadata": {},
   "outputs": [],
   "source": [
    "def calculate_anova(sleep_df, physiological_sleep_value):\n",
    "    '''Integrate py and r to calculate the p-value for sleep variables - duration, efficiency, and mid\n",
    "    \n",
    "    Arguments:\n",
    "    sleep_df -- pd DataFrame\n",
    "    physiological_sleep_value -- py str\n",
    "    \n",
    "    Return:\n",
    "    analysis of variance (aov) for each sleep variable\n",
    "    '''\n",
    "    \n",
    "    '''\n",
    "    Modify sleep dataframe\n",
    "    '''\n",
    "    work_df = sleep_df[sleep_df[\"work\"] == \"workday\"]\n",
    "    off_df = sleep_df[sleep_df[\"work\"] == \"offday\"]\n",
    "    \n",
    "    '''\n",
    "    R Integration\n",
    "    - print outcome in r script\n",
    "    '''\n",
    "    r_objects = robjects.r\n",
    "    r_objects.source(\"table4-sleep.R\")\n",
    "    if physiological_sleep_value == \"duration\":\n",
    "        duration_df = r_objects.sleep_duration_model(work_df, off_df)\n",
    "        # print(duration_df)\n",
    "        return duration_df\n",
    "    elif physiological_sleep_value == \"efficiency\":\n",
    "        efficiency_df = r_objects.sleep_efficiency_model(work_df, off_df)\n",
    "        # print(efficiency_df)\n",
    "        return efficiency_df\n",
    "    elif physiological_sleep_value == \"mid\":\n",
    "        mid_df = r_objects.sleep_mid_model(sleep_df)\n",
    "        # print(mid_df)\n",
    "        return mid_df\n",
    "        "
   ]
  },
  {
   "cell_type": "code",
   "execution_count": 10,
   "id": "c2db6852",
   "metadata": {},
   "outputs": [],
   "source": [
    "def table_4(table_4_specific_questions, sleep_df, physiological_sleep_values):\n",
    "    '''Reproduce Table 4\n",
    "    \n",
    "    Arguments:\n",
    "    table_4_specific_questions -- py list\n",
    "    sleep_df -- pd Dataframe\n",
    "    \n",
    "    Functions:\n",
    "    calculate_anova()\n",
    "    \n",
    "    Return:\n",
    "    nothing; everything is being printed in calculate_anova()\n",
    "    '''\n",
    "    \n",
    "    for table_4_specific_question_idx in range(len(table_4_specific_questions)):\n",
    "        table_4_specific_question = table_4_specific_questions[table_4_specific_question_idx]\n",
    "        print(table_4_specific_question_idx, \"table_4_specific_question : \", table_4_specific_question)\n",
    "        word_in_specific_question = table_4_specific_question.split(\"*\")\n",
    "        for physiological_sleep_value in physiological_sleep_values:\n",
    "            \n",
    "            if physiological_sleep_value in word_in_specific_question:\n",
    "                print(physiological_sleep_value, True)\n",
    "                calculate_anova(sleep_df, physiological_sleep_value)\n",
    "                print(\"#####################\")\n",
    "                print()\n",
    "        "
   ]
  },
  {
   "cell_type": "code",
   "execution_count": 11,
   "id": "5e35ec2a",
   "metadata": {},
   "outputs": [
    {
     "name": "stdout",
     "output_type": "stream",
     "text": [
      "0 table_4_specific_question :  what are differences between *work* days and *off* days for primarily *day-shift* nurses and primarily *night-shift* nurses with covariate *age*, *gender* on sleep *duration* ?\n",
      "duration True\n",
      "R version 4.2.1 (2022-06-23)\n",
      "Platform: x86_64-apple-darwin17.0 (64-bit)\n",
      "Running under: macOS Ventura 13.4\n",
      "\n",
      "Matrix products: default\n",
      "LAPACK: /Library/Frameworks/R.framework/Versions/4.2/Resources/lib/libRlapack.dylib\n",
      "\n",
      "locale:\n",
      "[1] en_US.UTF-8/en_US.UTF-8/en_US.UTF-8/C/en_US.UTF-8/en_US.UTF-8\n",
      "\n",
      "attached base packages:\n",
      "[1] tools     stats     graphics  grDevices utils     datasets  methods  \n",
      "[8] base     \n",
      "\n",
      "other attached packages:\n",
      "[1] report_0.5.1.3\n",
      "\n",
      "loaded via a namespace (and not attached):\n",
      "[1] compiler_4.2.1   datawizard_0.5.0 insight_0.19.0  \n",
      "The ANOVA (formula: duration ~ shift + age + gender) suggests that:\n",
      "\n",
      "  - The main effect of shift is statistically significant and large (F(1, 90) =\n",
      "65.55, p < .001; Eta2 (partial) = 0.42, 95% CI [0.30, 1.00])\n",
      "  - The main effect of age is statistically not significant and very small (F(1,\n",
      "90) = 0.67, p = 0.415; Eta2 (partial) = 7.41e-03, 95% CI [0.00, 1.00])\n",
      "  - The main effect of gender is statistically significant and small (F(1, 90) =\n",
      "4.79, p = 0.031; Eta2 (partial) = 0.05, 95% CI [2.47e-03, 1.00])\n",
      "\n",
      "Effect sizes were labelled following Field's (2013) recommendations.\n",
      "The ANOVA (formula: duration ~ shift + age + gender) suggests that:\n",
      "\n",
      "  - The main effect of shift is statistically not significant and small (F(1, 90)\n",
      "= 2.65, p = 0.107; Eta2 (partial) = 0.03, 95% CI [0.00, 1.00])\n",
      "  - The main effect of age is statistically significant and medium (F(1, 90) =\n",
      "7.45, p = 0.008; Eta2 (partial) = 0.08, 95% CI [0.01, 1.00])\n",
      "  - The main effect of gender is statistically not significant and small (F(1,\n",
      "90) = 1.39, p = 0.241; Eta2 (partial) = 0.02, 95% CI [0.00, 1.00])\n",
      "\n",
      "Effect sizes were labelled following Field's (2013) recommendations.\n",
      "#####################\n",
      "\n",
      "1 table_4_specific_question :  what are differences between *work* days and *off* days for primarily *day-shift* nurses and primarily *night-shift* nurses with covariate *age*, *gender* on sleep *efficiency* ?\n",
      "efficiency True\n",
      "R version 4.2.1 (2022-06-23)\n",
      "Platform: x86_64-apple-darwin17.0 (64-bit)\n",
      "Running under: macOS Ventura 13.4\n",
      "\n",
      "Matrix products: default\n",
      "LAPACK: /Library/Frameworks/R.framework/Versions/4.2/Resources/lib/libRlapack.dylib\n",
      "\n",
      "locale:\n",
      "[1] en_US.UTF-8/en_US.UTF-8/en_US.UTF-8/C/en_US.UTF-8/en_US.UTF-8\n",
      "\n",
      "attached base packages:\n",
      "[1] tools     stats     graphics  grDevices utils     datasets  methods  \n",
      "[8] base     \n",
      "\n",
      "other attached packages:\n",
      "[1] report_0.5.1.3\n",
      "\n",
      "loaded via a namespace (and not attached):\n",
      " [1] codetools_0.2-18   lattice_0.20-45    mvtnorm_1.1-3      zoo_1.8-10        \n",
      " [5] MASS_7.3-57        grid_4.2.1         xtable_1.8-4       bayestestR_0.12.1 \n",
      " [9] coda_0.19-4        datawizard_0.5.0   estimability_1.4.1 multcomp_1.4-20   \n",
      "[13] Matrix_1.4-1       effectsize_0.7.0.5 sandwich_3.0-2     TH.data_1.1-1     \n",
      "[17] splines_4.2.1      emmeans_1.8.0      survival_3.3-1     compiler_4.2.1    \n",
      "[21] parameters_0.18.2  insight_0.19.0    \n",
      "The ANOVA (formula: efficiency ~ shift + age + gender) suggests that:\n",
      "\n",
      "  - The main effect of shift is statistically not significant and small (F(1, 90)\n",
      "= 2.68, p = 0.105; Eta2 (partial) = 0.03, 95% CI [0.00, 1.00])\n",
      "  - The main effect of age is statistically not significant and very small (F(1,\n",
      "90) = 0.13, p = 0.715; Eta2 (partial) = 1.49e-03, 95% CI [0.00, 1.00])\n",
      "  - The main effect of gender is statistically not significant and very small\n",
      "(F(1, 90) = 0.07, p = 0.796; Eta2 (partial) = 7.50e-04, 95% CI [0.00, 1.00])\n",
      "\n",
      "Effect sizes were labelled following Field's (2013) recommendations.\n",
      "The ANOVA (formula: efficiency ~ shift + age + gender) suggests that:\n",
      "\n",
      "  - The main effect of shift is statistically not significant and small (F(1, 90)\n",
      "= 3.10, p = 0.082; Eta2 (partial) = 0.03, 95% CI [0.00, 1.00])\n",
      "  - The main effect of age is statistically not significant and very small (F(1,\n",
      "90) = 0.15, p = 0.703; Eta2 (partial) = 1.63e-03, 95% CI [0.00, 1.00])\n",
      "  - The main effect of gender is statistically not significant and very small\n",
      "(F(1, 90) = 0.20, p = 0.656; Eta2 (partial) = 2.21e-03, 95% CI [0.00, 1.00])\n",
      "\n",
      "Effect sizes were labelled following Field's (2013) recommendations.\n",
      "#####################\n",
      "\n",
      "2 table_4_specific_question :  what are differences between *work* days and *off* days for primarily *day-shift* nurses and primarily *night-shift* nurses with covariate *age*, *gender* on sleep *mid* ?\n",
      "mid True\n",
      "R version 4.2.1 (2022-06-23)\n",
      "Platform: x86_64-apple-darwin17.0 (64-bit)\n",
      "Running under: macOS Ventura 13.4\n",
      "\n",
      "Matrix products: default\n",
      "LAPACK: /Library/Frameworks/R.framework/Versions/4.2/Resources/lib/libRlapack.dylib\n",
      "\n",
      "locale:\n",
      "[1] en_US.UTF-8/en_US.UTF-8/en_US.UTF-8/C/en_US.UTF-8/en_US.UTF-8\n",
      "\n",
      "attached base packages:\n",
      "[1] tools     stats     graphics  grDevices utils     datasets  methods  \n",
      "[8] base     \n",
      "\n",
      "other attached packages:\n",
      "[1] report_0.5.1.3\n",
      "\n",
      "loaded via a namespace (and not attached):\n",
      " [1] codetools_0.2-18   lattice_0.20-45    mvtnorm_1.1-3      zoo_1.8-10        \n",
      " [5] MASS_7.3-57        grid_4.2.1         xtable_1.8-4       bayestestR_0.12.1 \n",
      " [9] coda_0.19-4        datawizard_0.5.0   estimability_1.4.1 multcomp_1.4-20   \n",
      "[13] Matrix_1.4-1       effectsize_0.7.0.5 sandwich_3.0-2     TH.data_1.1-1     \n",
      "[17] splines_4.2.1      emmeans_1.8.0      survival_3.3-1     compiler_4.2.1    \n",
      "[21] parameters_0.18.2  insight_0.19.0    \n",
      "The ANOVA (formula: mid ~ shift + age + gender) suggests that:\n",
      "\n",
      "  - The main effect of shift is statistically significant and large (F(1, 273) =\n",
      "52.53, p < .001; Eta2 (partial) = 0.16, 95% CI [0.10, 1.00])\n",
      "  - The main effect of age is statistically not significant and very small (F(1,\n",
      "273) = 2.13e-03, p = 0.963; Eta2 (partial) = 7.80e-06, 95% CI [0.00, 1.00])\n",
      "  - The main effect of gender is statistically not significant and very small\n",
      "(F(1, 273) = 0.13, p = 0.717; Eta2 (partial) = 4.83e-04, 95% CI [0.00, 1.00])\n",
      "\n",
      "Effect sizes were labelled following Field's (2013) recommendations.\n",
      "#####################\n",
      "\n"
     ]
    }
   ],
   "source": [
    "table_4(table_4_sqs, sleep_df, physiological_sleep_values)"
   ]
  },
  {
   "cell_type": "code",
   "execution_count": null,
   "id": "dfdb6809",
   "metadata": {},
   "outputs": [],
   "source": []
  },
  {
   "cell_type": "code",
   "execution_count": null,
   "id": "8d54c797",
   "metadata": {},
   "outputs": [],
   "source": []
  }
 ],
 "metadata": {
  "kernelspec": {
   "display_name": "Python 3 (ipykernel)",
   "language": "python",
   "name": "python3"
  },
  "language_info": {
   "codemirror_mode": {
    "name": "ipython",
    "version": 3
   },
   "file_extension": ".py",
   "mimetype": "text/x-python",
   "name": "python",
   "nbconvert_exporter": "python",
   "pygments_lexer": "ipython3",
   "version": "3.9.13"
  }
 },
 "nbformat": 4,
 "nbformat_minor": 5
}
