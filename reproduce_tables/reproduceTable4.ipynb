{
 "cells": [
  {
   "cell_type": "markdown",
   "id": "7115c0ea",
   "metadata": {},
   "source": [
    "# Reproduce Table 4\n",
    "- Py kernel with R script\n",
    "- Verify by looking at [Table 4 in the Original Analysis paper](https://www.nature.com/articles/s41598-021-87029-w?proof=t%25C2%25A0) and by running `sleep.R` [Original version](https://github.com/usc-sail/tiles-day-night/blob/main/code/sleep/table4-sleep.R). Be sure to configure your file paths."
   ]
  },
  {
   "cell_type": "code",
   "execution_count": 1,
   "id": "4d9ccd6c",
   "metadata": {},
   "outputs": [],
   "source": [
    "import pandas as pd\n",
    "import numpy as np\n",
    "\n",
    "import rpy2.robjects as robjects\n",
    "from rpy2.robjects import pandas2ri\n",
    "pandas2ri.activate()"
   ]
  },
  {
   "cell_type": "markdown",
   "id": "d88944cf",
   "metadata": {},
   "source": [
    "# Load Data"
   ]
  },
  {
   "cell_type": "code",
   "execution_count": 2,
   "id": "a13bf2ff",
   "metadata": {},
   "outputs": [],
   "source": [
    "path_to_file = \"../data/tiles_datasets/table_4/sleep.csv.gz\""
   ]
  },
  {
   "cell_type": "code",
   "execution_count": 3,
   "id": "95b09fd4",
   "metadata": {},
   "outputs": [],
   "source": [
    "def load_data(file):\n",
    "    \n",
    "    original_data = pd.read_csv(file)\n",
    "    copy_of_data = original_data.copy()\n",
    "    \n",
    "    return copy_of_data"
   ]
  },
  {
   "cell_type": "code",
   "execution_count": 4,
   "id": "a6ea4bd8",
   "metadata": {},
   "outputs": [],
   "source": [
    "sleep_df = load_data(path_to_file)"
   ]
  },
  {
   "cell_type": "markdown",
   "id": "08ca5287",
   "metadata": {},
   "source": [
    "# Load Generated Specific Questions"
   ]
  },
  {
   "cell_type": "code",
   "execution_count": 5,
   "id": "de548923",
   "metadata": {},
   "outputs": [],
   "source": [
    "%run \"../generateSpecificQuestions.ipynb\""
   ]
  },
  {
   "cell_type": "code",
   "execution_count": 6,
   "id": "6d02379f",
   "metadata": {},
   "outputs": [
    {
     "data": {
      "text/plain": [
       "['what are differences between *work* days and *off* days for primarily *day-shift* nurses and primarily *night-shift* nurses with covariate *age*, *gender* on sleep *duration* ?',\n",
       " 'what are differences between *work* days and *off* days for primarily *day-shift* nurses and primarily *night-shift* nurses with covariate *age*, *gender* on sleep *efficiency* ?',\n",
       " 'what are differences between *work* days and *off* days for primarily *day-shift* nurses and primarily *night-shift* nurses with covariate *age*, *gender* on sleep *mid* ?']"
      ]
     },
     "execution_count": 6,
     "metadata": {},
     "output_type": "execute_result"
    }
   ],
   "source": [
    "table_4_sqs"
   ]
  },
  {
   "cell_type": "code",
   "execution_count": 7,
   "id": "bb627709",
   "metadata": {},
   "outputs": [],
   "source": [
    "physiological_sleep_values = ontology_mappings[\"physiological_sleep\"]\n",
    "# physiological_sleep_values"
   ]
  },
  {
   "cell_type": "markdown",
   "id": "65b0d435",
   "metadata": {},
   "source": [
    "# Produce Table 4"
   ]
  },
  {
   "cell_type": "code",
   "execution_count": 8,
   "id": "ba8719b6",
   "metadata": {},
   "outputs": [],
   "source": [
    "def calculate_anova(sleep_df, physiological_sleep_value):\n",
    "    '''Integrate py and r to calculate the p-value for sleep variables - duration, efficiency, and mid\n",
    "    \n",
    "    Arguments:\n",
    "    sleep_df -- pd DataFrame\n",
    "    physiological_sleep_value -- py str\n",
    "    \n",
    "    Return:\n",
    "    analysis of variance (aov) for each sleep variable\n",
    "    '''\n",
    "    \n",
    "    '''\n",
    "    Modify sleep dataframe\n",
    "    '''\n",
    "    work_df = sleep_df[sleep_df[\"work\"] == \"workday\"]\n",
    "    off_df = sleep_df[sleep_df[\"work\"] == \"offday\"]\n",
    "    \n",
    "    '''\n",
    "    R Integration\n",
    "    - print outcome in r script\n",
    "    '''\n",
    "    r_objects = robjects.r\n",
    "    r_objects.source(\"table4-sleep.R\")\n",
    "    if physiological_sleep_value == \"duration\":\n",
    "        duration_df = r_objects.sleep_duration_model(work_df, off_df)\n",
    "        # print(duration_df)\n",
    "        return duration_df\n",
    "    elif physiological_sleep_value == \"efficiency\":\n",
    "        efficiency_df = r_objects.sleep_efficiency_model(work_df, off_df)\n",
    "        # print(efficiency_df)\n",
    "        return efficiency_df\n",
    "    elif physiological_sleep_value == \"mid\":\n",
    "        mid_df = r_objects.sleep_mid_model(sleep_df)\n",
    "        # print(mid_df)\n",
    "        return mid_df\n",
    "        "
   ]
  },
  {
   "cell_type": "code",
   "execution_count": 9,
   "id": "d7c85bda",
   "metadata": {},
   "outputs": [],
   "source": [
    "def table_4(table_4_specific_questions, sleep_df, physiological_sleep_values):\n",
    "    '''Reproduce Table 4\n",
    "    \n",
    "    Arguments:\n",
    "    table_4_specific_questions -- py list\n",
    "    sleep_df -- pd Dataframe\n",
    "    \n",
    "    Functions:\n",
    "    calculate_anova()\n",
    "    \n",
    "    Return:\n",
    "    nothing; everything is being printed in calculate_anova()\n",
    "    '''\n",
    "    \n",
    "    for table_4_specific_question_idx in range(len(table_4_specific_questions)):\n",
    "        table_4_specific_question = table_4_specific_questions[table_4_specific_question_idx]\n",
    "        print(table_4_specific_question_idx, \"table_4_specific_question : \", table_4_specific_question)\n",
    "        word_in_specific_question = table_4_specific_question.split(\"*\")\n",
    "        for physiological_sleep_value in physiological_sleep_values:\n",
    "            \n",
    "            if physiological_sleep_value in word_in_specific_question:\n",
    "                print(physiological_sleep_value, True)\n",
    "                calculate_anova(sleep_df, physiological_sleep_value)\n",
    "                print(\"#####################\")\n",
    "                print()\n",
    "        "
   ]
  },
  {
   "cell_type": "code",
   "execution_count": 10,
   "id": "81c1cc6e",
   "metadata": {},
   "outputs": [
    {
     "name": "stderr",
     "output_type": "stream",
     "text": [
      "R[write to console]: Loading required package: Matrix\n",
      "\n"
     ]
    },
    {
     "name": "stdout",
     "output_type": "stream",
     "text": [
      "0 table_4_specific_question :  what are differences between *work* days and *off* days for primarily *day-shift* nurses and primarily *night-shift* nurses with covariate *age*, *gender* on sleep *duration* ?\n",
      "duration True\n",
      "The ANOVA (formula: duration ~ shift + age + gender) suggests that:\n",
      "\n",
      "  - The main effect of shift is statistically significant and large (F(1, 90) =\n",
      "65.55, p < .001; Eta2 (partial) = 0.42, 95% CI [0.30, 1.00])\n",
      "  - The main effect of age is statistically not significant and very small (F(1,\n",
      "90) = 0.67, p = 0.415; Eta2 (partial) = 7.41e-03, 95% CI [0.00, 1.00])\n",
      "  - The main effect of gender is statistically significant and small (F(1, 90) =\n",
      "4.79, p = 0.031; Eta2 (partial) = 0.05, 95% CI [2.47e-03, 1.00])\n",
      "\n",
      "Effect sizes were labelled following Field's (2013) recommendations.\n",
      "The ANOVA (formula: duration ~ shift + age + gender) suggests that:\n",
      "\n",
      "  - The main effect of shift is statistically not significant and small (F(1, 90)\n",
      "= 2.65, p = 0.107; Eta2 (partial) = 0.03, 95% CI [0.00, 1.00])\n",
      "  - The main effect of age is statistically significant and medium (F(1, 90) =\n",
      "7.45, p = 0.008; Eta2 (partial) = 0.08, 95% CI [0.01, 1.00])\n",
      "  - The main effect of gender is statistically not significant and small (F(1,\n",
      "90) = 1.39, p = 0.241; Eta2 (partial) = 0.02, 95% CI [0.00, 1.00])\n",
      "\n",
      "Effect sizes were labelled following Field's (2013) recommendations.\n",
      "#####################\n",
      "\n",
      "1 table_4_specific_question :  what are differences between *work* days and *off* days for primarily *day-shift* nurses and primarily *night-shift* nurses with covariate *age*, *gender* on sleep *efficiency* ?\n",
      "efficiency True\n",
      "The ANOVA (formula: efficiency ~ shift + age + gender) suggests that:\n",
      "\n",
      "  - The main effect of shift is statistically not significant and small (F(1, 90)\n",
      "= 2.68, p = 0.105; Eta2 (partial) = 0.03, 95% CI [0.00, 1.00])\n",
      "  - The main effect of age is statistically not significant and very small (F(1,\n",
      "90) = 0.13, p = 0.715; Eta2 (partial) = 1.49e-03, 95% CI [0.00, 1.00])\n",
      "  - The main effect of gender is statistically not significant and very small\n",
      "(F(1, 90) = 0.07, p = 0.796; Eta2 (partial) = 7.50e-04, 95% CI [0.00, 1.00])\n",
      "\n",
      "Effect sizes were labelled following Field's (2013) recommendations.\n",
      "The ANOVA (formula: efficiency ~ shift + age + gender) suggests that:\n",
      "\n",
      "  - The main effect of shift is statistically not significant and small (F(1, 90)\n",
      "= 3.10, p = 0.082; Eta2 (partial) = 0.03, 95% CI [0.00, 1.00])\n",
      "  - The main effect of age is statistically not significant and very small (F(1,\n",
      "90) = 0.15, p = 0.703; Eta2 (partial) = 1.63e-03, 95% CI [0.00, 1.00])\n",
      "  - The main effect of gender is statistically not significant and very small\n",
      "(F(1, 90) = 0.20, p = 0.656; Eta2 (partial) = 2.21e-03, 95% CI [0.00, 1.00])\n",
      "\n",
      "Effect sizes were labelled following Field's (2013) recommendations.\n",
      "#####################\n",
      "\n",
      "2 table_4_specific_question :  what are differences between *work* days and *off* days for primarily *day-shift* nurses and primarily *night-shift* nurses with covariate *age*, *gender* on sleep *mid* ?\n",
      "mid True\n",
      "The ANOVA (formula: mid ~ shift + age + gender) suggests that:\n",
      "\n",
      "  - The main effect of shift is statistically significant and large (F(1, 273) =\n",
      "52.53, p < .001; Eta2 (partial) = 0.16, 95% CI [0.10, 1.00])\n",
      "  - The main effect of age is statistically not significant and very small (F(1,\n",
      "273) = 2.13e-03, p = 0.963; Eta2 (partial) = 7.80e-06, 95% CI [0.00, 1.00])\n",
      "  - The main effect of gender is statistically not significant and very small\n",
      "(F(1, 273) = 0.13, p = 0.717; Eta2 (partial) = 4.83e-04, 95% CI [0.00, 1.00])\n",
      "\n",
      "Effect sizes were labelled following Field's (2013) recommendations.\n",
      "#####################\n",
      "\n"
     ]
    }
   ],
   "source": [
    "table_4(table_4_sqs, sleep_df, physiological_sleep_values)"
   ]
  },
  {
   "cell_type": "code",
   "execution_count": null,
   "id": "06ee1b5c",
   "metadata": {},
   "outputs": [],
   "source": []
  },
  {
   "cell_type": "code",
   "execution_count": null,
   "id": "b2cde644",
   "metadata": {},
   "outputs": [],
   "source": []
  }
 ],
 "metadata": {
  "kernelspec": {
   "display_name": "Python 3 (ipykernel)",
   "language": "python",
   "name": "python3"
  },
  "language_info": {
   "codemirror_mode": {
    "name": "ipython",
    "version": 3
   },
   "file_extension": ".py",
   "mimetype": "text/x-python",
   "name": "python",
   "nbconvert_exporter": "python",
   "pygments_lexer": "ipython3",
   "version": "3.9.13"
  }
 },
 "nbformat": 4,
 "nbformat_minor": 5
}
