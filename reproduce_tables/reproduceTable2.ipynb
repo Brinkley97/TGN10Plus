{
 "cells": [
  {
   "cell_type": "markdown",
   "id": "e8085b28",
   "metadata": {},
   "source": [
    "# Reproduce Table 2\n",
    "- Py kernel with R script\n",
    "- Verify by looking at [Table 2 in the Original Analysis paper](https://www.nature.com/articles/s41598-021-87029-w?proof=t%25C2%25A0) and by running \n",
    "    1. **Rest activity ratio** : `anova_physical.R` [Original version](https://github.com/usc-sail/tiles-day-night/blob/main/code/physical/anova_physical.R)\n",
    "    2. **Walk activity ratio** : `anova_step.R` [Original version](https://github.com/usc-sail/tiles-day-night/blob/main/code/physical/anova_step.R)\n",
    "    3. **Vigorous activity ratio** : `physical_vigorous_lm.R` [Original version](https://github.com/usc-sail/tiles-day-night/blob/main/code/physical/physical_vigorous_lm.R)\n",
    "    \n",
    "    Be sure to configure your file paths.\n",
    "    "
   ]
  },
  {
   "cell_type": "code",
   "execution_count": 1,
   "id": "fe018329",
   "metadata": {},
   "outputs": [],
   "source": [
    "import pandas as pd\n",
    "import numpy as np\n",
    "\n",
    "import sys\n",
    "sys.path.insert(1, '/Users/brinkley97/Documents/development/')\n",
    "import my_created_functions"
   ]
  },
  {
   "cell_type": "markdown",
   "id": "a5ab334e",
   "metadata": {},
   "source": [
    "# Load Data"
   ]
  },
  {
   "cell_type": "code",
   "execution_count": 2,
   "id": "b50f5410",
   "metadata": {},
   "outputs": [],
   "source": [
    "path_to_file =  \"lab-kcad/datasets/tiles_dataset/table_2/physical/\" \n",
    "slm_file = \"stats_lm.csv.gz\""
   ]
  },
  {
   "cell_type": "code",
   "execution_count": 3,
   "id": "4d5d93ab",
   "metadata": {},
   "outputs": [],
   "source": [
    "physical_activity_df = my_created_functions.load_gzip_csv_data(path_to_file, slm_file)\n",
    "# physical_activity_df"
   ]
  },
  {
   "cell_type": "markdown",
   "id": "5ec5c050",
   "metadata": {},
   "source": [
    "# Load Generated Specific Questions"
   ]
  },
  {
   "cell_type": "code",
   "execution_count": 4,
   "id": "ef8f46a4",
   "metadata": {},
   "outputs": [],
   "source": [
    "base = \"/Users/brinkley97/Documents/development/lab-kcad/\"\n",
    "generated_sq_file = \"TGN10Plus/generateSpecificQuestions.ipynb\"\n",
    "table_2_specific_questions_path = base + generated_sq_file\n",
    "# table_2_specific_questions_path"
   ]
  },
  {
   "cell_type": "code",
   "execution_count": 5,
   "id": "5957917b",
   "metadata": {},
   "outputs": [],
   "source": [
    "%run \"../generateSpecificQuestions.ipynb\""
   ]
  },
  {
   "cell_type": "code",
   "execution_count": 6,
   "id": "fe99e34f",
   "metadata": {},
   "outputs": [
    {
     "data": {
      "text/plain": [
       "['what are differences between *work* day and *off* day for primarily *day-shift* nurses and primarily *night-shift* nurses with covariate *age*, *gender* on *rest*',\n",
       " 'what are differences between *work* day and *off* day for primarily *day-shift* nurses and primarily *night-shift* nurses with covariate *age*, *gender* on *step_ratio*',\n",
       " 'what are differences between *work* day and *off* day for primarily *day-shift* nurses and primarily *night-shift* nurses with covariate *age*, *gender* on *run_ratio*',\n",
       " 'what are differences between *work* day and *off* day for primarily *day-shift* nurses and primarily *night-shift* nurses with covariate *age*, *gender* on *vigorous_min*']"
      ]
     },
     "execution_count": 6,
     "metadata": {},
     "output_type": "execute_result"
    }
   ],
   "source": [
    "table_2_sqs"
   ]
  },
  {
   "cell_type": "markdown",
   "id": "3443cba0",
   "metadata": {},
   "source": [
    "# Integrate R"
   ]
  },
  {
   "cell_type": "code",
   "execution_count": 7,
   "id": "5d00f724",
   "metadata": {},
   "outputs": [],
   "source": [
    "import rpy2.robjects as robjects\n",
    "import rpy2.robjects.packages as rpackages\n",
    "\n",
    "# load and activate() bc if NOT error (Conversion 'py2rpy' not defined for objects of type '<class 'pandas.core.frame.DataFrame'>') will appear\n",
    "from rpy2.robjects import pandas2ri\n",
    "pandas2ri.activate()\n",
    "\n",
    "report = rpackages.importr('report')"
   ]
  },
  {
   "cell_type": "markdown",
   "id": "868e5d95",
   "metadata": {},
   "source": [
    "# Produce Table 2"
   ]
  },
  {
   "cell_type": "code",
   "execution_count": 8,
   "id": "a7a8b24f",
   "metadata": {},
   "outputs": [],
   "source": [
    "def table_two(table_2_specific_questions, physical_activity_df):\n",
    "    '''Integrate py and r to calculate the p-value for physical activity variables - rest, step_ratio, and vigorous_min\n",
    "    \n",
    "    Arguments:\n",
    "    table_2_specific_questions -- py list\n",
    "    physical_activity_df -- pd Dataframe\n",
    "    \n",
    "    Return:\n",
    "    nothing; print variables from r script in r files\n",
    "    '''\n",
    "    \n",
    "    ontology_values = list(physical_activity_df.keys())\n",
    "    \n",
    "    \n",
    "    for table_2_specific_questions_idx in range(len(table_2_specific_questions)):\n",
    "        t2_specific_question = table_2_specific_questions[table_2_specific_questions_idx]\n",
    "        print(t2_specific_question)\n",
    "        store_matching_columns = ['shift']\n",
    "        for specific_ontology_value in ontology_values:\n",
    "            # print(\"specific_ontology_value : \", specific_ontology_value)\n",
    "            \n",
    "            if specific_ontology_value in t2_specific_question.split(\"*\"):\n",
    "                # print(specific_ontology_value, True)\n",
    "                store_matching_columns.append(specific_ontology_value)\n",
    "            \n",
    "            else:\n",
    "                # print(specific_ontology_value, False)\n",
    "                continue\n",
    "\n",
    "        form_table = physical_activity_df.loc[:, store_matching_columns[0:]]\n",
    "        # print(form_table)\n",
    "        \n",
    "        activity_ontologies = list(form_table.keys())[2]\n",
    "        # print(activity_ontologies)\n",
    "        \n",
    "        work_or_off = form_table.set_index(\"work\")\n",
    "        # print(work_or_off)\n",
    "        \n",
    "        at_work_df = work_or_off.loc[\"work\"]\n",
    "        # print(at_work_df)\n",
    "                     \n",
    "        off_work_df = work_or_off.loc[\"off\"]\n",
    "        # print(off_work_df)\n",
    "\n",
    "        '''\n",
    "        R Integration\n",
    "        - print outcome in r script\n",
    "        '''\n",
    "        \n",
    "        r_objects = robjects.r\n",
    "        r_objects.source(\"table2.R\")\n",
    "        \n",
    "        print(\"\\n==============activity======================\", activity_ontologies)\n",
    "        \n",
    "        if activity_ontologies == \"rest\":\n",
    "            r_objects.rest_model(at_work_df, off_work_df)\n",
    "            \n",
    "        elif activity_ontologies == \"step_ratio\":\n",
    "            r_objects.step_model(at_work_df, off_work_df)\n",
    "            \n",
    "        elif activity_ontologies == \"vigorous_min\":\n",
    "            r_objects.vigorous_model(at_work_df, off_work_df)\n",
    "            \n",
    "        print(\"-----------------------------------------------------------------------------------------------------\\n\")\n",
    "    return "
   ]
  },
  {
   "cell_type": "code",
   "execution_count": 9,
   "id": "1233d149",
   "metadata": {},
   "outputs": [
    {
     "name": "stdout",
     "output_type": "stream",
     "text": [
      "what are differences between *work* day and *off* day for primarily *day-shift* nurses and primarily *night-shift* nurses with covariate *age*, *gender* on *rest*\n",
      "\n",
      "==============activity====================== rest\n",
      "The ANOVA (formula: rest ~ shift + age + gender) suggests that:\n",
      "\n",
      "  - The main effect of shift is statistically significant and medium (F(1, 101) =\n",
      "9.77, p = 0.002; Eta2 (partial) = 0.09, 95% CI [0.02, 1.00])\n",
      "  - The main effect of age is statistically not significant and small (F(1, 101)\n",
      "= 3.73, p = 0.056; Eta2 (partial) = 0.04, 95% CI [0.00, 1.00])\n",
      "  - The main effect of gender is statistically not significant and very small\n",
      "(F(1, 101) = 0.05, p = 0.826; Eta2 (partial) = 4.79e-04, 95% CI [0.00, 1.00])\n",
      "\n",
      "Effect sizes were labelled following Field's (2013) recommendations.\n",
      "The ANOVA (formula: rest ~ shift + age + gender) suggests that:\n",
      "\n",
      "  - The main effect of shift is statistically significant and medium (F(1, 91) =\n",
      "7.36, p = 0.008; Eta2 (partial) = 0.07, 95% CI [0.01, 1.00])\n",
      "  - The main effect of age is statistically significant and small (F(1, 91) =\n",
      "5.06, p = 0.027; Eta2 (partial) = 0.05, 95% CI [3.26e-03, 1.00])\n",
      "  - The main effect of gender is statistically not significant and very small\n",
      "(F(1, 91) = 0.01, p = 0.903; Eta2 (partial) = 1.64e-04, 95% CI [0.00, 1.00])\n",
      "\n",
      "Effect sizes were labelled following Field's (2013) recommendations.\n",
      "-----------------------------------------------------------------------------------------------------\n",
      "\n",
      "what are differences between *work* day and *off* day for primarily *day-shift* nurses and primarily *night-shift* nurses with covariate *age*, *gender* on *step_ratio*\n",
      "\n",
      "==============activity====================== step_ratio\n",
      "The ANOVA (formula: step_ratio ~ shift + age + gender) suggests that:\n",
      "\n",
      "  - The main effect of shift is statistically significant and small (F(1, 101) =\n",
      "4.93, p = 0.029; Eta2 (partial) = 0.05, 95% CI [2.61e-03, 1.00])\n",
      "  - The main effect of age is statistically not significant and small (F(1, 101)\n",
      "= 3.34, p = 0.071; Eta2 (partial) = 0.03, 95% CI [0.00, 1.00])\n",
      "  - The main effect of gender is statistically significant and medium (F(1, 101)\n",
      "= 8.71, p = 0.004; Eta2 (partial) = 0.08, 95% CI [0.02, 1.00])\n",
      "\n",
      "Effect sizes were labelled following Field's (2013) recommendations.\n",
      "The ANOVA (formula: step_ratio ~ shift + age + gender) suggests that:\n",
      "\n",
      "  - The main effect of shift is statistically significant and small (F(1, 91) =\n",
      "5.16, p = 0.025; Eta2 (partial) = 0.05, 95% CI [3.59e-03, 1.00])\n",
      "  - The main effect of age is statistically not significant and very small (F(1,\n",
      "91) = 0.16, p = 0.689; Eta2 (partial) = 1.77e-03, 95% CI [0.00, 1.00])\n",
      "  - The main effect of gender is statistically significant and medium (F(1, 91) =\n",
      "7.50, p = 0.007; Eta2 (partial) = 0.08, 95% CI [0.01, 1.00])\n",
      "\n",
      "Effect sizes were labelled following Field's (2013) recommendations.\n",
      "-----------------------------------------------------------------------------------------------------\n",
      "\n",
      "what are differences between *work* day and *off* day for primarily *day-shift* nurses and primarily *night-shift* nurses with covariate *age*, *gender* on *run_ratio*\n",
      "\n",
      "==============activity====================== run_ratio\n",
      "-----------------------------------------------------------------------------------------------------\n",
      "\n",
      "what are differences between *work* day and *off* day for primarily *day-shift* nurses and primarily *night-shift* nurses with covariate *age*, *gender* on *vigorous_min*\n",
      "\n",
      "==============activity====================== vigorous_min\n",
      "The ANOVA (formula: vigorous_min ~ shift + age + gender) suggests that:\n",
      "\n",
      "  - The main effect of shift is statistically not significant and small (F(1,\n",
      "101) = 2.02, p = 0.159; Eta2 (partial) = 0.02, 95% CI [0.00, 1.00])\n",
      "  - The main effect of age is statistically significant and medium (F(1, 101) =\n",
      "11.54, p < .001; Eta2 (partial) = 0.10, 95% CI [0.03, 1.00])\n",
      "  - The main effect of gender is statistically not significant and small (F(1,\n",
      "101) = 1.53, p = 0.219; Eta2 (partial) = 0.01, 95% CI [0.00, 1.00])\n",
      "\n",
      "Effect sizes were labelled following Field's (2013) recommendations.\n",
      "The ANOVA (formula: vigorous_min ~ shift + age + gender) suggests that:\n",
      "\n",
      "  - The main effect of shift is statistically significant and small (F(1, 91) =\n",
      "4.50, p = 0.037; Eta2 (partial) = 0.05, 95% CI [1.58e-03, 1.00])\n",
      "  - The main effect of age is statistically significant and medium (F(1, 91) =\n",
      "9.76, p = 0.002; Eta2 (partial) = 0.10, 95% CI [0.02, 1.00])\n",
      "  - The main effect of gender is statistically not significant and very small\n",
      "(F(1, 91) = 0.46, p = 0.498; Eta2 (partial) = 5.07e-03, 95% CI [0.00, 1.00])\n",
      "\n",
      "Effect sizes were labelled following Field's (2013) recommendations.\n",
      "-----------------------------------------------------------------------------------------------------\n",
      "\n"
     ]
    }
   ],
   "source": [
    "table_two(table_2_sqs, physical_activity_df)"
   ]
  },
  {
   "cell_type": "code",
   "execution_count": null,
   "id": "8c01596a",
   "metadata": {},
   "outputs": [],
   "source": []
  }
 ],
 "metadata": {
  "kernelspec": {
   "display_name": "Python 3 (ipykernel)",
   "language": "python",
   "name": "python3"
  },
  "language_info": {
   "codemirror_mode": {
    "name": "ipython",
    "version": 3
   },
   "file_extension": ".py",
   "mimetype": "text/x-python",
   "name": "python",
   "nbconvert_exporter": "python",
   "pygments_lexer": "ipython3",
   "version": "3.9.13"
  }
 },
 "nbformat": 4,
 "nbformat_minor": 5
}
