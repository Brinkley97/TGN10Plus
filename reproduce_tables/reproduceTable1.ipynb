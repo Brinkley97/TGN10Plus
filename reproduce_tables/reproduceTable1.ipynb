{
 "cells": [
  {
   "cell_type": "markdown",
   "id": "c9625dff",
   "metadata": {
    "tags": []
   },
   "source": [
    "# Reproduce Table 1\n",
    "- Py kernel\n",
    "- Verify by looking at [Table 1 in the Original Analysis paper](https://www.nature.com/articles/s41598-021-87029-w?proof=t%25C2%25A0) and by running `python3 demographics_day_night.py` [Original version](https://github.com/usc-sail/tiles-day-night/blob/main/code/ground_truth/demographics_day_night.py). Be sure to configure your file paths."
   ]
  },
  {
   "cell_type": "code",
   "execution_count": 1,
   "id": "9656dedc",
   "metadata": {
    "editable": true,
    "slideshow": {
     "slide_type": ""
    },
    "tags": []
   },
   "outputs": [],
   "source": [
    "import pandas as pd\n",
    "import numpy as np\n",
    "import pingouin as pg\n",
    "\n",
    "from scipy import stats"
   ]
  },
  {
   "attachments": {},
   "cell_type": "markdown",
   "id": "1f85b28e",
   "metadata": {},
   "source": [
    "# Parameters"
   ]
  },
  {
   "cell_type": "code",
   "execution_count": 2,
   "id": "bc7512e1",
   "metadata": {
    "editable": true,
    "slideshow": {
     "slide_type": ""
    },
    "tags": [
     "parameters"
    ]
   },
   "outputs": [],
   "source": [
    "path_to_demographic_day_file : str = \"../synthetic_data/tiles_datasets/table_1_synthetic_data/day_table_1_synthetic_demographic_data.csv\"\n",
    "path_to_demographic_night_file : str = \"../synthetic_data/tiles_datasets/table_1_synthetic_data/night_table_1_synthetic_demographic_data.csv\"\n",
    "path_to_behaviorial_day_file : str = \"../synthetic_data/tiles_datasets/table_1_synthetic_data/day_table_1_synthetic_behavioral_data.csv\"\n",
    "path_to_behaviorial_night_file : str = \"../synthetic_data/tiles_datasets/table_1_synthetic_data/night_table_1_synthetic_behavioral_data.csv\"\n",
    "output_csv : str = \"../output.csv\"\n",
    "output_json : str = \"../output.json\"\n",
    "specific_questions_notebook : str = \"../generateSpecificQuestions.ipynb\""
   ]
  },
  {
   "cell_type": "markdown",
   "id": "9216234b",
   "metadata": {
    "editable": true,
    "slideshow": {
     "slide_type": ""
    },
    "tags": []
   },
   "source": [
    "# Load Data"
   ]
  },
  {
   "cell_type": "code",
   "execution_count": 3,
   "id": "d88ae811",
   "metadata": {
    "editable": true,
    "slideshow": {
     "slide_type": ""
    },
    "tags": []
   },
   "outputs": [],
   "source": [
    "def load_data(file):\n",
    "    \n",
    "    original_data = pd.read_csv(file)\n",
    "    copy_of_data = original_data.copy()\n",
    "    \n",
    "    return copy_of_data"
   ]
  },
  {
   "cell_type": "code",
   "execution_count": 4,
   "id": "00f75f89",
   "metadata": {},
   "outputs": [],
   "source": [
    "demo_day_df = load_data(path_to_demographic_day_file)\n",
    "# demo_day_df"
   ]
  },
  {
   "cell_type": "code",
   "execution_count": 5,
   "id": "74cb0785",
   "metadata": {},
   "outputs": [],
   "source": [
    "demo_night_df = load_data(path_to_demographic_night_file)\n",
    "# demo_night_df"
   ]
  },
  {
   "cell_type": "code",
   "execution_count": 6,
   "id": "293c9a3b",
   "metadata": {},
   "outputs": [],
   "source": [
    "behav_day_df = load_data(path_to_behaviorial_day_file)\n",
    "# behav_day_df"
   ]
  },
  {
   "cell_type": "code",
   "execution_count": 7,
   "id": "1dc221aa",
   "metadata": {},
   "outputs": [],
   "source": [
    "behav_night_df = load_data(path_to_behaviorial_night_file)\n",
    "# behav_night_df"
   ]
  },
  {
   "cell_type": "markdown",
   "id": "d4e7d593",
   "metadata": {
    "tags": []
   },
   "source": [
    "# Load Generated Specific Questions"
   ]
  },
  {
   "cell_type": "code",
   "execution_count": 8,
   "id": "c8f883d0",
   "metadata": {
    "editable": true,
    "slideshow": {
     "slide_type": ""
    },
    "tags": []
   },
   "outputs": [],
   "source": [
    "%run $specific_questions_notebook"
   ]
  },
  {
   "cell_type": "code",
   "execution_count": 9,
   "id": "5cca1c5c",
   "metadata": {
    "editable": true,
    "slideshow": {
     "slide_type": ""
    },
    "tags": []
   },
   "outputs": [
    {
     "data": {
      "text/plain": [
       "['what are differences in primarily *day-shift* nurses and primarily *night-shift* nurses for *Gender* ?',\n",
       " 'what are differences in primarily *day-shift* nurses and primarily *night-shift* nurses for *Age* ?',\n",
       " 'what are differences in primarily *day-shift* nurses and primarily *night-shift* nurses for *Educ* ?',\n",
       " 'what are differences in primarily *day-shift* nurses and primarily *night-shift* nurses for *native_lang* ?',\n",
       " 'what are differences in primarily *day-shift* nurses and primarily *night-shift* nurses for *Female* ?',\n",
       " 'what are differences in primarily *day-shift* nurses and primarily *night-shift* nurses for *Male* ?',\n",
       " 'what are differences in primarily *day-shift* nurses and primarily *night-shift* nurses for *< 40 Years* ?',\n",
       " 'what are differences in primarily *day-shift* nurses and primarily *night-shift* nurses for *>= 40 Years* ?',\n",
       " 'what are differences in primarily *day-shift* nurses and primarily *night-shift* nurses for *Some college or College* ?',\n",
       " 'what are differences in primarily *day-shift* nurses and primarily *night-shift* nurses for *Graduate* ?',\n",
       " 'what are differences in primarily *day-shift* nurses and primarily *night-shift* nurses for *English* ?',\n",
       " 'what are differences in primarily *day-shift* nurses and primarily *night-shift* nurses for *non-english* ?']"
      ]
     },
     "execution_count": 9,
     "metadata": {},
     "output_type": "execute_result"
    }
   ],
   "source": [
    "table_1_demographic_sqs"
   ]
  },
  {
   "cell_type": "code",
   "execution_count": 10,
   "id": "7a235861",
   "metadata": {},
   "outputs": [
    {
     "data": {
      "text/plain": [
       "(['what are differences in primarily *day-shift* nurses and primarily *night-shift* nurses for *Gender* ?',\n",
       "  'what are differences in primarily *day-shift* nurses and primarily *night-shift* nurses for *Age* ?',\n",
       "  'what are differences in primarily *day-shift* nurses and primarily *night-shift* nurses for *Educ* ?',\n",
       "  'what are differences in primarily *day-shift* nurses and primarily *night-shift* nurses for *native_lang* ?',\n",
       "  'what are differences in primarily *day-shift* nurses and primarily *night-shift* nurses for *Female* ?',\n",
       "  'what are differences in primarily *day-shift* nurses and primarily *night-shift* nurses for *Male* ?',\n",
       "  'what are differences in primarily *day-shift* nurses and primarily *night-shift* nurses for *< 40 Years* ?',\n",
       "  'what are differences in primarily *day-shift* nurses and primarily *night-shift* nurses for *>= 40 Years* ?',\n",
       "  'what are differences in primarily *day-shift* nurses and primarily *night-shift* nurses for *Some college or College* ?',\n",
       "  'what are differences in primarily *day-shift* nurses and primarily *night-shift* nurses for *Graduate* ?',\n",
       "  'what are differences in primarily *day-shift* nurses and primarily *night-shift* nurses for *English* ?',\n",
       "  'what are differences in primarily *day-shift* nurses and primarily *night-shift* nurses for *non-english* ?'],\n",
       " {'group_1': 'day-shift',\n",
       "  'group_2': 'night-shift',\n",
       "  'work_1': 'work',\n",
       "  'work_2': 'off',\n",
       "  'physiological_sleep_1': 'start',\n",
       "  'physiological_sleep_2': 'end',\n",
       "  'demographic': {'Gender': ['Female', 'Male'],\n",
       "   'Age': ['< 40 Years', '>= 40 Years'],\n",
       "   'Educ': ['Some college or College', 'Graduate'],\n",
       "   'native_lang': ['English', 'non-english']},\n",
       "  'behavioral': ['stai',\n",
       "   'pan_PosAffect',\n",
       "   'pan_NegAffect',\n",
       "   'swls',\n",
       "   'bfi_Neuroticism',\n",
       "   'bfi_Conscientiousness',\n",
       "   'bfi_Extraversion',\n",
       "   'bfi_Agreeableness',\n",
       "   'bfi_Openness',\n",
       "   'psqi'],\n",
       "  'ema': ['EMA Anxiety',\n",
       "   'EMA Stess',\n",
       "   'EMA Positive Affect',\n",
       "   'EMA Negative Affect'],\n",
       "  'physiological_sleep': ['duration', 'efficiency', 'mid'],\n",
       "  'physiological': ['rest', 'step_ratio', 'run_ratio', 'vigorous_min'],\n",
       "  'tables_3_and_5': ['intercept',\n",
       "   'Age [<40 years]',\n",
       "   'Gender [female]',\n",
       "   'Shift [day shift]',\n",
       "   'Number of observations',\n",
       "   'Adjust R2'],\n",
       "  'table_3_activity': ['Rest-activity ratio (off-day)',\n",
       "   'Shift [day shift] x rest-activity ratio (off-day)',\n",
       "   'Walk-activity ratio (off-day)',\n",
       "   'Shift [day shift] x walk-activity ratio (off-day)'],\n",
       "  'table_5_sleep': ['Sleep duration (off-day)',\n",
       "   'Shift [day shift] x sleep duration (off-day)',\n",
       "   'Sleep efficiency (off-day)',\n",
       "   'Shift [day shift] x sleep efficiiency (off-day)'],\n",
       "  'time_within_a_day': ['23:00–3:00 h',\n",
       "   '3:00–7:00 h',\n",
       "   '7:00–11:00 h',\n",
       "   '11:00–15:00 h',\n",
       "   '15:00–19:00 h',\n",
       "   '19:00–23:00 h']})"
      ]
     },
     "execution_count": 10,
     "metadata": {},
     "output_type": "execute_result"
    }
   ],
   "source": [
    "table_1_demographic_sqs, ontology_mappings"
   ]
  },
  {
   "cell_type": "code",
   "execution_count": 11,
   "id": "7391dabf",
   "metadata": {},
   "outputs": [],
   "source": [
    "demographic_ontology_keys = list(ontology_mappings[\"demographic\"])\n",
    "demographic_ontology_values = list(ontology_mappings.values())[6]\n",
    "\n",
    "# in demographic section, the line similiar to this next has keys and this one has values bc they are stored differently \n",
    "# in the ontology_mappings dict in generateSpecificQuestions.ipynb\n",
    "behavioral_ontology_values = list(ontology_mappings[\"behavioral\"])"
   ]
  },
  {
   "cell_type": "markdown",
   "id": "d61aa553",
   "metadata": {},
   "source": [
    "# Run Analysis"
   ]
  },
  {
   "cell_type": "markdown",
   "id": "c92e89f2",
   "metadata": {
    "tags": []
   },
   "source": [
    "## Fisher Odds Test - Table 1"
   ]
  },
  {
   "cell_type": "code",
   "execution_count": 12,
   "id": "d49330b5",
   "metadata": {},
   "outputs": [],
   "source": [
    "def fisher_odds_p_value(day_shift_df, night_shift_df, specific_demographic_ontology_key, demo_group_1, demo_group_2):\n",
    "    '''Calculate the fisher oddsratio and p-values for demographic ontologies using stats.fisher_exact() function\n",
    "    \n",
    "    Arguments:\n",
    "    day_shift_df -- Pandas DataFrame\n",
    "    night_shift_df -- Pandas DataFrame\n",
    "    demo -- str which is used as a column in the both Pandas DataFrames \n",
    "    demo_group_1 -- str which is used as a column in the both Pandas DataFrames \n",
    "    demo_group_2 -- str which is used as a column in the both Pandas DataFrames \n",
    "    \n",
    "    Return: \n",
    "    oddsratio and pvalue\n",
    "    '''\n",
    "    \n",
    "    table_df = pd.DataFrame(index=['day', 'night'], columns=[demo_group_1, demo_group_2])\n",
    "    table_df.loc['day', demo_group_1] = len(day_shift_df.loc[day_shift_df[specific_demographic_ontology_key] == demo_group_1])\n",
    "    table_df.loc['day', demo_group_2] = len(day_shift_df.loc[day_shift_df[specific_demographic_ontology_key] == demo_group_2])\n",
    "    table_df.loc['night', demo_group_1] = len(night_shift_df.loc[night_shift_df[specific_demographic_ontology_key] == demo_group_1])\n",
    "    table_df.loc['night', demo_group_2] = len(night_shift_df.loc[night_shift_df[specific_demographic_ontology_key] == demo_group_2])\n",
    "    \n",
    "    oddsratio, pvalue = stats.fisher_exact(np.array(table_df))\n",
    "    \n",
    "    return 'oddsratio : %.3f, pvalue: %.3f \\n' % (oddsratio, pvalue)"
   ]
  },
  {
   "cell_type": "code",
   "execution_count": 13,
   "id": "519fcadf",
   "metadata": {},
   "outputs": [],
   "source": [
    "def table_one_demo_ontologies(demo_specific_questions, demographic_ontology_keys, demographic_ontology_values, day_df, night_df):\n",
    "    '''Format data properly to pass into the fisher_odds_p_value() function\n",
    "    \n",
    "    Argument:\n",
    "    demo_specific_questions -- py list\n",
    "    demographic_ontology_keys -- py list\n",
    "    demographic_ontology_values -- py list\n",
    "    \n",
    "    Functions:\n",
    "    fisher_odds_p_value()\n",
    "    \n",
    "    Return:\n",
    "    p-values from fisher_odds_p_value() function -- list\n",
    "    '''\n",
    "    \n",
    "    store_p_values = []\n",
    "\n",
    "    for demo_specific_question in demo_specific_questions:\n",
    "        \n",
    "        \n",
    "        for specific_demographic_ontology_key in demographic_ontology_keys:\n",
    "            \n",
    "            if specific_demographic_ontology_key in demo_specific_question.split(\"*\"):\n",
    "                demo_group_1 = demographic_ontology_values[specific_demographic_ontology_key][0]\n",
    "                demo_group_2 = demographic_ontology_values[specific_demographic_ontology_key][1]\n",
    "               \n",
    "                p_value = fisher_odds_p_value(day_df, night_df, specific_demographic_ontology_key=specific_demographic_ontology_key, demo_group_1=demo_group_1, demo_group_2=demo_group_2)\n",
    "                store_p_values.append(specific_demographic_ontology_key)\n",
    "                store_p_values.append(p_value)\n",
    "                \n",
    "            else:\n",
    "                continue\n",
    " \n",
    "    return store_p_values"
   ]
  },
  {
   "cell_type": "code",
   "execution_count": 14,
   "id": "0828ebbf",
   "metadata": {},
   "outputs": [
    {
     "data": {
      "text/plain": [
       "['Gender',\n",
       " 'oddsratio : inf, pvalue: 0.000 \\n',\n",
       " 'Age',\n",
       " 'oddsratio : inf, pvalue: 0.000 \\n',\n",
       " 'Educ',\n",
       " 'oddsratio : 0.000, pvalue: 0.000 \\n',\n",
       " 'native_lang',\n",
       " 'oddsratio : nan, pvalue: 1.000 \\n']"
      ]
     },
     "execution_count": 14,
     "metadata": {},
     "output_type": "execute_result"
    }
   ],
   "source": [
    "table_one_demo_ontologies(table_1_demographic_sqs, demographic_ontology_keys, demographic_ontology_values, demo_day_df, demo_night_df)"
   ]
  },
  {
   "cell_type": "markdown",
   "id": "1afff968",
   "metadata": {},
   "source": [
    "## TTest - Table 1"
   ]
  },
  {
   "cell_type": "code",
   "execution_count": 15,
   "id": "1de68a2f",
   "metadata": {
    "editable": true,
    "slideshow": {
     "slide_type": ""
    },
    "tags": []
   },
   "outputs": [
    {
     "data": {
      "text/plain": [
       "['what are differences in primarily *day-shift* nurses and primarily *night-shift* nurses for *stai* ?',\n",
       " 'what are differences in primarily *day-shift* nurses and primarily *night-shift* nurses for *pan_PosAffect* ?',\n",
       " 'what are differences in primarily *day-shift* nurses and primarily *night-shift* nurses for *pan_NegAffect* ?',\n",
       " 'what are differences in primarily *day-shift* nurses and primarily *night-shift* nurses for *swls* ?',\n",
       " 'what are differences in primarily *day-shift* nurses and primarily *night-shift* nurses for *bfi_Neuroticism* ?',\n",
       " 'what are differences in primarily *day-shift* nurses and primarily *night-shift* nurses for *bfi_Conscientiousness* ?',\n",
       " 'what are differences in primarily *day-shift* nurses and primarily *night-shift* nurses for *bfi_Extraversion* ?',\n",
       " 'what are differences in primarily *day-shift* nurses and primarily *night-shift* nurses for *bfi_Agreeableness* ?',\n",
       " 'what are differences in primarily *day-shift* nurses and primarily *night-shift* nurses for *bfi_Openness* ?',\n",
       " 'what are differences in primarily *day-shift* nurses and primarily *night-shift* nurses for *psqi* ?']"
      ]
     },
     "execution_count": 15,
     "metadata": {},
     "output_type": "execute_result"
    }
   ],
   "source": [
    "table_1_behavioral_sqs"
   ]
  },
  {
   "cell_type": "code",
   "execution_count": 16,
   "id": "de40e4a7",
   "metadata": {
    "editable": true,
    "slideshow": {
     "slide_type": ""
    },
    "tags": []
   },
   "outputs": [],
   "source": [
    "def ttest_p_value(day_df, night_df, specific_behavioral_ontology_value):\n",
    "    '''Calculate the pingouin p-values for behavioral ontologies using the pg.ttest() function\n",
    "    \n",
    "    Arguments:\n",
    "    day_df -- Pandas DataFrame\n",
    "    night_df -- Pandas DataFrame\n",
    "    specific_behavioral_ontology_value -- str which is used as a column in the both Pandas DataFrames \n",
    "    \n",
    "    Return:\n",
    "    p-values from pg.ttest() function -- list\n",
    "    '''\n",
    "    \n",
    "    p_values = []\n",
    "    result = pg.ttest(np.array(day_df[specific_behavioral_ontology_value].dropna()), np.array(night_df[specific_behavioral_ontology_value].dropna()))\n",
    "    p_val_results = result['p-val'].values[0]    \n",
    "    return p_val_results"
   ]
  },
  {
   "cell_type": "code",
   "execution_count": 17,
   "id": "2632679e",
   "metadata": {
    "editable": true,
    "slideshow": {
     "slide_type": ""
    },
    "tags": []
   },
   "outputs": [],
   "source": [
    "def table_one_behav(behav_specific_questions, behavioral_ontology_values, day_df, night_df):\n",
    "    '''Format data properly to pass into the ttest_p_value() function\n",
    "    \n",
    "    Argument:\n",
    "    behav_specific_questions -- list\n",
    "    \n",
    "    Functions:\n",
    "    ttest_p_value()\n",
    "    \n",
    "    Return:\n",
    "    p-values from ttest_p_value() -- list\n",
    "    '''\n",
    "    \n",
    "    store_p_values = {} \n",
    "\n",
    "    for behav_specific_question in behav_specific_questions:\n",
    "        \n",
    "        for specific_behavioral_ontology_value in behavioral_ontology_values:\n",
    "            \n",
    "            if specific_behavioral_ontology_value in behav_specific_question.split(\"*\"):\n",
    "                \n",
    "                p_value = ttest_p_value(day_df, night_df, specific_behavioral_ontology_value)\n",
    "                store_p_values[specific_behavioral_ontology_value] = p_value\n",
    "                behavioral_ontology_values.remove(specific_behavioral_ontology_value)\n",
    "                \n",
    "    return store_p_values"
   ]
  },
  {
   "cell_type": "code",
   "execution_count": 18,
   "id": "92199bbb",
   "metadata": {
    "editable": true,
    "slideshow": {
     "slide_type": ""
    },
    "tags": []
   },
   "outputs": [],
   "source": [
    "results = table_one_behav(table_1_behavioral_sqs, behavioral_ontology_values, behav_day_df, behav_night_df)"
   ]
  },
  {
   "cell_type": "code",
   "execution_count": 19,
   "id": "dc81adbf-03fe-42ae-8a87-6a4ff78d5cbe",
   "metadata": {
    "editable": true,
    "slideshow": {
     "slide_type": ""
    },
    "tags": []
   },
   "outputs": [
    {
     "data": {
      "text/plain": [
       "{'stai': 0.020308341516518114,\n",
       " 'pan_PosAffect': 3.7205324990342146e-08,\n",
       " 'pan_NegAffect': 9.511573995076765e-05,\n",
       " 'swls': 0.5061522953572187,\n",
       " 'bfi_Neuroticism': 0.1934542158101793,\n",
       " 'bfi_Conscientiousness': 0.5803018463984015,\n",
       " 'bfi_Extraversion': 2.203683011689185e-19,\n",
       " 'bfi_Agreeableness': 6.863540699203524e-19,\n",
       " 'bfi_Openness': 1.4469393051328919e-06,\n",
       " 'psqi': 3.4536974136942344e-11}"
      ]
     },
     "execution_count": 19,
     "metadata": {},
     "output_type": "execute_result"
    }
   ],
   "source": [
    "results"
   ]
  },
  {
   "cell_type": "code",
   "execution_count": 20,
   "id": "00541491",
   "metadata": {
    "editable": true,
    "slideshow": {
     "slide_type": ""
    },
    "tags": []
   },
   "outputs": [],
   "source": [
    "import csv\n",
    "\n",
    "def dict_to_csv(data, filename):\n",
    "    keys = data.keys()\n",
    "    values = data.values()\n",
    "    print(keys)\n",
    "    with open(filename, 'w', newline='') as file:\n",
    "        writer = csv.writer(file)\n",
    "        writer.writerow(keys)\n",
    "        writer.writerow(values)\n",
    "\n",
    "    print(f\"CSV file '{filename}' has been created successfully.\")"
   ]
  },
  {
   "cell_type": "code",
   "execution_count": 21,
   "id": "74bf74cc-d41f-4ef9-9cf9-27f687b937fa",
   "metadata": {
    "editable": true,
    "slideshow": {
     "slide_type": ""
    },
    "tags": []
   },
   "outputs": [],
   "source": [
    "import json\n",
    "\n",
    "def dict_to_json(data, filename):\n",
    "    with open(filename, 'w') as file:\n",
    "        json.dump(data, file)\n",
    "\n",
    "    print(f\"JSON file '{filename}' has been created successfully.\")"
   ]
  },
  {
   "cell_type": "code",
   "execution_count": 22,
   "id": "5aef8918-d767-47ed-b4f2-833f62cdf4fd",
   "metadata": {
    "editable": true,
    "slideshow": {
     "slide_type": ""
    },
    "tags": []
   },
   "outputs": [
    {
     "name": "stdout",
     "output_type": "stream",
     "text": [
      "JSON file '../output.json' has been created successfully.\n"
     ]
    }
   ],
   "source": [
    "dict_to_json(results, output_json)"
   ]
  },
  {
   "cell_type": "code",
   "execution_count": 23,
   "id": "2d63df0c-df29-40d4-885b-ce1e99ac5192",
   "metadata": {
    "editable": true,
    "slideshow": {
     "slide_type": ""
    },
    "tags": []
   },
   "outputs": [
    {
     "name": "stdout",
     "output_type": "stream",
     "text": [
      "dict_keys(['stai', 'pan_PosAffect', 'pan_NegAffect', 'swls', 'bfi_Neuroticism', 'bfi_Conscientiousness', 'bfi_Extraversion', 'bfi_Agreeableness', 'bfi_Openness', 'psqi'])\n",
      "CSV file '../output.csv' has been created successfully.\n"
     ]
    }
   ],
   "source": [
    "dict_to_csv(results, output_csv)"
   ]
  }
 ],
 "metadata": {
  "kernelspec": {
   "display_name": "Python 3 (ipykernel)",
   "language": "python",
   "name": "python3"
  },
  "language_info": {
   "codemirror_mode": {
    "name": "ipython",
    "version": 3
   },
   "file_extension": ".py",
   "mimetype": "text/x-python",
   "name": "python",
   "nbconvert_exporter": "python",
   "pygments_lexer": "ipython3",
   "version": "3.9.16"
  }
 },
 "nbformat": 4,
 "nbformat_minor": 5
}
