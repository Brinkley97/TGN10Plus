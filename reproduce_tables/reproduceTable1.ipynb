{
 "cells": [
  {
   "cell_type": "markdown",
   "id": "3c4faed6",
   "metadata": {
    "tags": []
   },
   "source": [
    "# Reproduce Table 1\n",
    "- Py kernel\n",
    "- Verify by looking at [Table 1 in the Original Analysis paper](https://www.nature.com/articles/s41598-021-87029-w?proof=t%25C2%25A0) and by running `python3 demographics_day_night.py` [Original version](https://github.com/usc-sail/tiles-day-night/blob/main/code/ground_truth/demographics_day_night.py). Be sure to configure your file paths."
   ]
  },
  {
   "cell_type": "code",
   "execution_count": 1,
   "id": "5cb79c56",
   "metadata": {
    "editable": true,
    "slideshow": {
     "slide_type": ""
    },
    "tags": []
   },
   "outputs": [],
   "source": [
    "import os\n",
    "import csv \n",
    "import json\n",
    "\n",
    "import pandas as pd\n",
    "import numpy as np\n",
    "import pingouin as pg\n",
    "\n",
    "from scipy import stats"
   ]
  },
  {
   "cell_type": "markdown",
   "id": "f1bf4ab2",
   "metadata": {},
   "source": [
    "# Parameters"
   ]
  },
  {
   "cell_type": "code",
   "execution_count": 2,
   "id": "faed701a",
   "metadata": {
    "editable": true
   },
   "outputs": [],
   "source": [
    "path_to_demographic_day_file : str = \"../synthetic_data/tiles_datasets/table_1_synthetic_data/day_table_1_synthetic_demographic_data.csv\"\n",
    "path_to_demographic_night_file : str = \"../synthetic_data/tiles_datasets/table_1_synthetic_data/night_table_1_synthetic_demographic_data.csv\"\n",
    "path_to_behaviorial_day_file : str = \"../synthetic_data/tiles_datasets/table_1_synthetic_data/day_table_1_synthetic_behavioral_data.csv\"\n",
    "path_to_behaviorial_night_file : str = \"../synthetic_data/tiles_datasets/table_1_synthetic_data/night_table_1_synthetic_behavioral_data.csv\"\n",
    "output_csv : str = \"../results/output.csv\"\n",
    "output_json : str = \"../results/output.json\"\n",
    "specific_questions_notebook : str = \"../generateSpecificQuestions.ipynb\"\n",
    "target_variable : str = \"Gender\""
   ]
  },
  {
   "cell_type": "markdown",
   "id": "b5945a39",
   "metadata": {
    "editable": true,
    "slideshow": {
     "slide_type": ""
    },
    "tags": []
   },
   "source": [
    "# Load Data"
   ]
  },
  {
   "cell_type": "code",
   "execution_count": 3,
   "id": "b8eaf434",
   "metadata": {
    "editable": true,
    "slideshow": {
     "slide_type": ""
    },
    "tags": []
   },
   "outputs": [],
   "source": [
    "def load_data(file):\n",
    "    \n",
    "    original_data = pd.read_csv(file)\n",
    "    copy_of_data = original_data.copy()\n",
    "    \n",
    "    return copy_of_data"
   ]
  },
  {
   "cell_type": "code",
   "execution_count": 4,
   "id": "2f4b25aa",
   "metadata": {},
   "outputs": [],
   "source": [
    "demo_day_df = load_data(path_to_demographic_day_file)\n",
    "# demo_day_df"
   ]
  },
  {
   "cell_type": "code",
   "execution_count": 5,
   "id": "d2abbd45",
   "metadata": {},
   "outputs": [],
   "source": [
    "demo_night_df = load_data(path_to_demographic_night_file)\n",
    "# demo_night_df"
   ]
  },
  {
   "cell_type": "code",
   "execution_count": 6,
   "id": "97bbddb5",
   "metadata": {},
   "outputs": [],
   "source": [
    "behav_day_df = load_data(path_to_behaviorial_day_file)\n",
    "# behav_day_df"
   ]
  },
  {
   "cell_type": "code",
   "execution_count": 7,
   "id": "2e34404d",
   "metadata": {},
   "outputs": [],
   "source": [
    "behav_night_df = load_data(path_to_behaviorial_night_file)\n",
    "# behav_night_df"
   ]
  },
  {
   "cell_type": "markdown",
   "id": "6916be06",
   "metadata": {
    "tags": []
   },
   "source": [
    "# Load Generated Specific Questions"
   ]
  },
  {
   "cell_type": "code",
   "execution_count": 8,
   "id": "0d3f88dd",
   "metadata": {
    "editable": true,
    "slideshow": {
     "slide_type": ""
    },
    "tags": []
   },
   "outputs": [],
   "source": [
    "%run $specific_questions_notebook"
   ]
  },
  {
   "cell_type": "code",
   "execution_count": 9,
   "id": "7ffdee77",
   "metadata": {
    "editable": true,
    "slideshow": {
     "slide_type": ""
    },
    "tags": []
   },
   "outputs": [
    {
     "data": {
      "text/plain": [
       "['what are differences in primarily *day-shift* nurses and primarily *night-shift* nurses for *Gender* ?',\n",
       " 'what are differences in primarily *day-shift* nurses and primarily *night-shift* nurses for *Age* ?',\n",
       " 'what are differences in primarily *day-shift* nurses and primarily *night-shift* nurses for *Educ* ?',\n",
       " 'what are differences in primarily *day-shift* nurses and primarily *night-shift* nurses for *native_lang* ?',\n",
       " 'what are differences in primarily *day-shift* nurses and primarily *night-shift* nurses for *Female* ?',\n",
       " 'what are differences in primarily *day-shift* nurses and primarily *night-shift* nurses for *Male* ?',\n",
       " 'what are differences in primarily *day-shift* nurses and primarily *night-shift* nurses for *< 40 Years* ?',\n",
       " 'what are differences in primarily *day-shift* nurses and primarily *night-shift* nurses for *>= 40 Years* ?',\n",
       " 'what are differences in primarily *day-shift* nurses and primarily *night-shift* nurses for *Some college or College* ?',\n",
       " 'what are differences in primarily *day-shift* nurses and primarily *night-shift* nurses for *Graduate* ?',\n",
       " 'what are differences in primarily *day-shift* nurses and primarily *night-shift* nurses for *English* ?',\n",
       " 'what are differences in primarily *day-shift* nurses and primarily *night-shift* nurses for *non-english* ?']"
      ]
     },
     "execution_count": 9,
     "metadata": {},
     "output_type": "execute_result"
    }
   ],
   "source": [
    "table_1_demographic_sqs"
   ]
  },
  {
   "cell_type": "code",
   "execution_count": 10,
   "id": "525344f5",
   "metadata": {},
   "outputs": [
    {
     "data": {
      "text/plain": [
       "['what are differences in primarily *day-shift* nurses and primarily *night-shift* nurses for *stai* ?',\n",
       " 'what are differences in primarily *day-shift* nurses and primarily *night-shift* nurses for *pan_PosAffect* ?',\n",
       " 'what are differences in primarily *day-shift* nurses and primarily *night-shift* nurses for *pan_NegAffect* ?',\n",
       " 'what are differences in primarily *day-shift* nurses and primarily *night-shift* nurses for *swls* ?',\n",
       " 'what are differences in primarily *day-shift* nurses and primarily *night-shift* nurses for *bfi_Neuroticism* ?',\n",
       " 'what are differences in primarily *day-shift* nurses and primarily *night-shift* nurses for *bfi_Conscientiousness* ?',\n",
       " 'what are differences in primarily *day-shift* nurses and primarily *night-shift* nurses for *bfi_Extraversion* ?',\n",
       " 'what are differences in primarily *day-shift* nurses and primarily *night-shift* nurses for *bfi_Agreeableness* ?',\n",
       " 'what are differences in primarily *day-shift* nurses and primarily *night-shift* nurses for *bfi_Openness* ?',\n",
       " 'what are differences in primarily *day-shift* nurses and primarily *night-shift* nurses for *psqi* ?']"
      ]
     },
     "execution_count": 10,
     "metadata": {},
     "output_type": "execute_result"
    }
   ],
   "source": [
    "table_1_behavioral_sqs"
   ]
  },
  {
   "cell_type": "code",
   "execution_count": 11,
   "id": "b8b34084",
   "metadata": {},
   "outputs": [],
   "source": [
    "# ontology_mappings"
   ]
  },
  {
   "cell_type": "code",
   "execution_count": 12,
   "id": "ec927ee9",
   "metadata": {},
   "outputs": [],
   "source": [
    "demographic_ontology_keys = list(ontology_mappings[\"demographic\"])\n",
    "demographic_ontology_values = list(ontology_mappings.values())[6]\n",
    "\n",
    "# in demographic section, the line similiar to this next has keys and this one has values bc they are stored differently \n",
    "# in the ontology_mappings dict in generateSpecificQuestions.ipynb\n",
    "behavioral_ontology_values = list(ontology_mappings[\"behavioral\"])"
   ]
  },
  {
   "cell_type": "code",
   "execution_count": 13,
   "id": "0bd7b908",
   "metadata": {},
   "outputs": [
    {
     "data": {
      "text/plain": [
       "{'Gender': ['Female', 'Male'],\n",
       " 'Age': ['< 40 Years', '>= 40 Years'],\n",
       " 'Educ': ['Some college or College', 'Graduate'],\n",
       " 'native_lang': ['English', 'non-english']}"
      ]
     },
     "execution_count": 13,
     "metadata": {},
     "output_type": "execute_result"
    }
   ],
   "source": [
    "demographic_ontology_values"
   ]
  },
  {
   "cell_type": "code",
   "execution_count": 14,
   "id": "13b980a2",
   "metadata": {},
   "outputs": [
    {
     "data": {
      "text/plain": [
       "['stai',\n",
       " 'pan_PosAffect',\n",
       " 'pan_NegAffect',\n",
       " 'swls',\n",
       " 'bfi_Neuroticism',\n",
       " 'bfi_Conscientiousness',\n",
       " 'bfi_Extraversion',\n",
       " 'bfi_Agreeableness',\n",
       " 'bfi_Openness',\n",
       " 'psqi']"
      ]
     },
     "execution_count": 14,
     "metadata": {},
     "output_type": "execute_result"
    }
   ],
   "source": [
    "behavioral_ontology_values"
   ]
  },
  {
   "cell_type": "markdown",
   "id": "59fdf598",
   "metadata": {},
   "source": [
    "# Run Analysis"
   ]
  },
  {
   "cell_type": "markdown",
   "id": "7bb11794",
   "metadata": {
    "tags": []
   },
   "source": [
    "## Fisher Odds Test - Table 1"
   ]
  },
  {
   "cell_type": "code",
   "execution_count": 15,
   "id": "02b8e92f",
   "metadata": {},
   "outputs": [],
   "source": [
    "def fisher_odds_p_value(day_shift_df, night_shift_df, specific_demographic_ontology_key, demo_group_1, demo_group_2):\n",
    "    '''Calculate the fisher oddsratio and p-values for demographic ontologies using stats.fisher_exact() function\n",
    "    \n",
    "    Arguments:\n",
    "    day_shift_df -- Pandas DataFrame\n",
    "    night_shift_df -- Pandas DataFrame\n",
    "    demo -- str which is used as a column in the both Pandas DataFrames \n",
    "    demo_group_1 -- str which is used as a column in the both Pandas DataFrames \n",
    "    demo_group_2 -- str which is used as a column in the both Pandas DataFrames \n",
    "    \n",
    "    Return: \n",
    "    oddsratio and pvalue\n",
    "    '''\n",
    "    \n",
    "    table_df = pd.DataFrame(index=['day', 'night'], columns=[demo_group_1, demo_group_2])\n",
    "    table_df.loc['day', demo_group_1] = len(day_shift_df.loc[day_shift_df[specific_demographic_ontology_key] == demo_group_1])\n",
    "    table_df.loc['day', demo_group_2] = len(day_shift_df.loc[day_shift_df[specific_demographic_ontology_key] == demo_group_2])\n",
    "    table_df.loc['night', demo_group_1] = len(night_shift_df.loc[night_shift_df[specific_demographic_ontology_key] == demo_group_1])\n",
    "    table_df.loc['night', demo_group_2] = len(night_shift_df.loc[night_shift_df[specific_demographic_ontology_key] == demo_group_2])\n",
    "    \n",
    "    oddsratio, pvalue = stats.fisher_exact(np.array(table_df))\n",
    "    \n",
    "    return 'oddsratio : %.3f, pvalue: %.3f \\n' % (oddsratio, pvalue)"
   ]
  },
  {
   "cell_type": "code",
   "execution_count": 16,
   "id": "a01aadaa",
   "metadata": {},
   "outputs": [],
   "source": [
    "def table_one_demo_ontologies(demo_specific_questions, demographic_ontology_keys, demographic_ontology_values, day_df, night_df, target_variable):\n",
    "    '''Format data properly to pass into the fisher_odds_p_value() function\n",
    "    \n",
    "    Argument:\n",
    "    demo_specific_questions -- py list\n",
    "    demographic_ontology_keys -- py list\n",
    "    demographic_ontology_values -- py list\n",
    "    \n",
    "    Functions:\n",
    "    fisher_odds_p_value()\n",
    "    \n",
    "    Return:\n",
    "    p-values from fisher_odds_p_value() function -- list\n",
    "    '''\n",
    "    \n",
    "    store_p_values = {}\n",
    "\n",
    "    for demo_specific_question in demo_specific_questions:\n",
    "        \n",
    "        for specific_demographic_ontology_key in demographic_ontology_keys:\n",
    "            \n",
    "            if specific_demographic_ontology_key in demo_specific_question.split(\"*\"):\n",
    "                if specific_demographic_ontology_key == target_variable:\n",
    "                    print(specific_demographic_ontology_key)\n",
    "                    demo_group_1 = demographic_ontology_values[specific_demographic_ontology_key][0]\n",
    "                    demo_group_2 = demographic_ontology_values[specific_demographic_ontology_key][1]\n",
    "\n",
    "                    p_value = fisher_odds_p_value(day_df, night_df, specific_demographic_ontology_key=specific_demographic_ontology_key, demo_group_1=demo_group_1, demo_group_2=demo_group_2)\n",
    "#                     store_p_values.append(specific_demographic_ontology_key)\n",
    "#                     store_p_values.append(p_value)\n",
    "                    store_p_values[specific_demographic_ontology_key] = p_value\n",
    "                \n",
    "            else:\n",
    "                continue\n",
    " \n",
    "    return store_p_values"
   ]
  },
  {
   "cell_type": "code",
   "execution_count": 17,
   "id": "f9e89558",
   "metadata": {},
   "outputs": [
    {
     "name": "stdout",
     "output_type": "stream",
     "text": [
      "Gender\n"
     ]
    }
   ],
   "source": [
    "demo_results = table_one_demo_ontologies(table_1_demographic_sqs, demographic_ontology_keys, demographic_ontology_values, demo_day_df, demo_night_df, target_variable)"
   ]
  },
  {
   "cell_type": "code",
   "execution_count": 18,
   "id": "0d521c44",
   "metadata": {},
   "outputs": [
    {
     "data": {
      "text/plain": [
       "{'Gender': 'oddsratio : inf, pvalue: 0.000 \\n'}"
      ]
     },
     "execution_count": 18,
     "metadata": {},
     "output_type": "execute_result"
    }
   ],
   "source": [
    "demo_results"
   ]
  },
  {
   "cell_type": "markdown",
   "id": "3f3e37e8",
   "metadata": {},
   "source": [
    "## TTest - Table 1"
   ]
  },
  {
   "cell_type": "code",
   "execution_count": 19,
   "id": "f7925f23",
   "metadata": {
    "editable": true,
    "slideshow": {
     "slide_type": ""
    },
    "tags": []
   },
   "outputs": [],
   "source": [
    "def ttest_p_value(day_df, night_df, specific_behavioral_ontology_value):\n",
    "    '''Calculate the pingouin p-values for behavioral ontologies using the pg.ttest() function\n",
    "    \n",
    "    Arguments:\n",
    "    day_df -- Pandas DataFrame\n",
    "    night_df -- Pandas DataFrame\n",
    "    specific_behavioral_ontology_value -- str which is used as a column in the both Pandas DataFrames \n",
    "    \n",
    "    Return:\n",
    "    p-values from pg.ttest() function -- list\n",
    "    '''\n",
    "    \n",
    "    p_values = []\n",
    "    result = pg.ttest(np.array(day_df[specific_behavioral_ontology_value].dropna()), np.array(night_df[specific_behavioral_ontology_value].dropna()))\n",
    "    p_val_results = result['p-val'].values[0]    \n",
    "    return p_val_results"
   ]
  },
  {
   "cell_type": "code",
   "execution_count": 20,
   "id": "a10deaa2",
   "metadata": {
    "editable": true,
    "slideshow": {
     "slide_type": ""
    },
    "tags": []
   },
   "outputs": [],
   "source": [
    "def table_one_behav(behav_specific_questions, behavioral_ontology_values, day_df, night_df, target_variable):\n",
    "    '''Format data properly to pass into the ttest_p_value() function\n",
    "    \n",
    "    Argument:\n",
    "    behav_specific_questions -- list\n",
    "    \n",
    "    Functions:\n",
    "    ttest_p_value()\n",
    "    \n",
    "    Return:\n",
    "    -- dict (of the pvalue for that specific target variable)\n",
    "    '''\n",
    "    \n",
    "    store_p_values = {} \n",
    "\n",
    "    for behav_specific_question in behav_specific_questions:\n",
    "        \n",
    "        for specific_behavioral_ontology_value in behavioral_ontology_values:\n",
    "            if specific_behavioral_ontology_value in behav_specific_question.split(\"*\"):\n",
    "                if specific_behavioral_ontology_value == target_variable:\n",
    "                    print(specific_behavioral_ontology_value)\n",
    "\n",
    "                    p_value = ttest_p_value(day_df, night_df, specific_behavioral_ontology_value)\n",
    "                    store_p_values[specific_behavioral_ontology_value] = p_value\n",
    "                    behavioral_ontology_values.remove(specific_behavioral_ontology_value)\n",
    "                \n",
    "    return store_p_values"
   ]
  },
  {
   "cell_type": "code",
   "execution_count": 21,
   "id": "ccc7b460",
   "metadata": {
    "editable": true,
    "slideshow": {
     "slide_type": ""
    },
    "tags": []
   },
   "outputs": [],
   "source": [
    "behav_results = table_one_behav(table_1_behavioral_sqs, behavioral_ontology_values, behav_day_df, behav_night_df, target_variable)"
   ]
  },
  {
   "cell_type": "code",
   "execution_count": 22,
   "id": "29d7ae94",
   "metadata": {
    "editable": true,
    "slideshow": {
     "slide_type": ""
    },
    "tags": []
   },
   "outputs": [
    {
     "data": {
      "text/plain": [
       "{}"
      ]
     },
     "execution_count": 22,
     "metadata": {},
     "output_type": "execute_result"
    }
   ],
   "source": [
    "behav_results"
   ]
  },
  {
   "cell_type": "code",
   "execution_count": 23,
   "id": "3aa52bfc",
   "metadata": {},
   "outputs": [],
   "source": [
    "def get_results(demo_results, behav_results):\n",
    "    \"\"\"Only one variable group (demographic or behavioral) will have the results, so determine which variable group has these results. \n",
    "    \"\"\"\n",
    "    print(type(demo_results), type(behav_results))\n",
    "    if bool(demo_results) == True:\n",
    "        return demo_results\n",
    "    if bool(behav_results) == True:\n",
    "        return behav_results"
   ]
  },
  {
   "cell_type": "code",
   "execution_count": 24,
   "id": "41afa007",
   "metadata": {},
   "outputs": [
    {
     "name": "stdout",
     "output_type": "stream",
     "text": [
      "<class 'dict'> <class 'dict'>\n"
     ]
    }
   ],
   "source": [
    "results = get_results(demo_results, behav_results)"
   ]
  },
  {
   "cell_type": "markdown",
   "id": "9fbc1bef",
   "metadata": {},
   "source": [
    "# Save Output or Report Error of Folder Not Existing"
   ]
  },
  {
   "cell_type": "code",
   "execution_count": 25,
   "id": "fb0fae2c",
   "metadata": {
    "editable": true,
    "slideshow": {
     "slide_type": ""
    },
    "tags": []
   },
   "outputs": [],
   "source": [
    "def dict_to_csv(data, filename, target_variable):\n",
    "\n",
    "    keys = data.keys()\n",
    "    values = data.values()\n",
    "\n",
    "    path = os.path.dirname(filename)\n",
    "\n",
    "    exists = os.path.exists(path)\n",
    "    if exists == True:\n",
    "        print(\"Path exists: \", path)\n",
    "        \n",
    "        with open(filename, 'w', newline='') as file:\n",
    "            writer = csv.writer(file)\n",
    "            writer.writerow(keys)\n",
    "            writer.writerow(values)\n",
    "\n",
    "        print(f\"CSV file '{filename}' has been created successfully.\")\n",
    "    else:\n",
    "        print(\"Path doesn't exists. Create a directory\")"
   ]
  },
  {
   "cell_type": "code",
   "execution_count": 26,
   "id": "9e2091ca",
   "metadata": {
    "editable": true,
    "slideshow": {
     "slide_type": ""
    },
    "tags": []
   },
   "outputs": [
    {
     "name": "stdout",
     "output_type": "stream",
     "text": [
      "Path exists:  ../results\n",
      "CSV file '../results/output.csv' has been created successfully.\n"
     ]
    }
   ],
   "source": [
    "dict_to_csv(results, output_csv, target_variable)"
   ]
  },
  {
   "cell_type": "code",
   "execution_count": 27,
   "id": "7ce01f7c",
   "metadata": {
    "editable": true,
    "slideshow": {
     "slide_type": ""
    },
    "tags": []
   },
   "outputs": [],
   "source": [
    "def dict_to_json(data, filename, target_variable):\n",
    "    \n",
    "    path = os.path.dirname(filename)\n",
    "    \n",
    "    exists = os.path.exists(path)\n",
    "    if exists == True:\n",
    "        print(\"Path exists: \", path)\n",
    "        \n",
    "        with open(filename, 'w') as file:\n",
    "            json.dump(data, file)\n",
    "\n",
    "        print(f\"JSON file '{filename}' has been created successfully.\")\n",
    "    else:\n",
    "        print(\"Path doesn't exists. Create a directory\")"
   ]
  },
  {
   "cell_type": "code",
   "execution_count": 28,
   "id": "57368e8f",
   "metadata": {
    "editable": true,
    "slideshow": {
     "slide_type": ""
    },
    "tags": []
   },
   "outputs": [
    {
     "name": "stdout",
     "output_type": "stream",
     "text": [
      "Path exists:  ../results\n",
      "JSON file '../results/output.json' has been created successfully.\n"
     ]
    }
   ],
   "source": [
    "dict_to_json(results, output_json, target_variable)"
   ]
  },
  {
   "cell_type": "code",
   "execution_count": null,
   "id": "44a3ef02",
   "metadata": {},
   "outputs": [],
   "source": []
  }
 ],
 "metadata": {
  "kernelspec": {
   "display_name": "Python 3 (ipykernel)",
   "language": "python",
   "name": "python3"
  },
  "language_info": {
   "codemirror_mode": {
    "name": "ipython",
    "version": 3
   },
   "file_extension": ".py",
   "mimetype": "text/x-python",
   "name": "python",
   "nbconvert_exporter": "python",
   "pygments_lexer": "ipython3",
   "version": "3.9.13"
  }
 },
 "nbformat": 4,
 "nbformat_minor": 5
}
