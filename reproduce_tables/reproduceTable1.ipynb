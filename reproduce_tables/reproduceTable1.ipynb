{
 "cells": [
  {
   "cell_type": "markdown",
   "id": "64798ca3",
   "metadata": {
    "tags": []
   },
   "source": [
    "# Reproduce Table 1\n",
    "- Py kernel\n",
    "- Verify by looking at [Table 1 in the Original Analysis paper](https://www.nature.com/articles/s41598-021-87029-w?proof=t%25C2%25A0) and by running `python3 demographics_day_night.py` [Original version](https://github.com/usc-sail/tiles-day-night/blob/main/code/ground_truth/demographics_day_night.py). Be sure to configure your file paths."
   ]
  },
  {
   "cell_type": "code",
   "execution_count": 1,
   "id": "d59b0210",
   "metadata": {},
   "outputs": [],
   "source": [
    "import pandas as pd\n",
    "import numpy as np\n",
    "import pingouin as pg\n",
    "\n",
    "from scipy import stats"
   ]
  },
  {
   "cell_type": "markdown",
   "id": "5ab473af",
   "metadata": {
    "tags": []
   },
   "source": [
    "# Load Data"
   ]
  },
  {
   "cell_type": "code",
   "execution_count": 2,
   "id": "6efa30a2",
   "metadata": {},
   "outputs": [],
   "source": [
    "base = \"/Users/brinkley97/Documents/development/lab-kcad/\"\n",
    "path_to_file = \"datasets/tiles_dataset/table_1/\"\n",
    "name_of_file = \"nurse_data.csv\"\n",
    "file = base + path_to_file + name_of_file"
   ]
  },
  {
   "cell_type": "code",
   "execution_count": 3,
   "id": "3514c099",
   "metadata": {},
   "outputs": [],
   "source": [
    "def load_data(file):\n",
    "    \n",
    "    original_data = pd.read_csv(file)\n",
    "    copy_of_data = original_data.copy()\n",
    "    \n",
    "    return copy_of_data"
   ]
  },
  {
   "cell_type": "code",
   "execution_count": 4,
   "id": "5323a389",
   "metadata": {},
   "outputs": [],
   "source": [
    "nurse_df = load_data(file)\n",
    "# nurse_df"
   ]
  },
  {
   "cell_type": "code",
   "execution_count": 5,
   "id": "dac641a0",
   "metadata": {},
   "outputs": [],
   "source": [
    "day_shift = nurse_df['Shift'] == 'Day shift'\n",
    "day_df = nurse_df.loc[day_shift]\n",
    "# day_df.head(5)"
   ]
  },
  {
   "cell_type": "code",
   "execution_count": 6,
   "id": "396d4bb7",
   "metadata": {},
   "outputs": [],
   "source": [
    "night_shift = nurse_df['Shift'] == 'Night shift'\n",
    "night_df = nurse_df.loc[night_shift]\n",
    "# night_df.head(5)"
   ]
  },
  {
   "cell_type": "markdown",
   "id": "995062e5",
   "metadata": {
    "tags": []
   },
   "source": [
    "# Load Generated Specific Questions"
   ]
  },
  {
   "cell_type": "code",
   "execution_count": 7,
   "id": "ad34900f",
   "metadata": {},
   "outputs": [],
   "source": [
    "generated_sq_file = \"TGN10Plus/generateSpecificQuestions.ipynb\"\n",
    "table_1_specific_questions_path = base + generated_sq_file\n",
    "# table_1_specific_questions_path"
   ]
  },
  {
   "cell_type": "code",
   "execution_count": 8,
   "id": "68c67f83",
   "metadata": {},
   "outputs": [],
   "source": [
    "%run \"../generateSpecificQuestions.ipynb\""
   ]
  },
  {
   "cell_type": "code",
   "execution_count": 9,
   "id": "c2b021ec",
   "metadata": {},
   "outputs": [],
   "source": [
    "# table_1_demographic_sqs, ontology_mappings"
   ]
  },
  {
   "cell_type": "code",
   "execution_count": 10,
   "id": "031efc6a",
   "metadata": {},
   "outputs": [],
   "source": [
    "demographic_ontology_keys = list(ontology_mappings[\"demographic\"])\n",
    "demographic_ontology_values = list(ontology_mappings.values())[6]\n",
    "\n",
    "# in demographic section, the line similiar to this next has keys and this one has values bc they are stored differently \n",
    "# in the ontology_mappings dict in generateSpecificQuestions.ipynb\n",
    "behavioral_ontology_values = list(ontology_mappings[\"behavioral\"])"
   ]
  },
  {
   "cell_type": "markdown",
   "id": "415417bb",
   "metadata": {},
   "source": [
    "# Run Analysis"
   ]
  },
  {
   "cell_type": "markdown",
   "id": "0504c032",
   "metadata": {
    "tags": []
   },
   "source": [
    "## Fisher Odds Test - Table 1"
   ]
  },
  {
   "cell_type": "code",
   "execution_count": 11,
   "id": "6e9bbc9f",
   "metadata": {},
   "outputs": [],
   "source": [
    "def fisher_odds_p_value(day_shift_df, night_shift_df, specific_demographic_ontology_key, demo_group_1, demo_group_2):\n",
    "    '''Calculate the fisher oddsratio and p-values for demographic ontologies using stats.fisher_exact() function\n",
    "    \n",
    "    Arguments:\n",
    "    day_shift_df -- Pandas DataFrame\n",
    "    night_shift_df -- Pandas DataFrame\n",
    "    demo -- str which is used as a column in the both Pandas DataFrames \n",
    "    demo_group_1 -- str which is used as a column in the both Pandas DataFrames \n",
    "    demo_group_2 -- str which is used as a column in the both Pandas DataFrames \n",
    "    \n",
    "    Return: \n",
    "    oddsratio and pvalue\n",
    "    '''\n",
    "    \n",
    "    tabel_df = pd.DataFrame(index=['day', 'night'], columns=[demo_group_1, demo_group_2])\n",
    "    tabel_df.loc['day', demo_group_1] = len(day_shift_df.loc[day_shift_df[specific_demographic_ontology_key] == demo_group_1])\n",
    "    tabel_df.loc['day', demo_group_2] = len(day_shift_df.loc[day_shift_df[specific_demographic_ontology_key] == demo_group_2])\n",
    "    tabel_df.loc['night', demo_group_1] = len(night_shift_df.loc[night_shift_df[specific_demographic_ontology_key] == demo_group_1])\n",
    "    tabel_df.loc['night', demo_group_2] = len(night_shift_df.loc[night_shift_df[specific_demographic_ontology_key] == demo_group_2])\n",
    "    oddsratio, pvalue = stats.fisher_exact(np.array(tabel_df))\n",
    "    \n",
    "    return 'oddsratio : %.3f, pvalue: %.3f \\n' % (oddsratio, pvalue)"
   ]
  },
  {
   "cell_type": "code",
   "execution_count": 12,
   "id": "956c6585",
   "metadata": {},
   "outputs": [],
   "source": [
    "def table_one_demo_ontologies(demo_specific_questions, demographic_ontology_keys, demographic_ontology_values):\n",
    "    '''Format data properly to pass into the fisher_odds_p_value() function\n",
    "    \n",
    "    Argument:\n",
    "    demo_specific_questions -- py list\n",
    "    demographic_ontology_keys -- py list\n",
    "    demographic_ontology_values -- py list\n",
    "    \n",
    "    Functions:\n",
    "    fisher_odds_p_value()\n",
    "    \n",
    "    Return:\n",
    "    p-values from fisher_odds_p_value() function -- list\n",
    "    '''\n",
    "    \n",
    "    store_p_values = []\n",
    "\n",
    "    for demo_specific_question in demo_specific_questions:\n",
    "        \n",
    "        \n",
    "        for specific_demographic_ontology_key in demographic_ontology_keys:\n",
    "            \n",
    "            if specific_demographic_ontology_key in demo_specific_question.split(\"*\"):\n",
    "                demo_group_1 = demographic_ontology_values[specific_demographic_ontology_key][0]\n",
    "                demo_group_2 = demographic_ontology_values[specific_demographic_ontology_key][1]\n",
    "               \n",
    "                p_value = fisher_odds_p_value(day_df, night_df, specific_demographic_ontology_key=specific_demographic_ontology_key, demo_group_1=demo_group_1, demo_group_2=demo_group_2)\n",
    "                store_p_values.append(specific_demographic_ontology_key)\n",
    "                store_p_values.append(p_value)\n",
    "                \n",
    "            else:\n",
    "                continue\n",
    " \n",
    "    return store_p_values"
   ]
  },
  {
   "cell_type": "code",
   "execution_count": 13,
   "id": "dec0dab8",
   "metadata": {},
   "outputs": [
    {
     "data": {
      "text/plain": [
       "['Gender',\n",
       " 'oddsratio : 1.188, pvalue: 0.829 \\n',\n",
       " 'Age',\n",
       " 'oddsratio : 0.517, pvalue: 0.160 \\n',\n",
       " 'Educ',\n",
       " 'oddsratio : 1.967, pvalue: 0.215 \\n',\n",
       " 'native_lang',\n",
       " 'oddsratio : nan, pvalue: 1.000 \\n']"
      ]
     },
     "execution_count": 13,
     "metadata": {},
     "output_type": "execute_result"
    }
   ],
   "source": [
    "table_one_demo_ontologies(table_1_demographic_sqs, demographic_ontology_keys, demographic_ontology_values)"
   ]
  },
  {
   "cell_type": "markdown",
   "id": "f45801e1",
   "metadata": {},
   "source": [
    "## TTest - Table 1"
   ]
  },
  {
   "cell_type": "code",
   "execution_count": 14,
   "id": "73c74e6d",
   "metadata": {},
   "outputs": [
    {
     "data": {
      "text/plain": [
       "['what are differences in primarily *day-shift* nurses and primarily *night-shift* nurses for *stai* ?',\n",
       " 'what are differences in primarily *day-shift* nurses and primarily *night-shift* nurses for *pan_PosAffect* ?',\n",
       " 'what are differences in primarily *day-shift* nurses and primarily *night-shift* nurses for *pan_NegAffect* ?',\n",
       " 'what are differences in primarily *day-shift* nurses and primarily *night-shift* nurses for *swls* ?',\n",
       " 'what are differences in primarily *day-shift* nurses and primarily *night-shift* nurses for *bfi_Neuroticism* ?',\n",
       " 'what are differences in primarily *day-shift* nurses and primarily *night-shift* nurses for *bfi_Conscientiousness* ?',\n",
       " 'what are differences in primarily *day-shift* nurses and primarily *night-shift* nurses for *bfi_Extraversion* ?',\n",
       " 'what are differences in primarily *day-shift* nurses and primarily *night-shift* nurses for *bfi_Agreeableness* ?',\n",
       " 'what are differences in primarily *day-shift* nurses and primarily *night-shift* nurses for *bfi_Openness* ?',\n",
       " 'what are differences in primarily *day-shift* nurses and primarily *night-shift* nurses for *psqi* ?']"
      ]
     },
     "execution_count": 14,
     "metadata": {},
     "output_type": "execute_result"
    }
   ],
   "source": [
    "table_1_behavioral_sqs"
   ]
  },
  {
   "cell_type": "code",
   "execution_count": 15,
   "id": "89616900",
   "metadata": {},
   "outputs": [],
   "source": [
    "def ttest_p_value(day_df, night_df, specific_behavioral_ontology_value):\n",
    "    '''Calculate the pingouin p-values for behavioral ontologies using the pg.ttest() function\n",
    "    \n",
    "    Arguments:\n",
    "    day_df -- Pandas DataFrame\n",
    "    night_df -- Pandas DataFrame\n",
    "    specific_behavioral_ontology_value -- str which is used as a column in the both Pandas DataFrames \n",
    "    \n",
    "    Return:\n",
    "    p-values from pg.ttest() function -- list\n",
    "    '''\n",
    "\n",
    "    p_values = []\n",
    "    result = pg.ttest(np.array(day_df[specific_behavioral_ontology_value].dropna()), np.array(night_df[specific_behavioral_ontology_value].dropna()))\n",
    "    p_values.append(specific_behavioral_ontology_value)\n",
    "    \n",
    "    p_val_results = result['p-val'].values[0]\n",
    "    p_values.append(p_val_results)\n",
    "    \n",
    "    return p_values"
   ]
  },
  {
   "cell_type": "code",
   "execution_count": 16,
   "id": "7f1755c1",
   "metadata": {},
   "outputs": [],
   "source": [
    "def table_one_behav(behav_specific_questions, behavioral_ontology_values):\n",
    "    '''Format data properly to pass into the ttest_p_value() function\n",
    "    \n",
    "    Argument:\n",
    "    behav_specific_questions -- list\n",
    "    \n",
    "    Functions:\n",
    "    ttest_p_value()\n",
    "    \n",
    "    Return:\n",
    "    p-values from ttest_p_value() -- list\n",
    "    '''\n",
    "    \n",
    "    store_p_values = [] \n",
    "\n",
    "    for behav_specific_question in behav_specific_questions:\n",
    "        \n",
    "        for specific_behavioral_ontology_value in behavioral_ontology_values:\n",
    "            \n",
    "            if specific_behavioral_ontology_value in behav_specific_question.split(\"*\"):\n",
    "                \n",
    "                p_value = ttest_p_value(day_df, night_df, specific_behavioral_ontology_value)\n",
    "                store_p_values.append(p_value)\n",
    "                behavioral_ontology_values.remove(specific_behavioral_ontology_value)\n",
    "                \n",
    "    return store_p_values"
   ]
  },
  {
   "cell_type": "code",
   "execution_count": 18,
   "id": "2aa6b116",
   "metadata": {},
   "outputs": [
    {
     "data": {
      "text/plain": [
       "[['stai', 0.13029739484895286],\n",
       " ['pan_PosAffect', 0.7641569165374072],\n",
       " ['pan_NegAffect', 0.0649083906530571],\n",
       " ['swls', 0.030358697165230476],\n",
       " ['bfi_Neuroticism', 0.16565089264601718],\n",
       " ['bfi_Conscientiousness', 0.6011217803816151],\n",
       " ['bfi_Extraversion', 0.6000875364762028],\n",
       " ['bfi_Agreeableness', 0.9944573236985323],\n",
       " ['bfi_Openness', 0.0582800859451143],\n",
       " ['psqi', 0.0040333134698801254]]"
      ]
     },
     "execution_count": 18,
     "metadata": {},
     "output_type": "execute_result"
    }
   ],
   "source": [
    "table_one_behav(table_1_behavioral_sqs, behavioral_ontology_values)"
   ]
  },
  {
   "cell_type": "code",
   "execution_count": null,
   "id": "127c36c3",
   "metadata": {},
   "outputs": [],
   "source": []
  }
 ],
 "metadata": {
  "kernelspec": {
   "display_name": "Python 3 (ipykernel)",
   "language": "python",
   "name": "python3"
  },
  "language_info": {
   "codemirror_mode": {
    "name": "ipython",
    "version": 3
   },
   "file_extension": ".py",
   "mimetype": "text/x-python",
   "name": "python",
   "nbconvert_exporter": "python",
   "pygments_lexer": "ipython3",
   "version": "3.9.13"
  }
 },
 "nbformat": 4,
 "nbformat_minor": 5
}
